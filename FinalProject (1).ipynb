{
  "nbformat": 4,
  "nbformat_minor": 0,
  "metadata": {
    "colab": {
      "provenance": []
    },
    "kernelspec": {
      "name": "python3",
      "display_name": "Python 3"
    },
    "language_info": {
      "name": "python"
    }
  },
  "cells": [
    {
      "cell_type": "markdown",
      "source": [
        "## **Gabe Davidson - Final Project**\n",
        "\n",
        "2338642\n",
        "---\n",
        "gadavidson@chapman.edu\n",
        "---\n",
        "CPSC-392\n",
        "---\n",
        "Final Project\n",
        "---"
      ],
      "metadata": {
        "id": "i-XHGmVDizRt"
      }
    },
    {
      "cell_type": "markdown",
      "source": [
        "https://www.bmc.com/blogs/mean-squared-error-r2-and-variance-in-regression-analysis/#:~:text=There%20is%20no%20correct%20value,means%20the%20model%20is%20perfect.\n",
        "\n",
        "https://stackoverflow.com/questions/37367405/python-scikit-learn-cant-handle-mix-of-multiclass-and-continuous"
      ],
      "metadata": {
        "id": "NrlzxlX4rEIb"
      }
    },
    {
      "cell_type": "code",
      "execution_count": null,
      "metadata": {
        "id": "Ld_1FIFvakTX"
      },
      "outputs": [],
      "source": [
        "# import necessary packages\n",
        "\n",
        "import warnings\n",
        "warnings.filterwarnings('ignore')\n",
        "\n",
        "import pandas as pd\n",
        "\n",
        "import numpy as np\n",
        "from plotnine import *\n",
        "from plotnine.data import mtcars\n",
        "import seaborn as sns\n",
        "\n",
        "from sklearn.linear_model import LogisticRegression # Logistic Regression Model\n",
        "from sklearn.linear_model import LinearRegression # Linear Regression Model\n",
        "from sklearn.neighbors import KNeighborsClassifier\n",
        "from sklearn.tree import DecisionTreeClassifier # Decision Tree\n",
        "from sklearn.preprocessing import StandardScaler #Z-score variables\n",
        "from sklearn.metrics import accuracy_score, confusion_matrix\n",
        "from sklearn.metrics import plot_confusion_matrix\n",
        "from sklearn.model_selection import GridSearchCV\n",
        "\n",
        "from sklearn.model_selection import train_test_split # simple TT split cv\n",
        "from sklearn.metrics import mean_squared_error, mean_absolute_error, r2_score #model evaluation\n",
        "\n",
        "%precision %.7g\n",
        "%matplotlib inline"
      ]
    },
    {
      "cell_type": "code",
      "source": [
        "# import datasets\n",
        "cluster_regions = pd.read_csv(\"https://raw.githubusercontent.com/gabedavidson/CPSC-392-Final-Project/main/cluster_regions.csv\")\n",
        "item_ids = pd.read_csv(\"https://raw.githubusercontent.com/gabedavidson/CPSC-392-Final-Project/main/item_ids.csv\")\n",
        "match_data = pd.read_csv(\"https://raw.githubusercontent.com/gabedavidson/CPSC-392-Final-Project/main/match.csv\")\n",
        "purchase_log = pd.read_csv(\"https://github.com/gabedavidson/CPSC-392-Final-Project/blob/main/purchase_log_limited.csv?raw=true\")\n",
        "player_data = pd.read_csv(\"https://raw.githubusercontent.com/gabedavidson/CPSC-392-Final-Project/main/players_limited.csv\")"
      ],
      "metadata": {
        "id": "NdKupXVVamVG"
      },
      "execution_count": null,
      "outputs": []
    },
    {
      "cell_type": "code",
      "source": [
        "# Dataset shapes before cleaning (for context)\n",
        "print(cluster_regions.shape)\n",
        "print(item_ids.shape)\n",
        "print(match_data.shape)\n",
        "print(purchase_log.shape)\n",
        "print(player_data.shape)"
      ],
      "metadata": {
        "colab": {
          "base_uri": "https://localhost:8080/"
        },
        "id": "H70NBezMe0go",
        "outputId": "b13a7b5d-62fc-470d-ff01-c42c81b117d6"
      },
      "execution_count": null,
      "outputs": [
        {
          "output_type": "stream",
          "name": "stdout",
          "text": [
            "(53, 2)\n",
            "(189, 2)\n",
            "(50000, 13)\n",
            "(1602897, 4)\n",
            "(99050, 73)\n"
          ]
        }
      ]
    },
    {
      "cell_type": "code",
      "source": [
        "# clean datasets\n",
        "cluster_regions = cluster_regions.dropna()\n",
        "cluster_regions.reset_index(inplace=True)\n",
        "\n",
        "item_ids = item_ids.dropna()\n",
        "item_ids.reset_index(inplace=True)\n",
        "\n",
        "purchase_log = purchase_log.dropna()\n",
        "purchase_log.reset_index(inplace=True)"
      ],
      "metadata": {
        "id": "EZUPNO4seitj"
      },
      "execution_count": null,
      "outputs": []
    },
    {
      "cell_type": "code",
      "source": [
        "# cleaning match_data and removing unnecessary categories\n",
        "match_data.drop(['first_blood_time', 'game_mode', 'negative_votes', 'positive_votes', 'duration', 'start_time'], axis=1, inplace=True)\n",
        "match_data.dropna(inplace=True)\n",
        "match_data.reset_index(inplace=True)"
      ],
      "metadata": {
        "id": "0NTUcME2iEAt"
      },
      "execution_count": null,
      "outputs": []
    },
    {
      "cell_type": "code",
      "source": [
        "# cleaning player_data and removing unnecessary categories\n",
        "player_data.drop(player_data.columns[23:], axis=1, inplace=True)\n",
        "player_data.drop(['stuns','gold_spent', 'hero_damage', 'hero_healing', 'tower_damage', 'account_id'], axis=1, inplace=True)\n",
        "player_data.dropna(inplace=True)\n",
        "player_data.reset_index(inplace=True)"
      ],
      "metadata": {
        "id": "1DtTDRFMiFu5"
      },
      "execution_count": null,
      "outputs": []
    },
    {
      "cell_type": "code",
      "source": [
        "# Datasets after cleaning (for context)\n",
        "print(cluster_regions.shape)\n",
        "print(item_ids.shape)\n",
        "print(match_data.shape)\n",
        "print(purchase_log.shape)\n",
        "print(player_data.shape)"
      ],
      "metadata": {
        "colab": {
          "base_uri": "https://localhost:8080/"
        },
        "id": "qxZrj_qKe-32",
        "outputId": "f4fc3079-32b8-4719-ca85-d7e94107d8c1"
      },
      "execution_count": null,
      "outputs": [
        {
          "output_type": "stream",
          "name": "stdout",
          "text": [
            "(53, 3)\n",
            "(189, 3)\n",
            "(50000, 8)\n",
            "(1602897, 5)\n",
            "(99050, 18)\n"
          ]
        }
      ]
    },
    {
      "cell_type": "markdown",
      "source": [
        "## **Some helpful functions...**\n",
        "\n",
        "Since I need to use data that is all over the many datasets I have, I put some time into making a bunch of helper functions so that I can manipulate my data consistently and effectively! (Plus I snuck in a logistic regression model function since, in my first question, I am going to be creating a bunch of them and don't want to remake the same over and over again! Yay functions!)"
      ],
      "metadata": {
        "id": "O6pcWGr9uyeY"
      }
    },
    {
      "cell_type": "code",
      "source": [
        "def create_secondary_dataframe(dataframes, cols_map, override_col=True):\n",
        "  \"\"\"\n",
        "  dataframes: list[pd.DataFrame] -> a list of dataframes to draw data from\n",
        "  cols_map: dict{(index: int) : list[col: str]} -> a dictionary where each key corresponds to a DataFrame in dataframes* and each value is a list of columns to grab from the corresponding dataframe\n",
        "\n",
        "  returns: pd.DataFrame\n",
        "  \"\"\"\n",
        "  if len(dataframes) != len(cols_map):\n",
        "    raise Exception(\"Index lengths do not match.\")\n",
        "\n",
        "  data = pd.DataFrame()\n",
        "  for dataset_index, cols in cols_map.items():\n",
        "    for col in cols:\n",
        "      name = col\n",
        "      if not override_col:\n",
        "        if name in data:\n",
        "          name = name + str(dataset_index)\n",
        "      data[name] = dataframes[dataset_index][col]\n",
        "\n",
        "\n",
        "  return data"
      ],
      "metadata": {
        "id": "17sWLAk9vAE-"
      },
      "execution_count": null,
      "outputs": []
    },
    {
      "cell_type": "code",
      "source": [
        "def replace_col_by_conditions(dataframe, to_replace, replace_to, conditions, names=[1, 0], arbitrary=-1, int_conditions=True):\n",
        "  \"\"\"\n",
        "  dataframe: pd.DataFrame -> the dataframe to manipulate\n",
        "  to_replace: str -> the column to replace, ex: ['player_slot']\n",
        "  replace_to: list[str] -> column names to replace to, ex: ['is_radiant']\n",
        "  conditions: list[list[replace_to index: int], list[condition], ...] -> replace conditions, ex: [[0, 0], [0,4], [128, 132]]\n",
        "  names: list[str] -> what you want to replace that col x row cell with by index, where the true condition is index 0 and false is index 1, ex: [True, False]\n",
        "  int_conditions: bool -> whether or not conditions are integers\n",
        "\n",
        "  returns: pd.DataFrame\n",
        "  \"\"\"\n",
        "\n",
        "  if len(conditions) - 1 != len(names):\n",
        "    raise Exception(\"Each condition result must have a name.\")\n",
        "\n",
        "  data = dataframe\n",
        "  index = -1\n",
        "\n",
        "  for col in replace_to:\n",
        "    data[col] = None\n",
        "  for value in data[to_replace]: # some value in the dataframe in a certain column, ex: 3\n",
        "    index += 1\n",
        "    name_index = -1\n",
        "    condition_index = 0\n",
        "    # for replace_col_index, _conditions in conditions.items(): # some index (which col to replace value at) and some set of conditions to test value on, ex: 0, [0, 4]\n",
        "    for replacement_col in conditions[0]:\n",
        "      name_index += 1\n",
        "      condition_index += 1\n",
        "      if int_conditions:\n",
        "        if min(conditions[condition_index]) <= value <= max(conditions[condition_index]): # check whether value fits conditions, ex: if 0 <= 3 <= 4\n",
        "          data[replace_to[replacement_col]].iloc[index] = names[name_index] # assigns to certain replace_to col at index *index to names[1] (true index)\n",
        "          break\n",
        "        else:\n",
        "          data[replace_to[replacement_col]].iloc[index] = arbitrary # data that does not fit any condition\n",
        "      else: # string conditions are assumed\n",
        "        if value in conditions[condition_index]:\n",
        "          data[replace_to[replacement_col]].iloc[index] = names[name_index]\n",
        "          break\n",
        "        else:\n",
        "          data[replace_to[replacement_col]].iloc[index] = arbitrary\n",
        "  \n",
        "  data.drop([to_replace], axis=1, inplace=True)\n",
        "  return data"
      ],
      "metadata": {
        "id": "UIc1uqeM2D8O"
      },
      "execution_count": null,
      "outputs": []
    },
    {
      "cell_type": "code",
      "source": [
        "def replace_col_by_contingency(dataframe, to_replace, replace_to, contingent_on, contingency_matrix=[0, 1], delete_contingency=False, arbitrary=-1):\n",
        "  \"\"\"\n",
        "  dataframe: pd.DataFrame -> dataframe to manipulate\n",
        "  to_replace: str -> column to replace\n",
        "  replace_to: str -> column to create and replace values into\n",
        "  contingent_on: str -> column to check (assumes boolean values initially)\n",
        "  contingency_matrix: list[int] -> how to manipulate data\n",
        "  delete_contingency: bool -> whether to delete contingent_on col\n",
        "  arbitrary: int -> replace values that do meet any condition with this\n",
        "  \"\"\"\n",
        "  \n",
        "  data = dataframe\n",
        "  data[replace_to] = None\n",
        "  index = -1\n",
        "\n",
        "  false = contingency_matrix[0]\n",
        "  true = contingency_matrix[1]\n",
        "\n",
        "  for value in data[to_replace]:\n",
        "    index += 1\n",
        "    if value == data[contingent_on].iloc[index]:\n",
        "      data[replace_to].iloc[index] = contingency_matrix[true]\n",
        "    elif value != data[contingent_on].iloc[index]:\n",
        "      data[replace_to].iloc[index] = contingency_matrix[false]\n",
        "    else:\n",
        "      data[replace_to].iloc[index] = arbitrary\n",
        "\n",
        "  data.drop([to_replace], axis=1, inplace=True)\n",
        "  if (delete_contingency):\n",
        "    data.drop([contingent_on], axis=1, inplace=True)\n",
        "\n",
        "  return data\n"
      ],
      "metadata": {
        "id": "TdyJPs2UQPme"
      },
      "execution_count": null,
      "outputs": []
    },
    {
      "cell_type": "code",
      "source": [
        "def extend_value_down(dataframe, col, step, start=0):\n",
        "  \"\"\"\n",
        "  dataframe: pd.DataFrame -> dataframe to manipulate\n",
        "  col: str -> column to manipulate\n",
        "  step: int -> number of indices to extend value by\n",
        "  start: int -> index to start at\n",
        "  \"\"\"\n",
        "\n",
        "  data = dataframe\n",
        "  value = None\n",
        "\n",
        "  for index in range(start, int(data.shape[0]), step):\n",
        "    value = data[col].iloc[index]\n",
        "    for row in range(index + 1, index + step):\n",
        "      data[col].iloc[row] = value\n",
        "\n",
        "  return data\n"
      ],
      "metadata": {
        "id": "e788hXlrIECF"
      },
      "execution_count": null,
      "outputs": []
    },
    {
      "cell_type": "code",
      "source": [
        "def replace_values_by_col(dataframe, to_replace, replace_by, start=0):\n",
        "  data = dataframe\n",
        "\n",
        "  for index in range(start, int(data.shape[0])):\n",
        "    data[to_replace].iloc[index] = data[replace_by].iloc[index]\n",
        "\n",
        "  return data"
      ],
      "metadata": {
        "id": "YJ_ZQ0F8wgbz"
      },
      "execution_count": null,
      "outputs": []
    },
    {
      "cell_type": "code",
      "source": [
        "def condense_rows_up(dataframe, skip=None, operation='+', step=5, start=0):\n",
        "  \"\"\"\n",
        "  \"\"\"\n",
        "  \n",
        "  data = dataframe\n",
        "  features = list(data.columns)\n",
        "\n",
        "  for feature in features:\n",
        "    if feature in skip:\n",
        "      continue\n",
        "    for index in range(start, int(data.shape[0] / step)):\n",
        "      for i in range(step-1):\n",
        "        if operation == '+':\n",
        "          data[feature].iloc[index * step + i]\n"
      ],
      "metadata": {
        "id": "OYlIy7tnqkDg"
      },
      "execution_count": null,
      "outputs": []
    },
    {
      "cell_type": "code",
      "source": [
        "def do_logistic_regression(dataframe, _predictors, product, cont = None, tts = None, test_size = .2, drop = None):\n",
        "  \"\"\"\n",
        "  dataframe: pd.DataFrame -> the dataset in question\n",
        "  product: str -> what we are predicting\n",
        "  cont: list[str] -> list of columns containing continous data\n",
        "      -> if cont is None we assume that all data is continuous\n",
        "  tts: list[Train Test Split!] -> in case I want to reuse the same training/testing data\n",
        "  test_size: float -> size of test set\n",
        "  drop: list[str] -> list of columns to drop before doing logistic regression\n",
        "\n",
        "  return: pd.DataFrame\n",
        "  \"\"\"\n",
        "\n",
        "  data = dataframe;\n",
        "  predictors = _predictors.copy()\n",
        "\n",
        "  if drop is not None:\n",
        "    for feature in drop:\n",
        "      predictors.remove(feature)\n",
        "\n",
        "  X = data[predictors]\n",
        "  y = data[product]\n",
        "  y = y.astype('int') # avoiding unknown label error\n",
        "\n",
        "  X_train, X_test, y_train, y_test = None, None, None, None\n",
        "\n",
        "  results = {\"model\": None, 'preds': None, 'coef': None, \"accuracy_score\": None, \"R2\": None, 'MSE': None}\n",
        "\n",
        "  if tts is None:\n",
        "    X_train, X_test, y_train, y_test = train_test_split(X, y, test_size=test_size)\n",
        "    z = StandardScaler()\n",
        "    if cont is None: # all data is continuous\n",
        "      z.fit(X_train)\n",
        "      X_train = z.transform(X_train)\n",
        "      X_test = z.transform(X_test)\n",
        "    else: # cont data has been specified\n",
        "      z.fit(X_train[cont])\n",
        "      X_train = z.transform(X_train[cont])\n",
        "      X_test = z.transform(X_test[cont])\n",
        "  else:\n",
        "    try:\n",
        "      # this assumes that TTS continuous data passed in is already z-scored!\n",
        "      X_train, X_test, y_train, y_test = tts[0], tts[1], tts[2], tts[3]\n",
        "    except:\n",
        "      raise Exception(\"TTS parameter input invalid!\")\n",
        "\n",
        "  logit = LogisticRegression(penalty=\"none\")\n",
        "  logit.fit(X_train, y_train)\n",
        "  \n",
        "  results['model'] = logit\n",
        "  results['preds'] = logit.predict(X_test)\n",
        "  results['coef'] = pd.DataFrame({\"Coefs\": logit.coef_[0], \"Names\": predictors})\n",
        "  results['accuracy_score'] = accuracy_score(y_test, results['preds'])\n",
        "  results['R2'] = r2_score(y_test, results['preds'])\n",
        "  results['MSE'] = mean_squared_error(y_test, results['preds'])\n",
        "  results['X_test'] = X_test\n",
        "  results['y_test'] = y_test\n",
        "  return results\n"
      ],
      "metadata": {
        "id": "Ovi4R-0_j25q"
      },
      "execution_count": null,
      "outputs": []
    },
    {
      "cell_type": "markdown",
      "source": [
        "## **Question 1: Data Setup!**\n",
        "\n",
        "In the following cells I will utilize the above helper functions to create pull data from many datasets and into one! Also, I will need to change certain features into others...!"
      ],
      "metadata": {
        "id": "p3ikfPloaKSt"
      }
    },
    {
      "cell_type": "code",
      "source": [
        "# create dataframe with pertinent data\n",
        "q1_data = create_secondary_dataframe([match_data, player_data], {0: [\"radiant_win\"], 1: [\"kills\", \"player_slot\", \"deaths\", \"assists\", 'last_hits', 'denies', 'gold_per_min', 'xp_per_min']})\n",
        "q1_data"
      ],
      "metadata": {
        "colab": {
          "base_uri": "https://localhost:8080/",
          "height": 424
        },
        "id": "OeiJd92iu3Ec",
        "outputId": "956e0cca-e32b-4730-b706-80959d710ab5"
      },
      "execution_count": null,
      "outputs": [
        {
          "output_type": "execute_result",
          "data": {
            "text/plain": [
              "       radiant_win  kills  player_slot  deaths  assists  last_hits  denies  \\\n",
              "0             True      9            0       3       18         30       1   \n",
              "1            False     13            1       3       18        109       9   \n",
              "2            False      0            2       4       15         58       1   \n",
              "3            False      8            3       4       19        271       6   \n",
              "4             True     20            4       3       17        245      13   \n",
              "...            ...    ...          ...     ...      ...        ...     ...   \n",
              "49995         True      6          128       4        8        150       2   \n",
              "49996         True      4          129       3       12         38       1   \n",
              "49997         True      3          130       8        7         17       2   \n",
              "49998         True      5          131       5        7        135       6   \n",
              "49999        False      3          132       5        7        137       2   \n",
              "\n",
              "       gold_per_min  xp_per_min  \n",
              "0               347         362  \n",
              "1               494         659  \n",
              "2               350         385  \n",
              "3               599         605  \n",
              "4               613         762  \n",
              "...             ...         ...  \n",
              "49995           365         400  \n",
              "49996           250         253  \n",
              "49997           207         210  \n",
              "49998           333         356  \n",
              "49999           315         367  \n",
              "\n",
              "[50000 rows x 9 columns]"
            ],
            "text/html": [
              "\n",
              "  <div id=\"df-3ffc68af-606a-4262-a1b5-056801246622\">\n",
              "    <div class=\"colab-df-container\">\n",
              "      <div>\n",
              "<style scoped>\n",
              "    .dataframe tbody tr th:only-of-type {\n",
              "        vertical-align: middle;\n",
              "    }\n",
              "\n",
              "    .dataframe tbody tr th {\n",
              "        vertical-align: top;\n",
              "    }\n",
              "\n",
              "    .dataframe thead th {\n",
              "        text-align: right;\n",
              "    }\n",
              "</style>\n",
              "<table border=\"1\" class=\"dataframe\">\n",
              "  <thead>\n",
              "    <tr style=\"text-align: right;\">\n",
              "      <th></th>\n",
              "      <th>radiant_win</th>\n",
              "      <th>kills</th>\n",
              "      <th>player_slot</th>\n",
              "      <th>deaths</th>\n",
              "      <th>assists</th>\n",
              "      <th>last_hits</th>\n",
              "      <th>denies</th>\n",
              "      <th>gold_per_min</th>\n",
              "      <th>xp_per_min</th>\n",
              "    </tr>\n",
              "  </thead>\n",
              "  <tbody>\n",
              "    <tr>\n",
              "      <th>0</th>\n",
              "      <td>True</td>\n",
              "      <td>9</td>\n",
              "      <td>0</td>\n",
              "      <td>3</td>\n",
              "      <td>18</td>\n",
              "      <td>30</td>\n",
              "      <td>1</td>\n",
              "      <td>347</td>\n",
              "      <td>362</td>\n",
              "    </tr>\n",
              "    <tr>\n",
              "      <th>1</th>\n",
              "      <td>False</td>\n",
              "      <td>13</td>\n",
              "      <td>1</td>\n",
              "      <td>3</td>\n",
              "      <td>18</td>\n",
              "      <td>109</td>\n",
              "      <td>9</td>\n",
              "      <td>494</td>\n",
              "      <td>659</td>\n",
              "    </tr>\n",
              "    <tr>\n",
              "      <th>2</th>\n",
              "      <td>False</td>\n",
              "      <td>0</td>\n",
              "      <td>2</td>\n",
              "      <td>4</td>\n",
              "      <td>15</td>\n",
              "      <td>58</td>\n",
              "      <td>1</td>\n",
              "      <td>350</td>\n",
              "      <td>385</td>\n",
              "    </tr>\n",
              "    <tr>\n",
              "      <th>3</th>\n",
              "      <td>False</td>\n",
              "      <td>8</td>\n",
              "      <td>3</td>\n",
              "      <td>4</td>\n",
              "      <td>19</td>\n",
              "      <td>271</td>\n",
              "      <td>6</td>\n",
              "      <td>599</td>\n",
              "      <td>605</td>\n",
              "    </tr>\n",
              "    <tr>\n",
              "      <th>4</th>\n",
              "      <td>True</td>\n",
              "      <td>20</td>\n",
              "      <td>4</td>\n",
              "      <td>3</td>\n",
              "      <td>17</td>\n",
              "      <td>245</td>\n",
              "      <td>13</td>\n",
              "      <td>613</td>\n",
              "      <td>762</td>\n",
              "    </tr>\n",
              "    <tr>\n",
              "      <th>...</th>\n",
              "      <td>...</td>\n",
              "      <td>...</td>\n",
              "      <td>...</td>\n",
              "      <td>...</td>\n",
              "      <td>...</td>\n",
              "      <td>...</td>\n",
              "      <td>...</td>\n",
              "      <td>...</td>\n",
              "      <td>...</td>\n",
              "    </tr>\n",
              "    <tr>\n",
              "      <th>49995</th>\n",
              "      <td>True</td>\n",
              "      <td>6</td>\n",
              "      <td>128</td>\n",
              "      <td>4</td>\n",
              "      <td>8</td>\n",
              "      <td>150</td>\n",
              "      <td>2</td>\n",
              "      <td>365</td>\n",
              "      <td>400</td>\n",
              "    </tr>\n",
              "    <tr>\n",
              "      <th>49996</th>\n",
              "      <td>True</td>\n",
              "      <td>4</td>\n",
              "      <td>129</td>\n",
              "      <td>3</td>\n",
              "      <td>12</td>\n",
              "      <td>38</td>\n",
              "      <td>1</td>\n",
              "      <td>250</td>\n",
              "      <td>253</td>\n",
              "    </tr>\n",
              "    <tr>\n",
              "      <th>49997</th>\n",
              "      <td>True</td>\n",
              "      <td>3</td>\n",
              "      <td>130</td>\n",
              "      <td>8</td>\n",
              "      <td>7</td>\n",
              "      <td>17</td>\n",
              "      <td>2</td>\n",
              "      <td>207</td>\n",
              "      <td>210</td>\n",
              "    </tr>\n",
              "    <tr>\n",
              "      <th>49998</th>\n",
              "      <td>True</td>\n",
              "      <td>5</td>\n",
              "      <td>131</td>\n",
              "      <td>5</td>\n",
              "      <td>7</td>\n",
              "      <td>135</td>\n",
              "      <td>6</td>\n",
              "      <td>333</td>\n",
              "      <td>356</td>\n",
              "    </tr>\n",
              "    <tr>\n",
              "      <th>49999</th>\n",
              "      <td>False</td>\n",
              "      <td>3</td>\n",
              "      <td>132</td>\n",
              "      <td>5</td>\n",
              "      <td>7</td>\n",
              "      <td>137</td>\n",
              "      <td>2</td>\n",
              "      <td>315</td>\n",
              "      <td>367</td>\n",
              "    </tr>\n",
              "  </tbody>\n",
              "</table>\n",
              "<p>50000 rows × 9 columns</p>\n",
              "</div>\n",
              "      <button class=\"colab-df-convert\" onclick=\"convertToInteractive('df-3ffc68af-606a-4262-a1b5-056801246622')\"\n",
              "              title=\"Convert this dataframe to an interactive table.\"\n",
              "              style=\"display:none;\">\n",
              "        \n",
              "  <svg xmlns=\"http://www.w3.org/2000/svg\" height=\"24px\"viewBox=\"0 0 24 24\"\n",
              "       width=\"24px\">\n",
              "    <path d=\"M0 0h24v24H0V0z\" fill=\"none\"/>\n",
              "    <path d=\"M18.56 5.44l.94 2.06.94-2.06 2.06-.94-2.06-.94-.94-2.06-.94 2.06-2.06.94zm-11 1L8.5 8.5l.94-2.06 2.06-.94-2.06-.94L8.5 2.5l-.94 2.06-2.06.94zm10 10l.94 2.06.94-2.06 2.06-.94-2.06-.94-.94-2.06-.94 2.06-2.06.94z\"/><path d=\"M17.41 7.96l-1.37-1.37c-.4-.4-.92-.59-1.43-.59-.52 0-1.04.2-1.43.59L10.3 9.45l-7.72 7.72c-.78.78-.78 2.05 0 2.83L4 21.41c.39.39.9.59 1.41.59.51 0 1.02-.2 1.41-.59l7.78-7.78 2.81-2.81c.8-.78.8-2.07 0-2.86zM5.41 20L4 18.59l7.72-7.72 1.47 1.35L5.41 20z\"/>\n",
              "  </svg>\n",
              "      </button>\n",
              "      \n",
              "  <style>\n",
              "    .colab-df-container {\n",
              "      display:flex;\n",
              "      flex-wrap:wrap;\n",
              "      gap: 12px;\n",
              "    }\n",
              "\n",
              "    .colab-df-convert {\n",
              "      background-color: #E8F0FE;\n",
              "      border: none;\n",
              "      border-radius: 50%;\n",
              "      cursor: pointer;\n",
              "      display: none;\n",
              "      fill: #1967D2;\n",
              "      height: 32px;\n",
              "      padding: 0 0 0 0;\n",
              "      width: 32px;\n",
              "    }\n",
              "\n",
              "    .colab-df-convert:hover {\n",
              "      background-color: #E2EBFA;\n",
              "      box-shadow: 0px 1px 2px rgba(60, 64, 67, 0.3), 0px 1px 3px 1px rgba(60, 64, 67, 0.15);\n",
              "      fill: #174EA6;\n",
              "    }\n",
              "\n",
              "    [theme=dark] .colab-df-convert {\n",
              "      background-color: #3B4455;\n",
              "      fill: #D2E3FC;\n",
              "    }\n",
              "\n",
              "    [theme=dark] .colab-df-convert:hover {\n",
              "      background-color: #434B5C;\n",
              "      box-shadow: 0px 1px 3px 1px rgba(0, 0, 0, 0.15);\n",
              "      filter: drop-shadow(0px 1px 2px rgba(0, 0, 0, 0.3));\n",
              "      fill: #FFFFFF;\n",
              "    }\n",
              "  </style>\n",
              "\n",
              "      <script>\n",
              "        const buttonEl =\n",
              "          document.querySelector('#df-3ffc68af-606a-4262-a1b5-056801246622 button.colab-df-convert');\n",
              "        buttonEl.style.display =\n",
              "          google.colab.kernel.accessAllowed ? 'block' : 'none';\n",
              "\n",
              "        async function convertToInteractive(key) {\n",
              "          const element = document.querySelector('#df-3ffc68af-606a-4262-a1b5-056801246622');\n",
              "          const dataTable =\n",
              "            await google.colab.kernel.invokeFunction('convertToInteractive',\n",
              "                                                     [key], {});\n",
              "          if (!dataTable) return;\n",
              "\n",
              "          const docLinkHtml = 'Like what you see? Visit the ' +\n",
              "            '<a target=\"_blank\" href=https://colab.research.google.com/notebooks/data_table.ipynb>data table notebook</a>'\n",
              "            + ' to learn more about interactive tables.';\n",
              "          element.innerHTML = '';\n",
              "          dataTable['output_type'] = 'display_data';\n",
              "          await google.colab.output.renderOutput(dataTable, element);\n",
              "          const docLink = document.createElement('div');\n",
              "          docLink.innerHTML = docLinkHtml;\n",
              "          element.appendChild(docLink);\n",
              "        }\n",
              "      </script>\n",
              "    </div>\n",
              "  </div>\n",
              "  "
            ]
          },
          "metadata": {},
          "execution_count": 15
        }
      ]
    },
    {
      "cell_type": "code",
      "source": [
        "# replace 'player_slot' with 'is_radiant'\n",
        "q1_data = replace_col_by_conditions(q1_data, \"player_slot\", ['is_radiant'], [[0, 0], [0,4], [128, 132]], [1, 0], True)\n",
        "q1_data"
      ],
      "metadata": {
        "colab": {
          "base_uri": "https://localhost:8080/",
          "height": 424
        },
        "id": "-JZpPoxH3ECf",
        "outputId": "c3131229-f95d-4dbc-f5e5-f1e6dfe4982a"
      },
      "execution_count": null,
      "outputs": [
        {
          "output_type": "execute_result",
          "data": {
            "text/plain": [
              "       radiant_win  kills  deaths  assists  last_hits  denies  gold_per_min  \\\n",
              "0             True      9       3       18         30       1           347   \n",
              "1            False     13       3       18        109       9           494   \n",
              "2            False      0       4       15         58       1           350   \n",
              "3            False      8       4       19        271       6           599   \n",
              "4             True     20       3       17        245      13           613   \n",
              "...            ...    ...     ...      ...        ...     ...           ...   \n",
              "49995         True      6       4        8        150       2           365   \n",
              "49996         True      4       3       12         38       1           250   \n",
              "49997         True      3       8        7         17       2           207   \n",
              "49998         True      5       5        7        135       6           333   \n",
              "49999        False      3       5        7        137       2           315   \n",
              "\n",
              "       xp_per_min is_radiant  \n",
              "0             362          1  \n",
              "1             659          1  \n",
              "2             385          1  \n",
              "3             605          1  \n",
              "4             762          1  \n",
              "...           ...        ...  \n",
              "49995         400          0  \n",
              "49996         253          0  \n",
              "49997         210          0  \n",
              "49998         356          0  \n",
              "49999         367          0  \n",
              "\n",
              "[50000 rows x 9 columns]"
            ],
            "text/html": [
              "\n",
              "  <div id=\"df-54b12108-8c73-48d2-92ff-f8aaa4a4292e\">\n",
              "    <div class=\"colab-df-container\">\n",
              "      <div>\n",
              "<style scoped>\n",
              "    .dataframe tbody tr th:only-of-type {\n",
              "        vertical-align: middle;\n",
              "    }\n",
              "\n",
              "    .dataframe tbody tr th {\n",
              "        vertical-align: top;\n",
              "    }\n",
              "\n",
              "    .dataframe thead th {\n",
              "        text-align: right;\n",
              "    }\n",
              "</style>\n",
              "<table border=\"1\" class=\"dataframe\">\n",
              "  <thead>\n",
              "    <tr style=\"text-align: right;\">\n",
              "      <th></th>\n",
              "      <th>radiant_win</th>\n",
              "      <th>kills</th>\n",
              "      <th>deaths</th>\n",
              "      <th>assists</th>\n",
              "      <th>last_hits</th>\n",
              "      <th>denies</th>\n",
              "      <th>gold_per_min</th>\n",
              "      <th>xp_per_min</th>\n",
              "      <th>is_radiant</th>\n",
              "    </tr>\n",
              "  </thead>\n",
              "  <tbody>\n",
              "    <tr>\n",
              "      <th>0</th>\n",
              "      <td>True</td>\n",
              "      <td>9</td>\n",
              "      <td>3</td>\n",
              "      <td>18</td>\n",
              "      <td>30</td>\n",
              "      <td>1</td>\n",
              "      <td>347</td>\n",
              "      <td>362</td>\n",
              "      <td>1</td>\n",
              "    </tr>\n",
              "    <tr>\n",
              "      <th>1</th>\n",
              "      <td>False</td>\n",
              "      <td>13</td>\n",
              "      <td>3</td>\n",
              "      <td>18</td>\n",
              "      <td>109</td>\n",
              "      <td>9</td>\n",
              "      <td>494</td>\n",
              "      <td>659</td>\n",
              "      <td>1</td>\n",
              "    </tr>\n",
              "    <tr>\n",
              "      <th>2</th>\n",
              "      <td>False</td>\n",
              "      <td>0</td>\n",
              "      <td>4</td>\n",
              "      <td>15</td>\n",
              "      <td>58</td>\n",
              "      <td>1</td>\n",
              "      <td>350</td>\n",
              "      <td>385</td>\n",
              "      <td>1</td>\n",
              "    </tr>\n",
              "    <tr>\n",
              "      <th>3</th>\n",
              "      <td>False</td>\n",
              "      <td>8</td>\n",
              "      <td>4</td>\n",
              "      <td>19</td>\n",
              "      <td>271</td>\n",
              "      <td>6</td>\n",
              "      <td>599</td>\n",
              "      <td>605</td>\n",
              "      <td>1</td>\n",
              "    </tr>\n",
              "    <tr>\n",
              "      <th>4</th>\n",
              "      <td>True</td>\n",
              "      <td>20</td>\n",
              "      <td>3</td>\n",
              "      <td>17</td>\n",
              "      <td>245</td>\n",
              "      <td>13</td>\n",
              "      <td>613</td>\n",
              "      <td>762</td>\n",
              "      <td>1</td>\n",
              "    </tr>\n",
              "    <tr>\n",
              "      <th>...</th>\n",
              "      <td>...</td>\n",
              "      <td>...</td>\n",
              "      <td>...</td>\n",
              "      <td>...</td>\n",
              "      <td>...</td>\n",
              "      <td>...</td>\n",
              "      <td>...</td>\n",
              "      <td>...</td>\n",
              "      <td>...</td>\n",
              "    </tr>\n",
              "    <tr>\n",
              "      <th>49995</th>\n",
              "      <td>True</td>\n",
              "      <td>6</td>\n",
              "      <td>4</td>\n",
              "      <td>8</td>\n",
              "      <td>150</td>\n",
              "      <td>2</td>\n",
              "      <td>365</td>\n",
              "      <td>400</td>\n",
              "      <td>0</td>\n",
              "    </tr>\n",
              "    <tr>\n",
              "      <th>49996</th>\n",
              "      <td>True</td>\n",
              "      <td>4</td>\n",
              "      <td>3</td>\n",
              "      <td>12</td>\n",
              "      <td>38</td>\n",
              "      <td>1</td>\n",
              "      <td>250</td>\n",
              "      <td>253</td>\n",
              "      <td>0</td>\n",
              "    </tr>\n",
              "    <tr>\n",
              "      <th>49997</th>\n",
              "      <td>True</td>\n",
              "      <td>3</td>\n",
              "      <td>8</td>\n",
              "      <td>7</td>\n",
              "      <td>17</td>\n",
              "      <td>2</td>\n",
              "      <td>207</td>\n",
              "      <td>210</td>\n",
              "      <td>0</td>\n",
              "    </tr>\n",
              "    <tr>\n",
              "      <th>49998</th>\n",
              "      <td>True</td>\n",
              "      <td>5</td>\n",
              "      <td>5</td>\n",
              "      <td>7</td>\n",
              "      <td>135</td>\n",
              "      <td>6</td>\n",
              "      <td>333</td>\n",
              "      <td>356</td>\n",
              "      <td>0</td>\n",
              "    </tr>\n",
              "    <tr>\n",
              "      <th>49999</th>\n",
              "      <td>False</td>\n",
              "      <td>3</td>\n",
              "      <td>5</td>\n",
              "      <td>7</td>\n",
              "      <td>137</td>\n",
              "      <td>2</td>\n",
              "      <td>315</td>\n",
              "      <td>367</td>\n",
              "      <td>0</td>\n",
              "    </tr>\n",
              "  </tbody>\n",
              "</table>\n",
              "<p>50000 rows × 9 columns</p>\n",
              "</div>\n",
              "      <button class=\"colab-df-convert\" onclick=\"convertToInteractive('df-54b12108-8c73-48d2-92ff-f8aaa4a4292e')\"\n",
              "              title=\"Convert this dataframe to an interactive table.\"\n",
              "              style=\"display:none;\">\n",
              "        \n",
              "  <svg xmlns=\"http://www.w3.org/2000/svg\" height=\"24px\"viewBox=\"0 0 24 24\"\n",
              "       width=\"24px\">\n",
              "    <path d=\"M0 0h24v24H0V0z\" fill=\"none\"/>\n",
              "    <path d=\"M18.56 5.44l.94 2.06.94-2.06 2.06-.94-2.06-.94-.94-2.06-.94 2.06-2.06.94zm-11 1L8.5 8.5l.94-2.06 2.06-.94-2.06-.94L8.5 2.5l-.94 2.06-2.06.94zm10 10l.94 2.06.94-2.06 2.06-.94-2.06-.94-.94-2.06-.94 2.06-2.06.94z\"/><path d=\"M17.41 7.96l-1.37-1.37c-.4-.4-.92-.59-1.43-.59-.52 0-1.04.2-1.43.59L10.3 9.45l-7.72 7.72c-.78.78-.78 2.05 0 2.83L4 21.41c.39.39.9.59 1.41.59.51 0 1.02-.2 1.41-.59l7.78-7.78 2.81-2.81c.8-.78.8-2.07 0-2.86zM5.41 20L4 18.59l7.72-7.72 1.47 1.35L5.41 20z\"/>\n",
              "  </svg>\n",
              "      </button>\n",
              "      \n",
              "  <style>\n",
              "    .colab-df-container {\n",
              "      display:flex;\n",
              "      flex-wrap:wrap;\n",
              "      gap: 12px;\n",
              "    }\n",
              "\n",
              "    .colab-df-convert {\n",
              "      background-color: #E8F0FE;\n",
              "      border: none;\n",
              "      border-radius: 50%;\n",
              "      cursor: pointer;\n",
              "      display: none;\n",
              "      fill: #1967D2;\n",
              "      height: 32px;\n",
              "      padding: 0 0 0 0;\n",
              "      width: 32px;\n",
              "    }\n",
              "\n",
              "    .colab-df-convert:hover {\n",
              "      background-color: #E2EBFA;\n",
              "      box-shadow: 0px 1px 2px rgba(60, 64, 67, 0.3), 0px 1px 3px 1px rgba(60, 64, 67, 0.15);\n",
              "      fill: #174EA6;\n",
              "    }\n",
              "\n",
              "    [theme=dark] .colab-df-convert {\n",
              "      background-color: #3B4455;\n",
              "      fill: #D2E3FC;\n",
              "    }\n",
              "\n",
              "    [theme=dark] .colab-df-convert:hover {\n",
              "      background-color: #434B5C;\n",
              "      box-shadow: 0px 1px 3px 1px rgba(0, 0, 0, 0.15);\n",
              "      filter: drop-shadow(0px 1px 2px rgba(0, 0, 0, 0.3));\n",
              "      fill: #FFFFFF;\n",
              "    }\n",
              "  </style>\n",
              "\n",
              "      <script>\n",
              "        const buttonEl =\n",
              "          document.querySelector('#df-54b12108-8c73-48d2-92ff-f8aaa4a4292e button.colab-df-convert');\n",
              "        buttonEl.style.display =\n",
              "          google.colab.kernel.accessAllowed ? 'block' : 'none';\n",
              "\n",
              "        async function convertToInteractive(key) {\n",
              "          const element = document.querySelector('#df-54b12108-8c73-48d2-92ff-f8aaa4a4292e');\n",
              "          const dataTable =\n",
              "            await google.colab.kernel.invokeFunction('convertToInteractive',\n",
              "                                                     [key], {});\n",
              "          if (!dataTable) return;\n",
              "\n",
              "          const docLinkHtml = 'Like what you see? Visit the ' +\n",
              "            '<a target=\"_blank\" href=https://colab.research.google.com/notebooks/data_table.ipynb>data table notebook</a>'\n",
              "            + ' to learn more about interactive tables.';\n",
              "          element.innerHTML = '';\n",
              "          dataTable['output_type'] = 'display_data';\n",
              "          await google.colab.output.renderOutput(dataTable, element);\n",
              "          const docLink = document.createElement('div');\n",
              "          docLink.innerHTML = docLinkHtml;\n",
              "          element.appendChild(docLink);\n",
              "        }\n",
              "      </script>\n",
              "    </div>\n",
              "  </div>\n",
              "  "
            ]
          },
          "metadata": {},
          "execution_count": 16
        }
      ]
    },
    {
      "cell_type": "code",
      "source": [
        "q1_data = extend_value_down(q1_data, \"radiant_win\", 5)\n",
        "q1_data"
      ],
      "metadata": {
        "colab": {
          "base_uri": "https://localhost:8080/",
          "height": 424
        },
        "id": "b-4D9stuM1Ls",
        "outputId": "d77b9570-9f26-4657-82f4-90d53446f500"
      },
      "execution_count": null,
      "outputs": [
        {
          "output_type": "execute_result",
          "data": {
            "text/plain": [
              "       radiant_win  kills  deaths  assists  last_hits  denies  gold_per_min  \\\n",
              "0             True      9       3       18         30       1           347   \n",
              "1             True     13       3       18        109       9           494   \n",
              "2             True      0       4       15         58       1           350   \n",
              "3             True      8       4       19        271       6           599   \n",
              "4             True     20       3       17        245      13           613   \n",
              "...            ...    ...     ...      ...        ...     ...           ...   \n",
              "49995         True      6       4        8        150       2           365   \n",
              "49996         True      4       3       12         38       1           250   \n",
              "49997         True      3       8        7         17       2           207   \n",
              "49998         True      5       5        7        135       6           333   \n",
              "49999         True      3       5        7        137       2           315   \n",
              "\n",
              "       xp_per_min is_radiant  \n",
              "0             362          1  \n",
              "1             659          1  \n",
              "2             385          1  \n",
              "3             605          1  \n",
              "4             762          1  \n",
              "...           ...        ...  \n",
              "49995         400          0  \n",
              "49996         253          0  \n",
              "49997         210          0  \n",
              "49998         356          0  \n",
              "49999         367          0  \n",
              "\n",
              "[50000 rows x 9 columns]"
            ],
            "text/html": [
              "\n",
              "  <div id=\"df-165ffc65-9f61-483f-aa9f-1305a728cc3b\">\n",
              "    <div class=\"colab-df-container\">\n",
              "      <div>\n",
              "<style scoped>\n",
              "    .dataframe tbody tr th:only-of-type {\n",
              "        vertical-align: middle;\n",
              "    }\n",
              "\n",
              "    .dataframe tbody tr th {\n",
              "        vertical-align: top;\n",
              "    }\n",
              "\n",
              "    .dataframe thead th {\n",
              "        text-align: right;\n",
              "    }\n",
              "</style>\n",
              "<table border=\"1\" class=\"dataframe\">\n",
              "  <thead>\n",
              "    <tr style=\"text-align: right;\">\n",
              "      <th></th>\n",
              "      <th>radiant_win</th>\n",
              "      <th>kills</th>\n",
              "      <th>deaths</th>\n",
              "      <th>assists</th>\n",
              "      <th>last_hits</th>\n",
              "      <th>denies</th>\n",
              "      <th>gold_per_min</th>\n",
              "      <th>xp_per_min</th>\n",
              "      <th>is_radiant</th>\n",
              "    </tr>\n",
              "  </thead>\n",
              "  <tbody>\n",
              "    <tr>\n",
              "      <th>0</th>\n",
              "      <td>True</td>\n",
              "      <td>9</td>\n",
              "      <td>3</td>\n",
              "      <td>18</td>\n",
              "      <td>30</td>\n",
              "      <td>1</td>\n",
              "      <td>347</td>\n",
              "      <td>362</td>\n",
              "      <td>1</td>\n",
              "    </tr>\n",
              "    <tr>\n",
              "      <th>1</th>\n",
              "      <td>True</td>\n",
              "      <td>13</td>\n",
              "      <td>3</td>\n",
              "      <td>18</td>\n",
              "      <td>109</td>\n",
              "      <td>9</td>\n",
              "      <td>494</td>\n",
              "      <td>659</td>\n",
              "      <td>1</td>\n",
              "    </tr>\n",
              "    <tr>\n",
              "      <th>2</th>\n",
              "      <td>True</td>\n",
              "      <td>0</td>\n",
              "      <td>4</td>\n",
              "      <td>15</td>\n",
              "      <td>58</td>\n",
              "      <td>1</td>\n",
              "      <td>350</td>\n",
              "      <td>385</td>\n",
              "      <td>1</td>\n",
              "    </tr>\n",
              "    <tr>\n",
              "      <th>3</th>\n",
              "      <td>True</td>\n",
              "      <td>8</td>\n",
              "      <td>4</td>\n",
              "      <td>19</td>\n",
              "      <td>271</td>\n",
              "      <td>6</td>\n",
              "      <td>599</td>\n",
              "      <td>605</td>\n",
              "      <td>1</td>\n",
              "    </tr>\n",
              "    <tr>\n",
              "      <th>4</th>\n",
              "      <td>True</td>\n",
              "      <td>20</td>\n",
              "      <td>3</td>\n",
              "      <td>17</td>\n",
              "      <td>245</td>\n",
              "      <td>13</td>\n",
              "      <td>613</td>\n",
              "      <td>762</td>\n",
              "      <td>1</td>\n",
              "    </tr>\n",
              "    <tr>\n",
              "      <th>...</th>\n",
              "      <td>...</td>\n",
              "      <td>...</td>\n",
              "      <td>...</td>\n",
              "      <td>...</td>\n",
              "      <td>...</td>\n",
              "      <td>...</td>\n",
              "      <td>...</td>\n",
              "      <td>...</td>\n",
              "      <td>...</td>\n",
              "    </tr>\n",
              "    <tr>\n",
              "      <th>49995</th>\n",
              "      <td>True</td>\n",
              "      <td>6</td>\n",
              "      <td>4</td>\n",
              "      <td>8</td>\n",
              "      <td>150</td>\n",
              "      <td>2</td>\n",
              "      <td>365</td>\n",
              "      <td>400</td>\n",
              "      <td>0</td>\n",
              "    </tr>\n",
              "    <tr>\n",
              "      <th>49996</th>\n",
              "      <td>True</td>\n",
              "      <td>4</td>\n",
              "      <td>3</td>\n",
              "      <td>12</td>\n",
              "      <td>38</td>\n",
              "      <td>1</td>\n",
              "      <td>250</td>\n",
              "      <td>253</td>\n",
              "      <td>0</td>\n",
              "    </tr>\n",
              "    <tr>\n",
              "      <th>49997</th>\n",
              "      <td>True</td>\n",
              "      <td>3</td>\n",
              "      <td>8</td>\n",
              "      <td>7</td>\n",
              "      <td>17</td>\n",
              "      <td>2</td>\n",
              "      <td>207</td>\n",
              "      <td>210</td>\n",
              "      <td>0</td>\n",
              "    </tr>\n",
              "    <tr>\n",
              "      <th>49998</th>\n",
              "      <td>True</td>\n",
              "      <td>5</td>\n",
              "      <td>5</td>\n",
              "      <td>7</td>\n",
              "      <td>135</td>\n",
              "      <td>6</td>\n",
              "      <td>333</td>\n",
              "      <td>356</td>\n",
              "      <td>0</td>\n",
              "    </tr>\n",
              "    <tr>\n",
              "      <th>49999</th>\n",
              "      <td>True</td>\n",
              "      <td>3</td>\n",
              "      <td>5</td>\n",
              "      <td>7</td>\n",
              "      <td>137</td>\n",
              "      <td>2</td>\n",
              "      <td>315</td>\n",
              "      <td>367</td>\n",
              "      <td>0</td>\n",
              "    </tr>\n",
              "  </tbody>\n",
              "</table>\n",
              "<p>50000 rows × 9 columns</p>\n",
              "</div>\n",
              "      <button class=\"colab-df-convert\" onclick=\"convertToInteractive('df-165ffc65-9f61-483f-aa9f-1305a728cc3b')\"\n",
              "              title=\"Convert this dataframe to an interactive table.\"\n",
              "              style=\"display:none;\">\n",
              "        \n",
              "  <svg xmlns=\"http://www.w3.org/2000/svg\" height=\"24px\"viewBox=\"0 0 24 24\"\n",
              "       width=\"24px\">\n",
              "    <path d=\"M0 0h24v24H0V0z\" fill=\"none\"/>\n",
              "    <path d=\"M18.56 5.44l.94 2.06.94-2.06 2.06-.94-2.06-.94-.94-2.06-.94 2.06-2.06.94zm-11 1L8.5 8.5l.94-2.06 2.06-.94-2.06-.94L8.5 2.5l-.94 2.06-2.06.94zm10 10l.94 2.06.94-2.06 2.06-.94-2.06-.94-.94-2.06-.94 2.06-2.06.94z\"/><path d=\"M17.41 7.96l-1.37-1.37c-.4-.4-.92-.59-1.43-.59-.52 0-1.04.2-1.43.59L10.3 9.45l-7.72 7.72c-.78.78-.78 2.05 0 2.83L4 21.41c.39.39.9.59 1.41.59.51 0 1.02-.2 1.41-.59l7.78-7.78 2.81-2.81c.8-.78.8-2.07 0-2.86zM5.41 20L4 18.59l7.72-7.72 1.47 1.35L5.41 20z\"/>\n",
              "  </svg>\n",
              "      </button>\n",
              "      \n",
              "  <style>\n",
              "    .colab-df-container {\n",
              "      display:flex;\n",
              "      flex-wrap:wrap;\n",
              "      gap: 12px;\n",
              "    }\n",
              "\n",
              "    .colab-df-convert {\n",
              "      background-color: #E8F0FE;\n",
              "      border: none;\n",
              "      border-radius: 50%;\n",
              "      cursor: pointer;\n",
              "      display: none;\n",
              "      fill: #1967D2;\n",
              "      height: 32px;\n",
              "      padding: 0 0 0 0;\n",
              "      width: 32px;\n",
              "    }\n",
              "\n",
              "    .colab-df-convert:hover {\n",
              "      background-color: #E2EBFA;\n",
              "      box-shadow: 0px 1px 2px rgba(60, 64, 67, 0.3), 0px 1px 3px 1px rgba(60, 64, 67, 0.15);\n",
              "      fill: #174EA6;\n",
              "    }\n",
              "\n",
              "    [theme=dark] .colab-df-convert {\n",
              "      background-color: #3B4455;\n",
              "      fill: #D2E3FC;\n",
              "    }\n",
              "\n",
              "    [theme=dark] .colab-df-convert:hover {\n",
              "      background-color: #434B5C;\n",
              "      box-shadow: 0px 1px 3px 1px rgba(0, 0, 0, 0.15);\n",
              "      filter: drop-shadow(0px 1px 2px rgba(0, 0, 0, 0.3));\n",
              "      fill: #FFFFFF;\n",
              "    }\n",
              "  </style>\n",
              "\n",
              "      <script>\n",
              "        const buttonEl =\n",
              "          document.querySelector('#df-165ffc65-9f61-483f-aa9f-1305a728cc3b button.colab-df-convert');\n",
              "        buttonEl.style.display =\n",
              "          google.colab.kernel.accessAllowed ? 'block' : 'none';\n",
              "\n",
              "        async function convertToInteractive(key) {\n",
              "          const element = document.querySelector('#df-165ffc65-9f61-483f-aa9f-1305a728cc3b');\n",
              "          const dataTable =\n",
              "            await google.colab.kernel.invokeFunction('convertToInteractive',\n",
              "                                                     [key], {});\n",
              "          if (!dataTable) return;\n",
              "\n",
              "          const docLinkHtml = 'Like what you see? Visit the ' +\n",
              "            '<a target=\"_blank\" href=https://colab.research.google.com/notebooks/data_table.ipynb>data table notebook</a>'\n",
              "            + ' to learn more about interactive tables.';\n",
              "          element.innerHTML = '';\n",
              "          dataTable['output_type'] = 'display_data';\n",
              "          await google.colab.output.renderOutput(dataTable, element);\n",
              "          const docLink = document.createElement('div');\n",
              "          docLink.innerHTML = docLinkHtml;\n",
              "          element.appendChild(docLink);\n",
              "        }\n",
              "      </script>\n",
              "    </div>\n",
              "  </div>\n",
              "  "
            ]
          },
          "metadata": {},
          "execution_count": 17
        }
      ]
    },
    {
      "cell_type": "code",
      "source": [
        "# replace is_radiant (and radiant_win) with 'won_game'\n",
        "q1_data = replace_col_by_contingency(q1_data, 'is_radiant', 'won_game', 'radiant_win', delete_contingency=True)\n",
        "q1_data"
      ],
      "metadata": {
        "colab": {
          "base_uri": "https://localhost:8080/",
          "height": 424
        },
        "id": "QWmuPeLx_3fW",
        "outputId": "95220b78-9869-41d0-f418-3e05962b9502"
      },
      "execution_count": null,
      "outputs": [
        {
          "output_type": "execute_result",
          "data": {
            "text/plain": [
              "       kills  deaths  assists  last_hits  denies  gold_per_min  xp_per_min  \\\n",
              "0          9       3       18         30       1           347         362   \n",
              "1         13       3       18        109       9           494         659   \n",
              "2          0       4       15         58       1           350         385   \n",
              "3          8       4       19        271       6           599         605   \n",
              "4         20       3       17        245      13           613         762   \n",
              "...      ...     ...      ...        ...     ...           ...         ...   \n",
              "49995      6       4        8        150       2           365         400   \n",
              "49996      4       3       12         38       1           250         253   \n",
              "49997      3       8        7         17       2           207         210   \n",
              "49998      5       5        7        135       6           333         356   \n",
              "49999      3       5        7        137       2           315         367   \n",
              "\n",
              "      won_game  \n",
              "0            1  \n",
              "1            1  \n",
              "2            1  \n",
              "3            1  \n",
              "4            1  \n",
              "...        ...  \n",
              "49995        0  \n",
              "49996        0  \n",
              "49997        0  \n",
              "49998        0  \n",
              "49999        0  \n",
              "\n",
              "[50000 rows x 8 columns]"
            ],
            "text/html": [
              "\n",
              "  <div id=\"df-c8d515af-3233-4089-bff9-2153f906b76e\">\n",
              "    <div class=\"colab-df-container\">\n",
              "      <div>\n",
              "<style scoped>\n",
              "    .dataframe tbody tr th:only-of-type {\n",
              "        vertical-align: middle;\n",
              "    }\n",
              "\n",
              "    .dataframe tbody tr th {\n",
              "        vertical-align: top;\n",
              "    }\n",
              "\n",
              "    .dataframe thead th {\n",
              "        text-align: right;\n",
              "    }\n",
              "</style>\n",
              "<table border=\"1\" class=\"dataframe\">\n",
              "  <thead>\n",
              "    <tr style=\"text-align: right;\">\n",
              "      <th></th>\n",
              "      <th>kills</th>\n",
              "      <th>deaths</th>\n",
              "      <th>assists</th>\n",
              "      <th>last_hits</th>\n",
              "      <th>denies</th>\n",
              "      <th>gold_per_min</th>\n",
              "      <th>xp_per_min</th>\n",
              "      <th>won_game</th>\n",
              "    </tr>\n",
              "  </thead>\n",
              "  <tbody>\n",
              "    <tr>\n",
              "      <th>0</th>\n",
              "      <td>9</td>\n",
              "      <td>3</td>\n",
              "      <td>18</td>\n",
              "      <td>30</td>\n",
              "      <td>1</td>\n",
              "      <td>347</td>\n",
              "      <td>362</td>\n",
              "      <td>1</td>\n",
              "    </tr>\n",
              "    <tr>\n",
              "      <th>1</th>\n",
              "      <td>13</td>\n",
              "      <td>3</td>\n",
              "      <td>18</td>\n",
              "      <td>109</td>\n",
              "      <td>9</td>\n",
              "      <td>494</td>\n",
              "      <td>659</td>\n",
              "      <td>1</td>\n",
              "    </tr>\n",
              "    <tr>\n",
              "      <th>2</th>\n",
              "      <td>0</td>\n",
              "      <td>4</td>\n",
              "      <td>15</td>\n",
              "      <td>58</td>\n",
              "      <td>1</td>\n",
              "      <td>350</td>\n",
              "      <td>385</td>\n",
              "      <td>1</td>\n",
              "    </tr>\n",
              "    <tr>\n",
              "      <th>3</th>\n",
              "      <td>8</td>\n",
              "      <td>4</td>\n",
              "      <td>19</td>\n",
              "      <td>271</td>\n",
              "      <td>6</td>\n",
              "      <td>599</td>\n",
              "      <td>605</td>\n",
              "      <td>1</td>\n",
              "    </tr>\n",
              "    <tr>\n",
              "      <th>4</th>\n",
              "      <td>20</td>\n",
              "      <td>3</td>\n",
              "      <td>17</td>\n",
              "      <td>245</td>\n",
              "      <td>13</td>\n",
              "      <td>613</td>\n",
              "      <td>762</td>\n",
              "      <td>1</td>\n",
              "    </tr>\n",
              "    <tr>\n",
              "      <th>...</th>\n",
              "      <td>...</td>\n",
              "      <td>...</td>\n",
              "      <td>...</td>\n",
              "      <td>...</td>\n",
              "      <td>...</td>\n",
              "      <td>...</td>\n",
              "      <td>...</td>\n",
              "      <td>...</td>\n",
              "    </tr>\n",
              "    <tr>\n",
              "      <th>49995</th>\n",
              "      <td>6</td>\n",
              "      <td>4</td>\n",
              "      <td>8</td>\n",
              "      <td>150</td>\n",
              "      <td>2</td>\n",
              "      <td>365</td>\n",
              "      <td>400</td>\n",
              "      <td>0</td>\n",
              "    </tr>\n",
              "    <tr>\n",
              "      <th>49996</th>\n",
              "      <td>4</td>\n",
              "      <td>3</td>\n",
              "      <td>12</td>\n",
              "      <td>38</td>\n",
              "      <td>1</td>\n",
              "      <td>250</td>\n",
              "      <td>253</td>\n",
              "      <td>0</td>\n",
              "    </tr>\n",
              "    <tr>\n",
              "      <th>49997</th>\n",
              "      <td>3</td>\n",
              "      <td>8</td>\n",
              "      <td>7</td>\n",
              "      <td>17</td>\n",
              "      <td>2</td>\n",
              "      <td>207</td>\n",
              "      <td>210</td>\n",
              "      <td>0</td>\n",
              "    </tr>\n",
              "    <tr>\n",
              "      <th>49998</th>\n",
              "      <td>5</td>\n",
              "      <td>5</td>\n",
              "      <td>7</td>\n",
              "      <td>135</td>\n",
              "      <td>6</td>\n",
              "      <td>333</td>\n",
              "      <td>356</td>\n",
              "      <td>0</td>\n",
              "    </tr>\n",
              "    <tr>\n",
              "      <th>49999</th>\n",
              "      <td>3</td>\n",
              "      <td>5</td>\n",
              "      <td>7</td>\n",
              "      <td>137</td>\n",
              "      <td>2</td>\n",
              "      <td>315</td>\n",
              "      <td>367</td>\n",
              "      <td>0</td>\n",
              "    </tr>\n",
              "  </tbody>\n",
              "</table>\n",
              "<p>50000 rows × 8 columns</p>\n",
              "</div>\n",
              "      <button class=\"colab-df-convert\" onclick=\"convertToInteractive('df-c8d515af-3233-4089-bff9-2153f906b76e')\"\n",
              "              title=\"Convert this dataframe to an interactive table.\"\n",
              "              style=\"display:none;\">\n",
              "        \n",
              "  <svg xmlns=\"http://www.w3.org/2000/svg\" height=\"24px\"viewBox=\"0 0 24 24\"\n",
              "       width=\"24px\">\n",
              "    <path d=\"M0 0h24v24H0V0z\" fill=\"none\"/>\n",
              "    <path d=\"M18.56 5.44l.94 2.06.94-2.06 2.06-.94-2.06-.94-.94-2.06-.94 2.06-2.06.94zm-11 1L8.5 8.5l.94-2.06 2.06-.94-2.06-.94L8.5 2.5l-.94 2.06-2.06.94zm10 10l.94 2.06.94-2.06 2.06-.94-2.06-.94-.94-2.06-.94 2.06-2.06.94z\"/><path d=\"M17.41 7.96l-1.37-1.37c-.4-.4-.92-.59-1.43-.59-.52 0-1.04.2-1.43.59L10.3 9.45l-7.72 7.72c-.78.78-.78 2.05 0 2.83L4 21.41c.39.39.9.59 1.41.59.51 0 1.02-.2 1.41-.59l7.78-7.78 2.81-2.81c.8-.78.8-2.07 0-2.86zM5.41 20L4 18.59l7.72-7.72 1.47 1.35L5.41 20z\"/>\n",
              "  </svg>\n",
              "      </button>\n",
              "      \n",
              "  <style>\n",
              "    .colab-df-container {\n",
              "      display:flex;\n",
              "      flex-wrap:wrap;\n",
              "      gap: 12px;\n",
              "    }\n",
              "\n",
              "    .colab-df-convert {\n",
              "      background-color: #E8F0FE;\n",
              "      border: none;\n",
              "      border-radius: 50%;\n",
              "      cursor: pointer;\n",
              "      display: none;\n",
              "      fill: #1967D2;\n",
              "      height: 32px;\n",
              "      padding: 0 0 0 0;\n",
              "      width: 32px;\n",
              "    }\n",
              "\n",
              "    .colab-df-convert:hover {\n",
              "      background-color: #E2EBFA;\n",
              "      box-shadow: 0px 1px 2px rgba(60, 64, 67, 0.3), 0px 1px 3px 1px rgba(60, 64, 67, 0.15);\n",
              "      fill: #174EA6;\n",
              "    }\n",
              "\n",
              "    [theme=dark] .colab-df-convert {\n",
              "      background-color: #3B4455;\n",
              "      fill: #D2E3FC;\n",
              "    }\n",
              "\n",
              "    [theme=dark] .colab-df-convert:hover {\n",
              "      background-color: #434B5C;\n",
              "      box-shadow: 0px 1px 3px 1px rgba(0, 0, 0, 0.15);\n",
              "      filter: drop-shadow(0px 1px 2px rgba(0, 0, 0, 0.3));\n",
              "      fill: #FFFFFF;\n",
              "    }\n",
              "  </style>\n",
              "\n",
              "      <script>\n",
              "        const buttonEl =\n",
              "          document.querySelector('#df-c8d515af-3233-4089-bff9-2153f906b76e button.colab-df-convert');\n",
              "        buttonEl.style.display =\n",
              "          google.colab.kernel.accessAllowed ? 'block' : 'none';\n",
              "\n",
              "        async function convertToInteractive(key) {\n",
              "          const element = document.querySelector('#df-c8d515af-3233-4089-bff9-2153f906b76e');\n",
              "          const dataTable =\n",
              "            await google.colab.kernel.invokeFunction('convertToInteractive',\n",
              "                                                     [key], {});\n",
              "          if (!dataTable) return;\n",
              "\n",
              "          const docLinkHtml = 'Like what you see? Visit the ' +\n",
              "            '<a target=\"_blank\" href=https://colab.research.google.com/notebooks/data_table.ipynb>data table notebook</a>'\n",
              "            + ' to learn more about interactive tables.';\n",
              "          element.innerHTML = '';\n",
              "          dataTable['output_type'] = 'display_data';\n",
              "          await google.colab.output.renderOutput(dataTable, element);\n",
              "          const docLink = document.createElement('div');\n",
              "          docLink.innerHTML = docLinkHtml;\n",
              "          element.appendChild(docLink);\n",
              "        }\n",
              "      </script>\n",
              "    </div>\n",
              "  </div>\n",
              "  "
            ]
          },
          "metadata": {},
          "execution_count": 18
        }
      ]
    },
    {
      "cell_type": "markdown",
      "source": [
        "## **QUESTION 1:**\n",
        "\n",
        "When predicting if a player will win, which predictor (kills, deaths, assists, last_hits, denies, gold_per_min, xp_per_min) has the greatest effect on the prediction? How does the R2 score, MSE, and accuracy score change when compared to models with all other variables except itself? What does this mean? Do the results support the hypothesis that these statistics are not always a good indication of whether a player will win or not?\n"
      ],
      "metadata": {
        "id": "bhKqKwzXjnxK"
      }
    },
    {
      "cell_type": "code",
      "source": [
        "# setup\n",
        "predictors = ['kills', 'assists', 'deaths', 'last_hits', 'denies', 'gold_per_min', 'xp_per_min']\n",
        "product = 'won_game'"
      ],
      "metadata": {
        "id": "9YPOXZ4Xq_15"
      },
      "execution_count": null,
      "outputs": []
    },
    {
      "cell_type": "code",
      "source": [
        "# get results from logistic regression\n",
        "model_with_all_features = do_logistic_regression(q1_data, predictors, product)"
      ],
      "metadata": {
        "id": "AAJ8kbPyp3Nd"
      },
      "execution_count": null,
      "outputs": []
    },
    {
      "cell_type": "code",
      "source": [
        "# Coefs\n",
        "model = model_with_all_features['model']\n",
        "coefficients = pd.DataFrame({\"Coef\" : model.coef_.flatten(), \"Variable Names\" : predictors})\n",
        "\n",
        "# # Graph\n",
        "# coefficients\n",
        "(ggplot(coefficients, aes(x = \"Variable Names\", y = \"Coef\", fill = \"Variable Names\" )) + \n",
        " theme_minimal() +\n",
        " labs(x=\"\\nVariable Names\", y=\"Coef value\") +\n",
        " geom_bar(stat = \"identity\") +\n",
        " ggtitle(\"Coef vs Coef Names\") + \n",
        " theme(legend_position = \"none\"))"
      ],
      "metadata": {
        "colab": {
          "base_uri": "https://localhost:8080/",
          "height": 517
        },
        "id": "6ScQjtpmke05",
        "outputId": "fdb710e3-a40e-41ce-ac7c-fc4bba2b8391"
      },
      "execution_count": null,
      "outputs": [
        {
          "output_type": "display_data",
          "data": {
            "text/plain": [
              "<Figure size 640x480 with 1 Axes>"
            ],
            "image/png": "[encoded data removed]"
          },
          "metadata": {
            "needs_background": "light"
          }
        },
        {
          "output_type": "execute_result",
          "data": {
            "text/plain": [
              "<ggplot: (8734084579705)>"
            ]
          },
          "metadata": {},
          "execution_count": 24
        }
      ]
    },
    {
      "cell_type": "markdown",
      "source": [
        "From the above coefficient comparison chart, we can see that xp_per_min is the strongest predictor of if a player will win. That said, the model still did not perform well, so we can take it with a grain of salt. Based on my impression of the model, let's see how this attribute changes when we remove one predictor at a time and remake the model."
      ],
      "metadata": {
        "id": "G59tg-kLk2ef"
      }
    },
    {
      "cell_type": "code",
      "source": [
        "accs = []\n",
        "mses = []\n",
        "r2s = []\n",
        "coefs = []\n",
        "\n",
        "for feature in predictors:\n",
        "  new_preds = predictors.copy()\n",
        "  new_preds.remove(feature)\n",
        "  results = do_logistic_regression(q1_data, new_preds, product)\n",
        "\n",
        "  accs.append(results['accuracy_score'])\n",
        "  mses.append(results['MSE'])\n",
        "  r2s.append(results['R2'])\n",
        "  coefs.append([results['model'].coef_.flatten()])"
      ],
      "metadata": {
        "id": "gzR8aEvbqe6A"
      },
      "execution_count": null,
      "outputs": []
    },
    {
      "cell_type": "code",
      "source": [
        "rd = pd.DataFrame({'field': [], 'value': []})\n",
        "\n",
        "for i in range(len(predictors)):\n",
        "  rd.loc[len(rd.index)] = ['acc', accs[i]]\n",
        "  rd.loc[len(rd.index)] = ['mse', mses[i]]\n",
        "  rd.loc[len(rd.index)] = ['r2', r2s[i]]"
      ],
      "metadata": {
        "id": "7ocJs9S55KxP"
      },
      "execution_count": null,
      "outputs": []
    },
    {
      "cell_type": "code",
      "source": [
        "(ggplot(rd, aes(x = \"field\",\n",
        "                y = \"value\",\n",
        "                fill='field')) +\n",
        " geom_boxplot() +\n",
        " ggtitle(\"Distribution of Accuracy, MSE, and R^2\") +\n",
        " labs(x = \"\", y = \"Field Value\") +\n",
        " theme_minimal()\n",
        ") "
      ],
      "metadata": {
        "colab": {
          "base_uri": "https://localhost:8080/",
          "height": 482
        },
        "id": "cjv0zO6Fx8bF",
        "outputId": "882c4d1d-85c3-4052-b5ea-ef8835fa5564"
      },
      "execution_count": null,
      "outputs": [
        {
          "output_type": "display_data",
          "data": {
            "text/plain": [
              "<Figure size 640x480 with 1 Axes>"
            ],
            "image/png": "[encoded data removed]"
          },
          "metadata": {
            "needs_background": "light"
          }
        },
        {
          "output_type": "execute_result",
          "data": {
            "text/plain": [
              "<ggplot: (8734084435281)>"
            ]
          },
          "metadata": {},
          "execution_count": 27
        }
      ]
    },
    {
      "cell_type": "markdown",
      "source": [
        "This graph indicates that throughout the test of re-doing the model without one feature at a time barely changed the accuracy, MSE, or R^2 score. Each remained within small bounds around the same value."
      ],
      "metadata": {
        "id": "bL-qBi1f_7Sl"
      }
    },
    {
      "cell_type": "markdown",
      "source": [
        "Lets have a look at the coefficients when we remove one predictor at a time and remake the model. Will the coefficients stabilie?"
      ],
      "metadata": {
        "id": "VFl13IM_pvNd"
      }
    },
    {
      "cell_type": "code",
      "source": [
        "new_coefs = []\n",
        "for l in coefs:\n",
        "  for _l in l:\n",
        "    try:\n",
        "      new_coefs.append(list(_l))\n",
        "    except:\n",
        "      continue"
      ],
      "metadata": {
        "id": "hhSDeDV6np-G"
      },
      "execution_count": null,
      "outputs": []
    },
    {
      "cell_type": "code",
      "source": [
        "new_coefs[0].insert(0, 0)\n",
        "coefficients = pd.DataFrame({\"Coef\" : new_coefs[0], \"Variable Names\" : predictors})\n",
        "\n",
        "# # Graph\n",
        "# coefficients\n",
        "(ggplot(coefficients, aes(x = \"Variable Names\", y = \"Coef\", fill = \"Variable Names\" )) + \n",
        "theme_minimal() +\n",
        "labs(x=\"\\nVariable Names\", y=\"Coef value\") +\n",
        "geom_bar(stat = \"identity\") +\n",
        "ggtitle(\"Coef vs Coef Names\") + \n",
        "theme(legend_position = \"none\"))\n"
      ],
      "metadata": {
        "colab": {
          "base_uri": "https://localhost:8080/",
          "height": 517
        },
        "id": "UUtbSIUPlkjM",
        "outputId": "c78d212a-47ef-4991-bf1f-cc880ceec2a8"
      },
      "execution_count": null,
      "outputs": [
        {
          "output_type": "display_data",
          "data": {
            "text/plain": [
              "<Figure size 640x480 with 1 Axes>"
            ],
            "image/png": "[encoded data removed]"
          },
          "metadata": {
            "needs_background": "light"
          }
        },
        {
          "output_type": "execute_result",
          "data": {
            "text/plain": [
              "<ggplot: (8734084640077)>"
            ]
          },
          "metadata": {},
          "execution_count": 29
        }
      ]
    },
    {
      "cell_type": "code",
      "source": [
        "new_coefs[1].insert(1, 0)\n",
        "coefficients = pd.DataFrame({\"Coef\" : new_coefs[1], \"Variable Names\" : predictors})\n",
        "\n",
        "# # Graph\n",
        "# coefficients\n",
        "(ggplot(coefficients, aes(x = \"Variable Names\", y = \"Coef\", fill = \"Variable Names\" )) + \n",
        "theme_minimal() +\n",
        "labs(x=\"\\nVariable Names\", y=\"Coef value\") +\n",
        "geom_bar(stat = \"identity\") +\n",
        "ggtitle(\"Coef vs Coef Names\") + \n",
        "theme(legend_position = \"none\"))"
      ],
      "metadata": {
        "colab": {
          "base_uri": "https://localhost:8080/",
          "height": 517
        },
        "id": "swyEQ_1Km91x",
        "outputId": "c98071b8-ae47-4bd2-e669-8e25835d4cf9"
      },
      "execution_count": null,
      "outputs": [
        {
          "output_type": "display_data",
          "data": {
            "text/plain": [
              "<Figure size 640x480 with 1 Axes>"
            ],
            "image/png": "[encoded data removed]"
          },
          "metadata": {
            "needs_background": "light"
          }
        },
        {
          "output_type": "execute_result",
          "data": {
            "text/plain": [
              "<ggplot: (8734084642233)>"
            ]
          },
          "metadata": {},
          "execution_count": 30
        }
      ]
    },
    {
      "cell_type": "code",
      "source": [
        "new_coefs[2].insert(2, 0)\n",
        "coefficients = pd.DataFrame({\"Coef\" : new_coefs[2], \"Variable Names\" : predictors})\n",
        "\n",
        "# # Graph\n",
        "# coefficients\n",
        "(ggplot(coefficients, aes(x = \"Variable Names\", y = \"Coef\", fill = \"Variable Names\" )) + \n",
        "theme_minimal() +\n",
        "labs(x=\"\\nVariable Names\", y=\"Coef value\") +\n",
        "geom_bar(stat = \"identity\") +\n",
        "ggtitle(\"Coef vs Coef Names\") + \n",
        "theme(legend_position = \"none\"))"
      ],
      "metadata": {
        "colab": {
          "base_uri": "https://localhost:8080/",
          "height": 517
        },
        "id": "HxcUvtiyp5_H",
        "outputId": "3a4d3c54-74c7-4140-f1c8-518adf22db75"
      },
      "execution_count": null,
      "outputs": [
        {
          "output_type": "display_data",
          "data": {
            "text/plain": [
              "<Figure size 640x480 with 1 Axes>"
            ],
            "image/png": "[encoded data removed]"
          },
          "metadata": {
            "needs_background": "light"
          }
        },
        {
          "output_type": "execute_result",
          "data": {
            "text/plain": [
              "<ggplot: (8734084504977)>"
            ]
          },
          "metadata": {},
          "execution_count": 31
        }
      ]
    },
    {
      "cell_type": "markdown",
      "source": [
        "Note that the missing values are because that specific value was removed from the model, but I have still included it for reference by inserting a zero for its value. Thus our fears were confirmed: the coefficients do not stabilize, indicating that there is very little to no correlation between each feature and the product. I will discuss this idea more soon."
      ],
      "metadata": {
        "id": "HCYTqF2Cp9nq"
      }
    },
    {
      "cell_type": "code",
      "source": [
        "mean_results_data = pd.DataFrame({'Set': ['Accuracy', 'MSE', 'R^2'], 'Value': [np.mean(accs), np.mean(mses), np.mean(r2s)]})"
      ],
      "metadata": {
        "id": "CRw6R-DG6hXc"
      },
      "execution_count": null,
      "outputs": []
    },
    {
      "cell_type": "code",
      "source": [
        "(ggplot(mean_results_data, aes(x = \"Set\", y = \"Value\", fill = \"Set\")) +\n",
        "geom_bar(stat='identity') + theme_minimal() + \n",
        "labs(x = \"\",\n",
        "    y = \"Value\",\n",
        "    title = \"Model Performance Metrics by Value\"))"
      ],
      "metadata": {
        "colab": {
          "base_uri": "https://localhost:8080/",
          "height": 482
        },
        "id": "QAiCxBba61w2",
        "outputId": "2e1e0ff5-0286-4c2a-fddd-3f0e631decbf"
      },
      "execution_count": null,
      "outputs": [
        {
          "output_type": "display_data",
          "data": {
            "text/plain": [
              "<Figure size 640x480 with 1 Axes>"
            ],
            "image/png": "[encoded data removed]"
          },
          "metadata": {
            "needs_background": "light"
          }
        },
        {
          "output_type": "execute_result",
          "data": {
            "text/plain": [
              "<ggplot: (8734084410777)>"
            ]
          },
          "metadata": {},
          "execution_count": 33
        }
      ]
    },
    {
      "cell_type": "markdown",
      "source": [
        "**Question 1: Discussion**\n",
        "\n",
        "We can see that the accuracy and R^2 scores are less than great; bad, in fact. However, the mean MSE was very low at around .493. This indicates that the model actually performed well. Thus, despite the model performing well, why is the R^2 score and accuracy so low? The very low R^2 score (around -.972) indicates that there is very little correlation between our features and our predictor. Our low accuracy score (around 0.506) is a product of this performance. This trend stayed apparent through the test as I removed one feature at a time from the model. Thus, this supports the hypothesis that the used features are not a good way to predict whether a player will win the game or not. "
      ],
      "metadata": {
        "id": "glTFqe8H-SiG"
      }
    },
    {
      "cell_type": "markdown",
      "source": [
        "## **Question 2: Data Setup!**"
      ],
      "metadata": {
        "id": "tM-I-074QV-z"
      }
    },
    {
      "cell_type": "code",
      "source": [
        "# for this question I will need item_id (purchase_log, continuous), time (purchase_log, continuous), hero_id (player, continuous), item_slot_0 (player, continuous), \n",
        "# item_slot_1 (player, continuous), item_slot_2 (player, continuous), item_slot_3 (player, continuous), item_slot_4 (player, continuous), and item_slot_5 (player, continuous).\n",
        "\n",
        "q2_data = create_secondary_dataframe([purchase_log, player_data], {0: ['item_id', 'time'], 1: ['hero_id', 'item_0', 'item_1', 'item_2', 'item_3', 'item_4', 'item_5']})\n",
        "q2_data.dropna(inplace=True)\n",
        "q2_data.reset_index(inplace=True)\n",
        "q2_data"
      ],
      "metadata": {
        "colab": {
          "base_uri": "https://localhost:8080/",
          "height": 424
        },
        "id": "qiTbRyrOQaZm",
        "outputId": "e7aa3b9d-8b86-430a-c416-d977ba66032d"
      },
      "execution_count": null,
      "outputs": [
        {
          "output_type": "execute_result",
          "data": {
            "text/plain": [
              "       index  item_id  time  hero_id  item_0  item_1  item_2  item_3  item_4  \\\n",
              "0          0       44   -81     86.0   180.0    37.0    73.0    56.0   108.0   \n",
              "1          1       29   -63     51.0    46.0    63.0   119.0   102.0    24.0   \n",
              "2          2       43     6     83.0    48.0    60.0    59.0   108.0    65.0   \n",
              "3          3       84   182     11.0    63.0   147.0   154.0   164.0    79.0   \n",
              "4          4       46   197     67.0   114.0    92.0   147.0     0.0   137.0   \n",
              "...      ...      ...   ...      ...     ...     ...     ...     ...     ...   \n",
              "99045  99045       46   502     41.0   145.0   158.0   172.0    63.0   247.0   \n",
              "99046  99046       27   547     93.0   160.0   123.0    63.0   249.0    36.0   \n",
              "99047  99047       46   547     18.0    63.0   114.0   141.0   156.0     0.0   \n",
              "99048  99048       46   669     20.0    98.0   139.0   114.0   117.0    63.0   \n",
              "99049  99049      102   682     36.0     0.0     0.0     0.0     0.0     0.0   \n",
              "\n",
              "       item_5  \n",
              "0         0.0  \n",
              "1       108.0  \n",
              "2         0.0  \n",
              "3       160.0  \n",
              "4        63.0  \n",
              "...       ...  \n",
              "99045   114.0  \n",
              "99046   143.0  \n",
              "99047   247.0  \n",
              "99048   168.0  \n",
              "99049     0.0  \n",
              "\n",
              "[99050 rows x 10 columns]"
            ],
            "text/html": [
              "\n",
              "  <div id=\"df-8ede89b7-ef3b-4a1d-8e51-fceb42d24287\">\n",
              "    <div class=\"colab-df-container\">\n",
              "      <div>\n",
              "<style scoped>\n",
              "    .dataframe tbody tr th:only-of-type {\n",
              "        vertical-align: middle;\n",
              "    }\n",
              "\n",
              "    .dataframe tbody tr th {\n",
              "        vertical-align: top;\n",
              "    }\n",
              "\n",
              "    .dataframe thead th {\n",
              "        text-align: right;\n",
              "    }\n",
              "</style>\n",
              "<table border=\"1\" class=\"dataframe\">\n",
              "  <thead>\n",
              "    <tr style=\"text-align: right;\">\n",
              "      <th></th>\n",
              "      <th>index</th>\n",
              "      <th>item_id</th>\n",
              "      <th>time</th>\n",
              "      <th>hero_id</th>\n",
              "      <th>item_0</th>\n",
              "      <th>item_1</th>\n",
              "      <th>item_2</th>\n",
              "      <th>item_3</th>\n",
              "      <th>item_4</th>\n",
              "      <th>item_5</th>\n",
              "    </tr>\n",
              "  </thead>\n",
              "  <tbody>\n",
              "    <tr>\n",
              "      <th>0</th>\n",
              "      <td>0</td>\n",
              "      <td>44</td>\n",
              "      <td>-81</td>\n",
              "      <td>86.0</td>\n",
              "      <td>180.0</td>\n",
              "      <td>37.0</td>\n",
              "      <td>73.0</td>\n",
              "      <td>56.0</td>\n",
              "      <td>108.0</td>\n",
              "      <td>0.0</td>\n",
              "    </tr>\n",
              "    <tr>\n",
              "      <th>1</th>\n",
              "      <td>1</td>\n",
              "      <td>29</td>\n",
              "      <td>-63</td>\n",
              "      <td>51.0</td>\n",
              "      <td>46.0</td>\n",
              "      <td>63.0</td>\n",
              "      <td>119.0</td>\n",
              "      <td>102.0</td>\n",
              "      <td>24.0</td>\n",
              "      <td>108.0</td>\n",
              "    </tr>\n",
              "    <tr>\n",
              "      <th>2</th>\n",
              "      <td>2</td>\n",
              "      <td>43</td>\n",
              "      <td>6</td>\n",
              "      <td>83.0</td>\n",
              "      <td>48.0</td>\n",
              "      <td>60.0</td>\n",
              "      <td>59.0</td>\n",
              "      <td>108.0</td>\n",
              "      <td>65.0</td>\n",
              "      <td>0.0</td>\n",
              "    </tr>\n",
              "    <tr>\n",
              "      <th>3</th>\n",
              "      <td>3</td>\n",
              "      <td>84</td>\n",
              "      <td>182</td>\n",
              "      <td>11.0</td>\n",
              "      <td>63.0</td>\n",
              "      <td>147.0</td>\n",
              "      <td>154.0</td>\n",
              "      <td>164.0</td>\n",
              "      <td>79.0</td>\n",
              "      <td>160.0</td>\n",
              "    </tr>\n",
              "    <tr>\n",
              "      <th>4</th>\n",
              "      <td>4</td>\n",
              "      <td>46</td>\n",
              "      <td>197</td>\n",
              "      <td>67.0</td>\n",
              "      <td>114.0</td>\n",
              "      <td>92.0</td>\n",
              "      <td>147.0</td>\n",
              "      <td>0.0</td>\n",
              "      <td>137.0</td>\n",
              "      <td>63.0</td>\n",
              "    </tr>\n",
              "    <tr>\n",
              "      <th>...</th>\n",
              "      <td>...</td>\n",
              "      <td>...</td>\n",
              "      <td>...</td>\n",
              "      <td>...</td>\n",
              "      <td>...</td>\n",
              "      <td>...</td>\n",
              "      <td>...</td>\n",
              "      <td>...</td>\n",
              "      <td>...</td>\n",
              "      <td>...</td>\n",
              "    </tr>\n",
              "    <tr>\n",
              "      <th>99045</th>\n",
              "      <td>99045</td>\n",
              "      <td>46</td>\n",
              "      <td>502</td>\n",
              "      <td>41.0</td>\n",
              "      <td>145.0</td>\n",
              "      <td>158.0</td>\n",
              "      <td>172.0</td>\n",
              "      <td>63.0</td>\n",
              "      <td>247.0</td>\n",
              "      <td>114.0</td>\n",
              "    </tr>\n",
              "    <tr>\n",
              "      <th>99046</th>\n",
              "      <td>99046</td>\n",
              "      <td>27</td>\n",
              "      <td>547</td>\n",
              "      <td>93.0</td>\n",
              "      <td>160.0</td>\n",
              "      <td>123.0</td>\n",
              "      <td>63.0</td>\n",
              "      <td>249.0</td>\n",
              "      <td>36.0</td>\n",
              "      <td>143.0</td>\n",
              "    </tr>\n",
              "    <tr>\n",
              "      <th>99047</th>\n",
              "      <td>99047</td>\n",
              "      <td>46</td>\n",
              "      <td>547</td>\n",
              "      <td>18.0</td>\n",
              "      <td>63.0</td>\n",
              "      <td>114.0</td>\n",
              "      <td>141.0</td>\n",
              "      <td>156.0</td>\n",
              "      <td>0.0</td>\n",
              "      <td>247.0</td>\n",
              "    </tr>\n",
              "    <tr>\n",
              "      <th>99048</th>\n",
              "      <td>99048</td>\n",
              "      <td>46</td>\n",
              "      <td>669</td>\n",
              "      <td>20.0</td>\n",
              "      <td>98.0</td>\n",
              "      <td>139.0</td>\n",
              "      <td>114.0</td>\n",
              "      <td>117.0</td>\n",
              "      <td>63.0</td>\n",
              "      <td>168.0</td>\n",
              "    </tr>\n",
              "    <tr>\n",
              "      <th>99049</th>\n",
              "      <td>99049</td>\n",
              "      <td>102</td>\n",
              "      <td>682</td>\n",
              "      <td>36.0</td>\n",
              "      <td>0.0</td>\n",
              "      <td>0.0</td>\n",
              "      <td>0.0</td>\n",
              "      <td>0.0</td>\n",
              "      <td>0.0</td>\n",
              "      <td>0.0</td>\n",
              "    </tr>\n",
              "  </tbody>\n",
              "</table>\n",
              "<p>99050 rows × 10 columns</p>\n",
              "</div>\n",
              "      <button class=\"colab-df-convert\" onclick=\"convertToInteractive('df-8ede89b7-ef3b-4a1d-8e51-fceb42d24287')\"\n",
              "              title=\"Convert this dataframe to an interactive table.\"\n",
              "              style=\"display:none;\">\n",
              "        \n",
              "  <svg xmlns=\"http://www.w3.org/2000/svg\" height=\"24px\"viewBox=\"0 0 24 24\"\n",
              "       width=\"24px\">\n",
              "    <path d=\"M0 0h24v24H0V0z\" fill=\"none\"/>\n",
              "    <path d=\"M18.56 5.44l.94 2.06.94-2.06 2.06-.94-2.06-.94-.94-2.06-.94 2.06-2.06.94zm-11 1L8.5 8.5l.94-2.06 2.06-.94-2.06-.94L8.5 2.5l-.94 2.06-2.06.94zm10 10l.94 2.06.94-2.06 2.06-.94-2.06-.94-.94-2.06-.94 2.06-2.06.94z\"/><path d=\"M17.41 7.96l-1.37-1.37c-.4-.4-.92-.59-1.43-.59-.52 0-1.04.2-1.43.59L10.3 9.45l-7.72 7.72c-.78.78-.78 2.05 0 2.83L4 21.41c.39.39.9.59 1.41.59.51 0 1.02-.2 1.41-.59l7.78-7.78 2.81-2.81c.8-.78.8-2.07 0-2.86zM5.41 20L4 18.59l7.72-7.72 1.47 1.35L5.41 20z\"/>\n",
              "  </svg>\n",
              "      </button>\n",
              "      \n",
              "  <style>\n",
              "    .colab-df-container {\n",
              "      display:flex;\n",
              "      flex-wrap:wrap;\n",
              "      gap: 12px;\n",
              "    }\n",
              "\n",
              "    .colab-df-convert {\n",
              "      background-color: #E8F0FE;\n",
              "      border: none;\n",
              "      border-radius: 50%;\n",
              "      cursor: pointer;\n",
              "      display: none;\n",
              "      fill: #1967D2;\n",
              "      height: 32px;\n",
              "      padding: 0 0 0 0;\n",
              "      width: 32px;\n",
              "    }\n",
              "\n",
              "    .colab-df-convert:hover {\n",
              "      background-color: #E2EBFA;\n",
              "      box-shadow: 0px 1px 2px rgba(60, 64, 67, 0.3), 0px 1px 3px 1px rgba(60, 64, 67, 0.15);\n",
              "      fill: #174EA6;\n",
              "    }\n",
              "\n",
              "    [theme=dark] .colab-df-convert {\n",
              "      background-color: #3B4455;\n",
              "      fill: #D2E3FC;\n",
              "    }\n",
              "\n",
              "    [theme=dark] .colab-df-convert:hover {\n",
              "      background-color: #434B5C;\n",
              "      box-shadow: 0px 1px 3px 1px rgba(0, 0, 0, 0.15);\n",
              "      filter: drop-shadow(0px 1px 2px rgba(0, 0, 0, 0.3));\n",
              "      fill: #FFFFFF;\n",
              "    }\n",
              "  </style>\n",
              "\n",
              "      <script>\n",
              "        const buttonEl =\n",
              "          document.querySelector('#df-8ede89b7-ef3b-4a1d-8e51-fceb42d24287 button.colab-df-convert');\n",
              "        buttonEl.style.display =\n",
              "          google.colab.kernel.accessAllowed ? 'block' : 'none';\n",
              "\n",
              "        async function convertToInteractive(key) {\n",
              "          const element = document.querySelector('#df-8ede89b7-ef3b-4a1d-8e51-fceb42d24287');\n",
              "          const dataTable =\n",
              "            await google.colab.kernel.invokeFunction('convertToInteractive',\n",
              "                                                     [key], {});\n",
              "          if (!dataTable) return;\n",
              "\n",
              "          const docLinkHtml = 'Like what you see? Visit the ' +\n",
              "            '<a target=\"_blank\" href=https://colab.research.google.com/notebooks/data_table.ipynb>data table notebook</a>'\n",
              "            + ' to learn more about interactive tables.';\n",
              "          element.innerHTML = '';\n",
              "          dataTable['output_type'] = 'display_data';\n",
              "          await google.colab.output.renderOutput(dataTable, element);\n",
              "          const docLink = document.createElement('div');\n",
              "          docLink.innerHTML = docLinkHtml;\n",
              "          element.appendChild(docLink);\n",
              "        }\n",
              "      </script>\n",
              "    </div>\n",
              "  </div>\n",
              "  "
            ]
          },
          "metadata": {},
          "execution_count": 34
        }
      ]
    },
    {
      "cell_type": "code",
      "source": [
        "item_id_to_name = {}\n",
        "\n",
        "for index in range(item_ids.shape[0]):  \n",
        "  item_id_to_name[item_ids[\"item_id\"].iloc[index]] = item_ids[\"item_name\"].iloc[index]"
      ],
      "metadata": {
        "id": "zfr52OazT9mS"
      },
      "execution_count": null,
      "outputs": []
    },
    {
      "cell_type": "code",
      "source": [
        "items_purchased_by_game = {}\n",
        "\n",
        "for index in range(20001):\n",
        "  if purchase_log['match_id'].iloc[index] in items_purchased_by_game.keys():\n",
        "    items_purchased_by_game[purchase_log['match_id'].iloc[index]].append(purchase_log['item_id'].iloc[index]) \n",
        "  else:\n",
        "    items_purchased_by_game[purchase_log['match_id'].iloc[index]] = [purchase_log['item_id'].iloc[index]]\n",
        "\n",
        "print(len(items_purchased_by_game))"
      ],
      "metadata": {
        "colab": {
          "base_uri": "https://localhost:8080/"
        },
        "id": "0Bl9BEj7br9f",
        "outputId": "c6a242b2-f43f-4a49-c53c-2f47c014be90"
      },
      "execution_count": null,
      "outputs": [
        {
          "output_type": "stream",
          "name": "stdout",
          "text": [
            "55\n"
          ]
        }
      ]
    },
    {
      "cell_type": "code",
      "source": [
        "data_by_game = pd.DataFrame(np.array([list(items_purchased_by_game.values())]), columns = list(items_purchased_by_game.keys()))\n",
        "data_by_game"
      ],
      "metadata": {
        "colab": {
          "base_uri": "https://localhost:8080/",
          "height": 224
        },
        "id": "ad19jNHYdvUL",
        "outputId": "81ee0a11-8cf3-4d21-b49b-1ec8f5ca0ea4"
      },
      "execution_count": null,
      "outputs": [
        {
          "output_type": "execute_result",
          "data": {
            "text/plain": [
              "                                                  0   \\\n",
              "0  [44, 29, 43, 84, 46, 13, 44, 46, 20, 73, 46, 1...   \n",
              "\n",
              "                                                  1   \\\n",
              "0  [44, 45, 39, 38, 38, 38, 42, 46, 34, 29, 46, 3...   \n",
              "\n",
              "                                                  2   \\\n",
              "0  [182, 44, 20, 16, 16, 41, 36, 34, 29, 46, 12, ...   \n",
              "\n",
              "                                                  3   \\\n",
              "0  [45, 16, 16, 38, 38, 44, 42, 29, 180, 59, 42, ...   \n",
              "\n",
              "                                                  4   \\\n",
              "0  [44, 182, 216, 16, 16, 14, 71, 14, 34, 29, 20,...   \n",
              "\n",
              "                                                  5   \\\n",
              "0  [14, 14, 71, 182, 44, 29, 46, 18, 25, 63, 20, ...   \n",
              "\n",
              "                                                  6   \\\n",
              "0  [42, 42, 45, 44, 38, 38, 16, 16, 46, 29, 84, 4...   \n",
              "\n",
              "                                                  7   \\\n",
              "0  [12, 44, 38, 38, 16, 16, 42, 28, 29, 25, 88, 4...   \n",
              "\n",
              "                                                  8   \\\n",
              "0  [44, 11, 182, 3, 5, 57, 69, 145, 56, 29, 14, 4...   \n",
              "\n",
              "                                                  9   ...  \\\n",
              "0  [45, 20, 44, 39, 38, 16, 27, 94, 13, 42, 42, 7...  ...   \n",
              "\n",
              "                                                  45  \\\n",
              "0  [27, 12, 38, 29, 214, 54, 46, 46, 46, 137, 53,...   \n",
              "\n",
              "                                                  46  \\\n",
              "0  [182, 39, 44, 16, 216, 46, 182, 12, 29, 27, 21...   \n",
              "\n",
              "                                                  47  \\\n",
              "0  [44, 14, 14, 71, 182, 29, 20, 16, 16, 36, 34, ...   \n",
              "\n",
              "                                                  48  \\\n",
              "0  [20, 15, 77, 44, 65, 25, 29, 39, 38, 25, 17, 6...   \n",
              "\n",
              "                                                  49  \\\n",
              "0  [44, 39, 182, 11, 16, 12, 88, 28, 29, 12, 214,...   \n",
              "\n",
              "                                                  50  \\\n",
              "0  [44, 14, 14, 71, 182, 29, 25, 63, 17, 22, 22, ...   \n",
              "\n",
              "                                                  51  \\\n",
              "0  [20, 15, 77, 16, 16, 41, 34, 29, 36, 20, 46, 4...   \n",
              "\n",
              "                                                  52  \\\n",
              "0  [20, 16, 16, 36, 34, 44, 29, 25, 17, 63, 46, 4...   \n",
              "\n",
              "                                                  53  \\\n",
              "0  [44, 39, 182, 16, 16, 46, 41, 29, 46, 180, 59,...   \n",
              "\n",
              "                                                  54  \n",
              "0  [44, 16, 16, 12, 11, 29, 27, 214, 46, 46, 34, ...  \n",
              "\n",
              "[1 rows x 55 columns]"
            ],
            "text/html": [
              "\n",
              "  <div id=\"df-82ab814d-68ca-494e-8e0b-7664add18b0d\">\n",
              "    <div class=\"colab-df-container\">\n",
              "      <div>\n",
              "<style scoped>\n",
              "    .dataframe tbody tr th:only-of-type {\n",
              "        vertical-align: middle;\n",
              "    }\n",
              "\n",
              "    .dataframe tbody tr th {\n",
              "        vertical-align: top;\n",
              "    }\n",
              "\n",
              "    .dataframe thead th {\n",
              "        text-align: right;\n",
              "    }\n",
              "</style>\n",
              "<table border=\"1\" class=\"dataframe\">\n",
              "  <thead>\n",
              "    <tr style=\"text-align: right;\">\n",
              "      <th></th>\n",
              "      <th>0</th>\n",
              "      <th>1</th>\n",
              "      <th>2</th>\n",
              "      <th>3</th>\n",
              "      <th>4</th>\n",
              "      <th>5</th>\n",
              "      <th>6</th>\n",
              "      <th>7</th>\n",
              "      <th>8</th>\n",
              "      <th>9</th>\n",
              "      <th>...</th>\n",
              "      <th>45</th>\n",
              "      <th>46</th>\n",
              "      <th>47</th>\n",
              "      <th>48</th>\n",
              "      <th>49</th>\n",
              "      <th>50</th>\n",
              "      <th>51</th>\n",
              "      <th>52</th>\n",
              "      <th>53</th>\n",
              "      <th>54</th>\n",
              "    </tr>\n",
              "  </thead>\n",
              "  <tbody>\n",
              "    <tr>\n",
              "      <th>0</th>\n",
              "      <td>[44, 29, 43, 84, 46, 13, 44, 46, 20, 73, 46, 1...</td>\n",
              "      <td>[44, 45, 39, 38, 38, 38, 42, 46, 34, 29, 46, 3...</td>\n",
              "      <td>[182, 44, 20, 16, 16, 41, 36, 34, 29, 46, 12, ...</td>\n",
              "      <td>[45, 16, 16, 38, 38, 44, 42, 29, 180, 59, 42, ...</td>\n",
              "      <td>[44, 182, 216, 16, 16, 14, 71, 14, 34, 29, 20,...</td>\n",
              "      <td>[14, 14, 71, 182, 44, 29, 46, 18, 25, 63, 20, ...</td>\n",
              "      <td>[42, 42, 45, 44, 38, 38, 16, 16, 46, 29, 84, 4...</td>\n",
              "      <td>[12, 44, 38, 38, 16, 16, 42, 28, 29, 25, 88, 4...</td>\n",
              "      <td>[44, 11, 182, 3, 5, 57, 69, 145, 56, 29, 14, 4...</td>\n",
              "      <td>[45, 20, 44, 39, 38, 16, 27, 94, 13, 42, 42, 7...</td>\n",
              "      <td>...</td>\n",
              "      <td>[27, 12, 38, 29, 214, 54, 46, 46, 46, 137, 53,...</td>\n",
              "      <td>[182, 39, 44, 16, 216, 46, 182, 12, 29, 27, 21...</td>\n",
              "      <td>[44, 14, 14, 71, 182, 29, 20, 16, 16, 36, 34, ...</td>\n",
              "      <td>[20, 15, 77, 44, 65, 25, 29, 39, 38, 25, 17, 6...</td>\n",
              "      <td>[44, 39, 182, 11, 16, 12, 88, 28, 29, 12, 214,...</td>\n",
              "      <td>[44, 14, 14, 71, 182, 29, 25, 63, 17, 22, 22, ...</td>\n",
              "      <td>[20, 15, 77, 16, 16, 41, 34, 29, 36, 20, 46, 4...</td>\n",
              "      <td>[20, 16, 16, 36, 34, 44, 29, 25, 17, 63, 46, 4...</td>\n",
              "      <td>[44, 39, 182, 16, 16, 46, 41, 29, 46, 180, 59,...</td>\n",
              "      <td>[44, 16, 16, 12, 11, 29, 27, 214, 46, 46, 34, ...</td>\n",
              "    </tr>\n",
              "  </tbody>\n",
              "</table>\n",
              "<p>1 rows × 55 columns</p>\n",
              "</div>\n",
              "      <button class=\"colab-df-convert\" onclick=\"convertToInteractive('df-82ab814d-68ca-494e-8e0b-7664add18b0d')\"\n",
              "              title=\"Convert this dataframe to an interactive table.\"\n",
              "              style=\"display:none;\">\n",
              "        \n",
              "  <svg xmlns=\"http://www.w3.org/2000/svg\" height=\"24px\"viewBox=\"0 0 24 24\"\n",
              "       width=\"24px\">\n",
              "    <path d=\"M0 0h24v24H0V0z\" fill=\"none\"/>\n",
              "    <path d=\"M18.56 5.44l.94 2.06.94-2.06 2.06-.94-2.06-.94-.94-2.06-.94 2.06-2.06.94zm-11 1L8.5 8.5l.94-2.06 2.06-.94-2.06-.94L8.5 2.5l-.94 2.06-2.06.94zm10 10l.94 2.06.94-2.06 2.06-.94-2.06-.94-.94-2.06-.94 2.06-2.06.94z\"/><path d=\"M17.41 7.96l-1.37-1.37c-.4-.4-.92-.59-1.43-.59-.52 0-1.04.2-1.43.59L10.3 9.45l-7.72 7.72c-.78.78-.78 2.05 0 2.83L4 21.41c.39.39.9.59 1.41.59.51 0 1.02-.2 1.41-.59l7.78-7.78 2.81-2.81c.8-.78.8-2.07 0-2.86zM5.41 20L4 18.59l7.72-7.72 1.47 1.35L5.41 20z\"/>\n",
              "  </svg>\n",
              "      </button>\n",
              "      \n",
              "  <style>\n",
              "    .colab-df-container {\n",
              "      display:flex;\n",
              "      flex-wrap:wrap;\n",
              "      gap: 12px;\n",
              "    }\n",
              "\n",
              "    .colab-df-convert {\n",
              "      background-color: #E8F0FE;\n",
              "      border: none;\n",
              "      border-radius: 50%;\n",
              "      cursor: pointer;\n",
              "      display: none;\n",
              "      fill: #1967D2;\n",
              "      height: 32px;\n",
              "      padding: 0 0 0 0;\n",
              "      width: 32px;\n",
              "    }\n",
              "\n",
              "    .colab-df-convert:hover {\n",
              "      background-color: #E2EBFA;\n",
              "      box-shadow: 0px 1px 2px rgba(60, 64, 67, 0.3), 0px 1px 3px 1px rgba(60, 64, 67, 0.15);\n",
              "      fill: #174EA6;\n",
              "    }\n",
              "\n",
              "    [theme=dark] .colab-df-convert {\n",
              "      background-color: #3B4455;\n",
              "      fill: #D2E3FC;\n",
              "    }\n",
              "\n",
              "    [theme=dark] .colab-df-convert:hover {\n",
              "      background-color: #434B5C;\n",
              "      box-shadow: 0px 1px 3px 1px rgba(0, 0, 0, 0.15);\n",
              "      filter: drop-shadow(0px 1px 2px rgba(0, 0, 0, 0.3));\n",
              "      fill: #FFFFFF;\n",
              "    }\n",
              "  </style>\n",
              "\n",
              "      <script>\n",
              "        const buttonEl =\n",
              "          document.querySelector('#df-82ab814d-68ca-494e-8e0b-7664add18b0d button.colab-df-convert');\n",
              "        buttonEl.style.display =\n",
              "          google.colab.kernel.accessAllowed ? 'block' : 'none';\n",
              "\n",
              "        async function convertToInteractive(key) {\n",
              "          const element = document.querySelector('#df-82ab814d-68ca-494e-8e0b-7664add18b0d');\n",
              "          const dataTable =\n",
              "            await google.colab.kernel.invokeFunction('convertToInteractive',\n",
              "                                                     [key], {});\n",
              "          if (!dataTable) return;\n",
              "\n",
              "          const docLinkHtml = 'Like what you see? Visit the ' +\n",
              "            '<a target=\"_blank\" href=https://colab.research.google.com/notebooks/data_table.ipynb>data table notebook</a>'\n",
              "            + ' to learn more about interactive tables.';\n",
              "          element.innerHTML = '';\n",
              "          dataTable['output_type'] = 'display_data';\n",
              "          await google.colab.output.renderOutput(dataTable, element);\n",
              "          const docLink = document.createElement('div');\n",
              "          docLink.innerHTML = docLinkHtml;\n",
              "          element.appendChild(docLink);\n",
              "        }\n",
              "      </script>\n",
              "    </div>\n",
              "  </div>\n",
              "  "
            ]
          },
          "metadata": {},
          "execution_count": 37
        }
      ]
    },
    {
      "cell_type": "markdown",
      "source": [
        "## **Question 2**\n",
        "\n",
        "At what point in the match are certain items generally bought? Use graphs to visualize this. Using a linear regression model, can we predict hero_id given item_slot_0, item_slot_1, item_slot_2, item_slot_3, item_slot_4, item_slot_5. What do the R^2 and MSE reveal about the model?"
      ],
      "metadata": {
        "id": "Win1KOAiP6T8"
      }
    },
    {
      "cell_type": "code",
      "source": [
        "# Lets visualize our data\n",
        "\n",
        "(ggplot(q2_data, aes(x = \"time\",\n",
        "                y = \"item_id\",\n",
        "                fill='item_id')) +\n",
        " geom_point() +\n",
        " ggtitle(\"Items Purchased Over Time\") +\n",
        " labs(x = \"Time Purchased (sec)\", y = \"Item ID\") +\n",
        " theme_minimal() +\n",
        " theme(legend_position = \"none\")\n",
        ") "
      ],
      "metadata": {
        "colab": {
          "base_uri": "https://localhost:8080/",
          "height": 503
        },
        "id": "tfwSShmbSQ_2",
        "outputId": "4d4840ce-6d69-4ced-86fc-0abf1d741c51"
      },
      "execution_count": null,
      "outputs": [
        {
          "output_type": "display_data",
          "data": {
            "text/plain": [
              "<Figure size 640x480 with 1 Axes>"
            ],
            "image/png": "[encoded data removed]"
          },
          "metadata": {
            "needs_background": "light"
          }
        },
        {
          "output_type": "execute_result",
          "data": {
            "text/plain": [
              "<ggplot: (8734084500425)>"
            ]
          },
          "metadata": {},
          "execution_count": 38
        }
      ]
    },
    {
      "cell_type": "code",
      "source": [
        "# Woah! That's a lot of data. Lets break it down smaller so we can see what we are working with.\n",
        "\n",
        "(ggplot(q2_data[0:397], aes(x = \"time\",\n",
        "                y = \"item_id\",\n",
        "                fill='item_id')) +\n",
        " geom_point() +\n",
        " ggtitle(\"Items Purchased Over Single Game\") +\n",
        " labs(x = \"Time Purchased (sec)\", y = \"Item ID\") +\n",
        " theme_minimal() +\n",
        " theme(legend_position = \"none\")\n",
        ") "
      ],
      "metadata": {
        "colab": {
          "base_uri": "https://localhost:8080/",
          "height": 503
        },
        "id": "8CGwXxb1Tbw7",
        "outputId": "8a4e6f6d-cff6-4788-b4ce-9adb6e82513c"
      },
      "execution_count": null,
      "outputs": [
        {
          "output_type": "display_data",
          "data": {
            "text/plain": [
              "<Figure size 640x480 with 1 Axes>"
            ],
            "image/png": "[encoded data removed]"
          },
          "metadata": {
            "needs_background": "light"
          }
        },
        {
          "output_type": "execute_result",
          "data": {
            "text/plain": [
              "<ggplot: (8734081403917)>"
            ]
          },
          "metadata": {},
          "execution_count": 39
        }
      ]
    },
    {
      "cell_type": "markdown",
      "source": [
        "This is more readable. We can definitely see trends in what items players purchase over time. These data points correspond to all items purchased in a single game. Each y level corresponds to an item, so following the line it makes going across the graph tells us how often that item was purchased over the course of the game. However, without the names of the items it is hard to understand fully. I can make an educated guess the the line around y=48 is the teleport scroll, an item that is cheap and constantly in need, which is why it is bought consistently througout the game. My initial idea was to use a clustering algorithm to visualie this, but... this data is technically already visualized using the graphs! Simply using the color-fill mechanic in ggplot shows us the clusters by item_id. Lets dig a little deeper into this and grab the names of the most common items bought here."
      ],
      "metadata": {
        "id": "kGgEuFOmaikz"
      }
    },
    {
      "cell_type": "code",
      "source": [
        "def get_n_most_common(dataframe, col, n=5, start=0, stop=1000):\n",
        "\n",
        "  most_common = {}\n",
        "  col_list = dataframe[col].iloc[start:stop].tolist()\n",
        "\n",
        "  for i in col_list:\n",
        "    most_common[i] = col_list.count(i)\n",
        "\n",
        "  return list({k: v for k, v in sorted(most_common.items(), key=lambda item: item[1])})[-n:]"
      ],
      "metadata": {
        "id": "ULEmqGZCgWUz"
      },
      "execution_count": null,
      "outputs": []
    },
    {
      "cell_type": "code",
      "source": [
        "most_common = get_n_most_common(q2_data, \"item_id\", stop=397)\n",
        "for index in range(len(most_common)):\n",
        "  print(item_id_to_name[most_common[index]])"
      ],
      "metadata": {
        "colab": {
          "base_uri": "https://localhost:8080/"
        },
        "id": "_REqayWVjC8L",
        "outputId": "33ef5985-7bdb-4439-b12f-ac614464cc5d"
      },
      "execution_count": null,
      "outputs": [
        {
          "output_type": "stream",
          "name": "stdout",
          "text": [
            "tango\n",
            "circlet\n",
            "branches\n",
            "ward_observer\n",
            "tpscroll\n"
          ]
        }
      ]
    },
    {
      "cell_type": "markdown",
      "source": [
        "Looks like I was wrong! The tango, an early game item, is the most commonly bought item in this game! This is surprising since the game went on for at least 38 minutes, indicating that this value should have dropped off. Let's move on to the linear regression..."
      ],
      "metadata": {
        "id": "0iW2ZwRSle2c"
      }
    },
    {
      "cell_type": "code",
      "source": [
        "# LR\n",
        "predictors = ['item_0', 'item_1', 'item_2', 'item_3', 'item_4', 'item_5']\n",
        "product = 'hero_id'\n",
        "\n",
        "X = q2_data[predictors]\n",
        "y = q2_data[product]\n",
        "\n",
        "X_train, X_test, y_train, y_test = train_test_split(X, y, test_size = 0.2)\n",
        "\n",
        "#zscore\n",
        "z = StandardScaler()\n",
        "z.fit(X_train)\n",
        "X_train = z.transform(X_train)\n",
        "X_test = z.transform(X_test)\n",
        "\n",
        "lr = LinearRegression()\n",
        "lr.fit(X_train, y_train)"
      ],
      "metadata": {
        "colab": {
          "base_uri": "https://localhost:8080/"
        },
        "id": "bhbACGHAmDJc",
        "outputId": "d8bda1b0-8e83-4f9b-ae64-f0fe04149683"
      },
      "execution_count": null,
      "outputs": [
        {
          "output_type": "execute_result",
          "data": {
            "text/plain": [
              "LinearRegression()"
            ]
          },
          "metadata": {},
          "execution_count": 42
        }
      ]
    },
    {
      "cell_type": "code",
      "source": [
        "results['model'] = lr\n",
        "results['preds'] = lr.predict(X_test)\n",
        "results['R2'] = r2_score(y_test, results['preds'])\n",
        "results['MSE'] = mean_squared_error(y_test, results['preds'])\n",
        "\n",
        "print(\"R^2 score: \" + str(results['R2']))\n",
        "print(\"MSE score: \" + str(results['MSE']))"
      ],
      "metadata": {
        "colab": {
          "base_uri": "https://localhost:8080/"
        },
        "id": "97hgJm1QnIYu",
        "outputId": "26c26149-5129-4d4b-ff2f-7e6147506f94"
      },
      "execution_count": null,
      "outputs": [
        {
          "output_type": "stream",
          "name": "stdout",
          "text": [
            "R^2 score: 0.0032593318789663206\n",
            "MSE score: 1066.977987514569\n"
          ]
        }
      ]
    },
    {
      "cell_type": "markdown",
      "source": [
        "I'm starting to see a trend from our models; low R^2 scores! What does this mean? This means that there is little to no correlation between our features and our product. In the sense of the data's source, Dota 2, this makes sense. As for the MSE, the model observed values that were far from the actual ones. See below for my explanation."
      ],
      "metadata": {
        "id": "-ESpU5AApW6l"
      }
    },
    {
      "cell_type": "markdown",
      "source": [
        "## **A IMPORTANT Note on Dota 2**\n",
        "\n",
        "Dota 2 is a video game played by unpredictable humans. There is plenty of logic to Dota 2 and the way it is played, including logic to what heroes buy what items. However, this is often defined by what's called the 'meta.' Meta is, put simply: what's the best thing to do and what are most people doing? The best thing and what most people do are not always the same, but generally are very alike. The issue with this data is that it is from public matches, i.e. matches played casually by millions of people. Everyone has a different idea of what to do, what to buy, how to get gold, kills, and a skill level that in many may is a causal factor of the mentioned statistics. If this data set were purely professional match data, the trends would become clearer. Roles are more understood and the responsabilities of each role, including what each player (hero) buys is is clear; lines are far less blurred than they are in public matches. However, there are some aspects of the game which remain constant. The majority of games are close at first, then as the game progresses one team gains a substantial lead in gold. This is reflected in items. Thus, while predicting a hero based on items may be like searching for a needle in a haystack, I think we would get better results if we wanted to predict if a player would *win* based on their items. Let's explore this below. **Source and credibility goes to my many hundreds of hours playing this game growing up!"
      ],
      "metadata": {
        "id": "hn_ERuumqNNl"
      }
    },
    {
      "cell_type": "markdown",
      "source": [
        "## **Question 2.5 - Data Setup!**"
      ],
      "metadata": {
        "id": "2k-fF4t-rWTq"
      }
    },
    {
      "cell_type": "code",
      "source": [
        "# we need a dataset with rad_win (match, binary), item_id (item_ids, continuous), hero_id (player, continuous),  item_slot_0 (player, continuous), \n",
        "# item_slot_1 (player, continuous), item_slot_2 (player, continuous), item_slot_3 (player, continuous), item_slot_4 (player, continuous), item_slot_5 (player, continuous).\n",
        "# We can re-use the dataset used in question 2.\n",
        "\n",
        "data = q2_data.drop('time', axis=1)"
      ],
      "metadata": {
        "id": "i0cFu26WrZMj"
      },
      "execution_count": null,
      "outputs": []
    },
    {
      "cell_type": "code",
      "source": [
        "data.head()"
      ],
      "metadata": {
        "colab": {
          "base_uri": "https://localhost:8080/",
          "height": 206
        },
        "id": "PpsDG32otYSQ",
        "outputId": "8cf8561f-f87f-4ef3-ef72-600978d53c71"
      },
      "execution_count": null,
      "outputs": [
        {
          "output_type": "execute_result",
          "data": {
            "text/plain": [
              "   index  item_id  hero_id  item_0  item_1  item_2  item_3  item_4  item_5\n",
              "0      0       44     86.0   180.0    37.0    73.0    56.0   108.0     0.0\n",
              "1      1       29     51.0    46.0    63.0   119.0   102.0    24.0   108.0\n",
              "2      2       43     83.0    48.0    60.0    59.0   108.0    65.0     0.0\n",
              "3      3       84     11.0    63.0   147.0   154.0   164.0    79.0   160.0\n",
              "4      4       46     67.0   114.0    92.0   147.0     0.0   137.0    63.0"
            ],
            "text/html": [
              "\n",
              "  <div id=\"df-85d59060-b796-4852-99c1-541f11e68f14\">\n",
              "    <div class=\"colab-df-container\">\n",
              "      <div>\n",
              "<style scoped>\n",
              "    .dataframe tbody tr th:only-of-type {\n",
              "        vertical-align: middle;\n",
              "    }\n",
              "\n",
              "    .dataframe tbody tr th {\n",
              "        vertical-align: top;\n",
              "    }\n",
              "\n",
              "    .dataframe thead th {\n",
              "        text-align: right;\n",
              "    }\n",
              "</style>\n",
              "<table border=\"1\" class=\"dataframe\">\n",
              "  <thead>\n",
              "    <tr style=\"text-align: right;\">\n",
              "      <th></th>\n",
              "      <th>index</th>\n",
              "      <th>item_id</th>\n",
              "      <th>hero_id</th>\n",
              "      <th>item_0</th>\n",
              "      <th>item_1</th>\n",
              "      <th>item_2</th>\n",
              "      <th>item_3</th>\n",
              "      <th>item_4</th>\n",
              "      <th>item_5</th>\n",
              "    </tr>\n",
              "  </thead>\n",
              "  <tbody>\n",
              "    <tr>\n",
              "      <th>0</th>\n",
              "      <td>0</td>\n",
              "      <td>44</td>\n",
              "      <td>86.0</td>\n",
              "      <td>180.0</td>\n",
              "      <td>37.0</td>\n",
              "      <td>73.0</td>\n",
              "      <td>56.0</td>\n",
              "      <td>108.0</td>\n",
              "      <td>0.0</td>\n",
              "    </tr>\n",
              "    <tr>\n",
              "      <th>1</th>\n",
              "      <td>1</td>\n",
              "      <td>29</td>\n",
              "      <td>51.0</td>\n",
              "      <td>46.0</td>\n",
              "      <td>63.0</td>\n",
              "      <td>119.0</td>\n",
              "      <td>102.0</td>\n",
              "      <td>24.0</td>\n",
              "      <td>108.0</td>\n",
              "    </tr>\n",
              "    <tr>\n",
              "      <th>2</th>\n",
              "      <td>2</td>\n",
              "      <td>43</td>\n",
              "      <td>83.0</td>\n",
              "      <td>48.0</td>\n",
              "      <td>60.0</td>\n",
              "      <td>59.0</td>\n",
              "      <td>108.0</td>\n",
              "      <td>65.0</td>\n",
              "      <td>0.0</td>\n",
              "    </tr>\n",
              "    <tr>\n",
              "      <th>3</th>\n",
              "      <td>3</td>\n",
              "      <td>84</td>\n",
              "      <td>11.0</td>\n",
              "      <td>63.0</td>\n",
              "      <td>147.0</td>\n",
              "      <td>154.0</td>\n",
              "      <td>164.0</td>\n",
              "      <td>79.0</td>\n",
              "      <td>160.0</td>\n",
              "    </tr>\n",
              "    <tr>\n",
              "      <th>4</th>\n",
              "      <td>4</td>\n",
              "      <td>46</td>\n",
              "      <td>67.0</td>\n",
              "      <td>114.0</td>\n",
              "      <td>92.0</td>\n",
              "      <td>147.0</td>\n",
              "      <td>0.0</td>\n",
              "      <td>137.0</td>\n",
              "      <td>63.0</td>\n",
              "    </tr>\n",
              "  </tbody>\n",
              "</table>\n",
              "</div>\n",
              "      <button class=\"colab-df-convert\" onclick=\"convertToInteractive('df-85d59060-b796-4852-99c1-541f11e68f14')\"\n",
              "              title=\"Convert this dataframe to an interactive table.\"\n",
              "              style=\"display:none;\">\n",
              "        \n",
              "  <svg xmlns=\"http://www.w3.org/2000/svg\" height=\"24px\"viewBox=\"0 0 24 24\"\n",
              "       width=\"24px\">\n",
              "    <path d=\"M0 0h24v24H0V0z\" fill=\"none\"/>\n",
              "    <path d=\"M18.56 5.44l.94 2.06.94-2.06 2.06-.94-2.06-.94-.94-2.06-.94 2.06-2.06.94zm-11 1L8.5 8.5l.94-2.06 2.06-.94-2.06-.94L8.5 2.5l-.94 2.06-2.06.94zm10 10l.94 2.06.94-2.06 2.06-.94-2.06-.94-.94-2.06-.94 2.06-2.06.94z\"/><path d=\"M17.41 7.96l-1.37-1.37c-.4-.4-.92-.59-1.43-.59-.52 0-1.04.2-1.43.59L10.3 9.45l-7.72 7.72c-.78.78-.78 2.05 0 2.83L4 21.41c.39.39.9.59 1.41.59.51 0 1.02-.2 1.41-.59l7.78-7.78 2.81-2.81c.8-.78.8-2.07 0-2.86zM5.41 20L4 18.59l7.72-7.72 1.47 1.35L5.41 20z\"/>\n",
              "  </svg>\n",
              "      </button>\n",
              "      \n",
              "  <style>\n",
              "    .colab-df-container {\n",
              "      display:flex;\n",
              "      flex-wrap:wrap;\n",
              "      gap: 12px;\n",
              "    }\n",
              "\n",
              "    .colab-df-convert {\n",
              "      background-color: #E8F0FE;\n",
              "      border: none;\n",
              "      border-radius: 50%;\n",
              "      cursor: pointer;\n",
              "      display: none;\n",
              "      fill: #1967D2;\n",
              "      height: 32px;\n",
              "      padding: 0 0 0 0;\n",
              "      width: 32px;\n",
              "    }\n",
              "\n",
              "    .colab-df-convert:hover {\n",
              "      background-color: #E2EBFA;\n",
              "      box-shadow: 0px 1px 2px rgba(60, 64, 67, 0.3), 0px 1px 3px 1px rgba(60, 64, 67, 0.15);\n",
              "      fill: #174EA6;\n",
              "    }\n",
              "\n",
              "    [theme=dark] .colab-df-convert {\n",
              "      background-color: #3B4455;\n",
              "      fill: #D2E3FC;\n",
              "    }\n",
              "\n",
              "    [theme=dark] .colab-df-convert:hover {\n",
              "      background-color: #434B5C;\n",
              "      box-shadow: 0px 1px 3px 1px rgba(0, 0, 0, 0.15);\n",
              "      filter: drop-shadow(0px 1px 2px rgba(0, 0, 0, 0.3));\n",
              "      fill: #FFFFFF;\n",
              "    }\n",
              "  </style>\n",
              "\n",
              "      <script>\n",
              "        const buttonEl =\n",
              "          document.querySelector('#df-85d59060-b796-4852-99c1-541f11e68f14 button.colab-df-convert');\n",
              "        buttonEl.style.display =\n",
              "          google.colab.kernel.accessAllowed ? 'block' : 'none';\n",
              "\n",
              "        async function convertToInteractive(key) {\n",
              "          const element = document.querySelector('#df-85d59060-b796-4852-99c1-541f11e68f14');\n",
              "          const dataTable =\n",
              "            await google.colab.kernel.invokeFunction('convertToInteractive',\n",
              "                                                     [key], {});\n",
              "          if (!dataTable) return;\n",
              "\n",
              "          const docLinkHtml = 'Like what you see? Visit the ' +\n",
              "            '<a target=\"_blank\" href=https://colab.research.google.com/notebooks/data_table.ipynb>data table notebook</a>'\n",
              "            + ' to learn more about interactive tables.';\n",
              "          element.innerHTML = '';\n",
              "          dataTable['output_type'] = 'display_data';\n",
              "          await google.colab.output.renderOutput(dataTable, element);\n",
              "          const docLink = document.createElement('div');\n",
              "          docLink.innerHTML = docLinkHtml;\n",
              "          element.appendChild(docLink);\n",
              "        }\n",
              "      </script>\n",
              "    </div>\n",
              "  </div>\n",
              "  "
            ]
          },
          "metadata": {},
          "execution_count": 45
        }
      ]
    },
    {
      "cell_type": "code",
      "source": [
        "q2_5_data = create_secondary_dataframe([purchase_log, player_data], {0: ['item_id', 'player_slot', 'match_id'], 1: ['item_0', 'item_1', 'item_2', 'item_3', 'item_4', 'item_5']}, False) # since we have two columns called 'match_id' we can't overide\n",
        "q2_5_data.head()"
      ],
      "metadata": {
        "colab": {
          "base_uri": "https://localhost:8080/",
          "height": 206
        },
        "id": "YcpxHHmIvbJq",
        "outputId": "92095ed0-7db5-4a23-f03d-12ffc16abb6d"
      },
      "execution_count": null,
      "outputs": [
        {
          "output_type": "execute_result",
          "data": {
            "text/plain": [
              "   item_id  player_slot  match_id  item_0  item_1  item_2  item_3  item_4  \\\n",
              "0       44            0         0   180.0    37.0    73.0    56.0   108.0   \n",
              "1       29            0         0    46.0    63.0   119.0   102.0    24.0   \n",
              "2       43            0         0    48.0    60.0    59.0   108.0    65.0   \n",
              "3       84            0         0    63.0   147.0   154.0   164.0    79.0   \n",
              "4       46            0         0   114.0    92.0   147.0     0.0   137.0   \n",
              "\n",
              "   item_5  \n",
              "0     0.0  \n",
              "1   108.0  \n",
              "2     0.0  \n",
              "3   160.0  \n",
              "4    63.0  "
            ],
            "text/html": [
              "\n",
              "  <div id=\"df-28efab3f-342e-4b03-9ac4-f5bcdf03ea91\">\n",
              "    <div class=\"colab-df-container\">\n",
              "      <div>\n",
              "<style scoped>\n",
              "    .dataframe tbody tr th:only-of-type {\n",
              "        vertical-align: middle;\n",
              "    }\n",
              "\n",
              "    .dataframe tbody tr th {\n",
              "        vertical-align: top;\n",
              "    }\n",
              "\n",
              "    .dataframe thead th {\n",
              "        text-align: right;\n",
              "    }\n",
              "</style>\n",
              "<table border=\"1\" class=\"dataframe\">\n",
              "  <thead>\n",
              "    <tr style=\"text-align: right;\">\n",
              "      <th></th>\n",
              "      <th>item_id</th>\n",
              "      <th>player_slot</th>\n",
              "      <th>match_id</th>\n",
              "      <th>item_0</th>\n",
              "      <th>item_1</th>\n",
              "      <th>item_2</th>\n",
              "      <th>item_3</th>\n",
              "      <th>item_4</th>\n",
              "      <th>item_5</th>\n",
              "    </tr>\n",
              "  </thead>\n",
              "  <tbody>\n",
              "    <tr>\n",
              "      <th>0</th>\n",
              "      <td>44</td>\n",
              "      <td>0</td>\n",
              "      <td>0</td>\n",
              "      <td>180.0</td>\n",
              "      <td>37.0</td>\n",
              "      <td>73.0</td>\n",
              "      <td>56.0</td>\n",
              "      <td>108.0</td>\n",
              "      <td>0.0</td>\n",
              "    </tr>\n",
              "    <tr>\n",
              "      <th>1</th>\n",
              "      <td>29</td>\n",
              "      <td>0</td>\n",
              "      <td>0</td>\n",
              "      <td>46.0</td>\n",
              "      <td>63.0</td>\n",
              "      <td>119.0</td>\n",
              "      <td>102.0</td>\n",
              "      <td>24.0</td>\n",
              "      <td>108.0</td>\n",
              "    </tr>\n",
              "    <tr>\n",
              "      <th>2</th>\n",
              "      <td>43</td>\n",
              "      <td>0</td>\n",
              "      <td>0</td>\n",
              "      <td>48.0</td>\n",
              "      <td>60.0</td>\n",
              "      <td>59.0</td>\n",
              "      <td>108.0</td>\n",
              "      <td>65.0</td>\n",
              "      <td>0.0</td>\n",
              "    </tr>\n",
              "    <tr>\n",
              "      <th>3</th>\n",
              "      <td>84</td>\n",
              "      <td>0</td>\n",
              "      <td>0</td>\n",
              "      <td>63.0</td>\n",
              "      <td>147.0</td>\n",
              "      <td>154.0</td>\n",
              "      <td>164.0</td>\n",
              "      <td>79.0</td>\n",
              "      <td>160.0</td>\n",
              "    </tr>\n",
              "    <tr>\n",
              "      <th>4</th>\n",
              "      <td>46</td>\n",
              "      <td>0</td>\n",
              "      <td>0</td>\n",
              "      <td>114.0</td>\n",
              "      <td>92.0</td>\n",
              "      <td>147.0</td>\n",
              "      <td>0.0</td>\n",
              "      <td>137.0</td>\n",
              "      <td>63.0</td>\n",
              "    </tr>\n",
              "  </tbody>\n",
              "</table>\n",
              "</div>\n",
              "      <button class=\"colab-df-convert\" onclick=\"convertToInteractive('df-28efab3f-342e-4b03-9ac4-f5bcdf03ea91')\"\n",
              "              title=\"Convert this dataframe to an interactive table.\"\n",
              "              style=\"display:none;\">\n",
              "        \n",
              "  <svg xmlns=\"http://www.w3.org/2000/svg\" height=\"24px\"viewBox=\"0 0 24 24\"\n",
              "       width=\"24px\">\n",
              "    <path d=\"M0 0h24v24H0V0z\" fill=\"none\"/>\n",
              "    <path d=\"M18.56 5.44l.94 2.06.94-2.06 2.06-.94-2.06-.94-.94-2.06-.94 2.06-2.06.94zm-11 1L8.5 8.5l.94-2.06 2.06-.94-2.06-.94L8.5 2.5l-.94 2.06-2.06.94zm10 10l.94 2.06.94-2.06 2.06-.94-2.06-.94-.94-2.06-.94 2.06-2.06.94z\"/><path d=\"M17.41 7.96l-1.37-1.37c-.4-.4-.92-.59-1.43-.59-.52 0-1.04.2-1.43.59L10.3 9.45l-7.72 7.72c-.78.78-.78 2.05 0 2.83L4 21.41c.39.39.9.59 1.41.59.51 0 1.02-.2 1.41-.59l7.78-7.78 2.81-2.81c.8-.78.8-2.07 0-2.86zM5.41 20L4 18.59l7.72-7.72 1.47 1.35L5.41 20z\"/>\n",
              "  </svg>\n",
              "      </button>\n",
              "      \n",
              "  <style>\n",
              "    .colab-df-container {\n",
              "      display:flex;\n",
              "      flex-wrap:wrap;\n",
              "      gap: 12px;\n",
              "    }\n",
              "\n",
              "    .colab-df-convert {\n",
              "      background-color: #E8F0FE;\n",
              "      border: none;\n",
              "      border-radius: 50%;\n",
              "      cursor: pointer;\n",
              "      display: none;\n",
              "      fill: #1967D2;\n",
              "      height: 32px;\n",
              "      padding: 0 0 0 0;\n",
              "      width: 32px;\n",
              "    }\n",
              "\n",
              "    .colab-df-convert:hover {\n",
              "      background-color: #E2EBFA;\n",
              "      box-shadow: 0px 1px 2px rgba(60, 64, 67, 0.3), 0px 1px 3px 1px rgba(60, 64, 67, 0.15);\n",
              "      fill: #174EA6;\n",
              "    }\n",
              "\n",
              "    [theme=dark] .colab-df-convert {\n",
              "      background-color: #3B4455;\n",
              "      fill: #D2E3FC;\n",
              "    }\n",
              "\n",
              "    [theme=dark] .colab-df-convert:hover {\n",
              "      background-color: #434B5C;\n",
              "      box-shadow: 0px 1px 3px 1px rgba(0, 0, 0, 0.15);\n",
              "      filter: drop-shadow(0px 1px 2px rgba(0, 0, 0, 0.3));\n",
              "      fill: #FFFFFF;\n",
              "    }\n",
              "  </style>\n",
              "\n",
              "      <script>\n",
              "        const buttonEl =\n",
              "          document.querySelector('#df-28efab3f-342e-4b03-9ac4-f5bcdf03ea91 button.colab-df-convert');\n",
              "        buttonEl.style.display =\n",
              "          google.colab.kernel.accessAllowed ? 'block' : 'none';\n",
              "\n",
              "        async function convertToInteractive(key) {\n",
              "          const element = document.querySelector('#df-28efab3f-342e-4b03-9ac4-f5bcdf03ea91');\n",
              "          const dataTable =\n",
              "            await google.colab.kernel.invokeFunction('convertToInteractive',\n",
              "                                                     [key], {});\n",
              "          if (!dataTable) return;\n",
              "\n",
              "          const docLinkHtml = 'Like what you see? Visit the ' +\n",
              "            '<a target=\"_blank\" href=https://colab.research.google.com/notebooks/data_table.ipynb>data table notebook</a>'\n",
              "            + ' to learn more about interactive tables.';\n",
              "          element.innerHTML = '';\n",
              "          dataTable['output_type'] = 'display_data';\n",
              "          await google.colab.output.renderOutput(dataTable, element);\n",
              "          const docLink = document.createElement('div');\n",
              "          docLink.innerHTML = docLinkHtml;\n",
              "          element.appendChild(docLink);\n",
              "        }\n",
              "      </script>\n",
              "    </div>\n",
              "  </div>\n",
              "  "
            ]
          },
          "metadata": {},
          "execution_count": 46
        }
      ]
    },
    {
      "cell_type": "code",
      "source": [
        "q2_5_data.dropna(inplace=True)\n",
        "q2_5_data.reset_index(inplace=True)"
      ],
      "metadata": {
        "id": "blQ_Boqx806g"
      },
      "execution_count": null,
      "outputs": []
    },
    {
      "cell_type": "code",
      "source": [
        "q2_5_data = replace_col_by_conditions(q2_5_data, \"player_slot\", ['is_radiant'], [[0, 0], [0,4], [128, 132]], [1, 0], True)"
      ],
      "metadata": {
        "id": "B5tiO2q_8Pb1"
      },
      "execution_count": null,
      "outputs": []
    },
    {
      "cell_type": "markdown",
      "source": [
        "The below method has an awful execution time, but it is a necessary step. I am sure there is a more efficient way to do this, but this works! What this is doing is comparing values in one dataset to values in the other and manipulating data based on that comparison."
      ],
      "metadata": {
        "id": "_XnKjwmOzy3C"
      }
    },
    {
      "cell_type": "code",
      "source": [
        "q2_5_data['won_game'] = 0\n",
        "for index in range(q2_5_data.shape[0]):\n",
        "  curr_match = q2_5_data['match_id'].iloc[index]\n",
        "  for i in range(q2_5_data.shape[0]):\n",
        "    if match_data['match_id'].iloc[i] == curr_match:\n",
        "      if match_data['radiant_win'].iloc[i] == q2_5_data['is_radiant'].iloc[index]:\n",
        "        q2_5_data['won_game'].iloc[index] = 1\n",
        "      break"
      ],
      "metadata": {
        "id": "bpcldEDQ9FTh"
      },
      "execution_count": null,
      "outputs": []
    },
    {
      "cell_type": "code",
      "source": [
        "q2_5_data.drop(columns=['match_id', 'is_radiant'])"
      ],
      "metadata": {
        "colab": {
          "base_uri": "https://localhost:8080/",
          "height": 424
        },
        "id": "Vn5YzuFSAMfX",
        "outputId": "bf9840bd-4365-487b-a20b-04d2ba7e83ce"
      },
      "execution_count": null,
      "outputs": [
        {
          "output_type": "execute_result",
          "data": {
            "text/plain": [
              "       index  item_id  item_0  item_1  item_2  item_3  item_4  item_5  \\\n",
              "0          0       44   180.0    37.0    73.0    56.0   108.0     0.0   \n",
              "1          1       29    46.0    63.0   119.0   102.0    24.0   108.0   \n",
              "2          2       43    48.0    60.0    59.0   108.0    65.0     0.0   \n",
              "3          3       84    63.0   147.0   154.0   164.0    79.0   160.0   \n",
              "4          4       46   114.0    92.0   147.0     0.0   137.0    63.0   \n",
              "...      ...      ...     ...     ...     ...     ...     ...     ...   \n",
              "99045  99045       46   145.0   158.0   172.0    63.0   247.0   114.0   \n",
              "99046  99046       27   160.0   123.0    63.0   249.0    36.0   143.0   \n",
              "99047  99047       46    63.0   114.0   141.0   156.0     0.0   247.0   \n",
              "99048  99048       46    98.0   139.0   114.0   117.0    63.0   168.0   \n",
              "99049  99049      102     0.0     0.0     0.0     0.0     0.0     0.0   \n",
              "\n",
              "       won_game  \n",
              "0             1  \n",
              "1             1  \n",
              "2             1  \n",
              "3             1  \n",
              "4             1  \n",
              "...         ...  \n",
              "99045         1  \n",
              "99046         1  \n",
              "99047         1  \n",
              "99048         1  \n",
              "99049         1  \n",
              "\n",
              "[99050 rows x 9 columns]"
            ],
            "text/html": [
              "\n",
              "  <div id=\"df-94e5d3b9-e087-40d4-90f3-f650566749cb\">\n",
              "    <div class=\"colab-df-container\">\n",
              "      <div>\n",
              "<style scoped>\n",
              "    .dataframe tbody tr th:only-of-type {\n",
              "        vertical-align: middle;\n",
              "    }\n",
              "\n",
              "    .dataframe tbody tr th {\n",
              "        vertical-align: top;\n",
              "    }\n",
              "\n",
              "    .dataframe thead th {\n",
              "        text-align: right;\n",
              "    }\n",
              "</style>\n",
              "<table border=\"1\" class=\"dataframe\">\n",
              "  <thead>\n",
              "    <tr style=\"text-align: right;\">\n",
              "      <th></th>\n",
              "      <th>index</th>\n",
              "      <th>item_id</th>\n",
              "      <th>item_0</th>\n",
              "      <th>item_1</th>\n",
              "      <th>item_2</th>\n",
              "      <th>item_3</th>\n",
              "      <th>item_4</th>\n",
              "      <th>item_5</th>\n",
              "      <th>won_game</th>\n",
              "    </tr>\n",
              "  </thead>\n",
              "  <tbody>\n",
              "    <tr>\n",
              "      <th>0</th>\n",
              "      <td>0</td>\n",
              "      <td>44</td>\n",
              "      <td>180.0</td>\n",
              "      <td>37.0</td>\n",
              "      <td>73.0</td>\n",
              "      <td>56.0</td>\n",
              "      <td>108.0</td>\n",
              "      <td>0.0</td>\n",
              "      <td>1</td>\n",
              "    </tr>\n",
              "    <tr>\n",
              "      <th>1</th>\n",
              "      <td>1</td>\n",
              "      <td>29</td>\n",
              "      <td>46.0</td>\n",
              "      <td>63.0</td>\n",
              "      <td>119.0</td>\n",
              "      <td>102.0</td>\n",
              "      <td>24.0</td>\n",
              "      <td>108.0</td>\n",
              "      <td>1</td>\n",
              "    </tr>\n",
              "    <tr>\n",
              "      <th>2</th>\n",
              "      <td>2</td>\n",
              "      <td>43</td>\n",
              "      <td>48.0</td>\n",
              "      <td>60.0</td>\n",
              "      <td>59.0</td>\n",
              "      <td>108.0</td>\n",
              "      <td>65.0</td>\n",
              "      <td>0.0</td>\n",
              "      <td>1</td>\n",
              "    </tr>\n",
              "    <tr>\n",
              "      <th>3</th>\n",
              "      <td>3</td>\n",
              "      <td>84</td>\n",
              "      <td>63.0</td>\n",
              "      <td>147.0</td>\n",
              "      <td>154.0</td>\n",
              "      <td>164.0</td>\n",
              "      <td>79.0</td>\n",
              "      <td>160.0</td>\n",
              "      <td>1</td>\n",
              "    </tr>\n",
              "    <tr>\n",
              "      <th>4</th>\n",
              "      <td>4</td>\n",
              "      <td>46</td>\n",
              "      <td>114.0</td>\n",
              "      <td>92.0</td>\n",
              "      <td>147.0</td>\n",
              "      <td>0.0</td>\n",
              "      <td>137.0</td>\n",
              "      <td>63.0</td>\n",
              "      <td>1</td>\n",
              "    </tr>\n",
              "    <tr>\n",
              "      <th>...</th>\n",
              "      <td>...</td>\n",
              "      <td>...</td>\n",
              "      <td>...</td>\n",
              "      <td>...</td>\n",
              "      <td>...</td>\n",
              "      <td>...</td>\n",
              "      <td>...</td>\n",
              "      <td>...</td>\n",
              "      <td>...</td>\n",
              "    </tr>\n",
              "    <tr>\n",
              "      <th>99045</th>\n",
              "      <td>99045</td>\n",
              "      <td>46</td>\n",
              "      <td>145.0</td>\n",
              "      <td>158.0</td>\n",
              "      <td>172.0</td>\n",
              "      <td>63.0</td>\n",
              "      <td>247.0</td>\n",
              "      <td>114.0</td>\n",
              "      <td>1</td>\n",
              "    </tr>\n",
              "    <tr>\n",
              "      <th>99046</th>\n",
              "      <td>99046</td>\n",
              "      <td>27</td>\n",
              "      <td>160.0</td>\n",
              "      <td>123.0</td>\n",
              "      <td>63.0</td>\n",
              "      <td>249.0</td>\n",
              "      <td>36.0</td>\n",
              "      <td>143.0</td>\n",
              "      <td>1</td>\n",
              "    </tr>\n",
              "    <tr>\n",
              "      <th>99047</th>\n",
              "      <td>99047</td>\n",
              "      <td>46</td>\n",
              "      <td>63.0</td>\n",
              "      <td>114.0</td>\n",
              "      <td>141.0</td>\n",
              "      <td>156.0</td>\n",
              "      <td>0.0</td>\n",
              "      <td>247.0</td>\n",
              "      <td>1</td>\n",
              "    </tr>\n",
              "    <tr>\n",
              "      <th>99048</th>\n",
              "      <td>99048</td>\n",
              "      <td>46</td>\n",
              "      <td>98.0</td>\n",
              "      <td>139.0</td>\n",
              "      <td>114.0</td>\n",
              "      <td>117.0</td>\n",
              "      <td>63.0</td>\n",
              "      <td>168.0</td>\n",
              "      <td>1</td>\n",
              "    </tr>\n",
              "    <tr>\n",
              "      <th>99049</th>\n",
              "      <td>99049</td>\n",
              "      <td>102</td>\n",
              "      <td>0.0</td>\n",
              "      <td>0.0</td>\n",
              "      <td>0.0</td>\n",
              "      <td>0.0</td>\n",
              "      <td>0.0</td>\n",
              "      <td>0.0</td>\n",
              "      <td>1</td>\n",
              "    </tr>\n",
              "  </tbody>\n",
              "</table>\n",
              "<p>99050 rows × 9 columns</p>\n",
              "</div>\n",
              "      <button class=\"colab-df-convert\" onclick=\"convertToInteractive('df-94e5d3b9-e087-40d4-90f3-f650566749cb')\"\n",
              "              title=\"Convert this dataframe to an interactive table.\"\n",
              "              style=\"display:none;\">\n",
              "        \n",
              "  <svg xmlns=\"http://www.w3.org/2000/svg\" height=\"24px\"viewBox=\"0 0 24 24\"\n",
              "       width=\"24px\">\n",
              "    <path d=\"M0 0h24v24H0V0z\" fill=\"none\"/>\n",
              "    <path d=\"M18.56 5.44l.94 2.06.94-2.06 2.06-.94-2.06-.94-.94-2.06-.94 2.06-2.06.94zm-11 1L8.5 8.5l.94-2.06 2.06-.94-2.06-.94L8.5 2.5l-.94 2.06-2.06.94zm10 10l.94 2.06.94-2.06 2.06-.94-2.06-.94-.94-2.06-.94 2.06-2.06.94z\"/><path d=\"M17.41 7.96l-1.37-1.37c-.4-.4-.92-.59-1.43-.59-.52 0-1.04.2-1.43.59L10.3 9.45l-7.72 7.72c-.78.78-.78 2.05 0 2.83L4 21.41c.39.39.9.59 1.41.59.51 0 1.02-.2 1.41-.59l7.78-7.78 2.81-2.81c.8-.78.8-2.07 0-2.86zM5.41 20L4 18.59l7.72-7.72 1.47 1.35L5.41 20z\"/>\n",
              "  </svg>\n",
              "      </button>\n",
              "      \n",
              "  <style>\n",
              "    .colab-df-container {\n",
              "      display:flex;\n",
              "      flex-wrap:wrap;\n",
              "      gap: 12px;\n",
              "    }\n",
              "\n",
              "    .colab-df-convert {\n",
              "      background-color: #E8F0FE;\n",
              "      border: none;\n",
              "      border-radius: 50%;\n",
              "      cursor: pointer;\n",
              "      display: none;\n",
              "      fill: #1967D2;\n",
              "      height: 32px;\n",
              "      padding: 0 0 0 0;\n",
              "      width: 32px;\n",
              "    }\n",
              "\n",
              "    .colab-df-convert:hover {\n",
              "      background-color: #E2EBFA;\n",
              "      box-shadow: 0px 1px 2px rgba(60, 64, 67, 0.3), 0px 1px 3px 1px rgba(60, 64, 67, 0.15);\n",
              "      fill: #174EA6;\n",
              "    }\n",
              "\n",
              "    [theme=dark] .colab-df-convert {\n",
              "      background-color: #3B4455;\n",
              "      fill: #D2E3FC;\n",
              "    }\n",
              "\n",
              "    [theme=dark] .colab-df-convert:hover {\n",
              "      background-color: #434B5C;\n",
              "      box-shadow: 0px 1px 3px 1px rgba(0, 0, 0, 0.15);\n",
              "      filter: drop-shadow(0px 1px 2px rgba(0, 0, 0, 0.3));\n",
              "      fill: #FFFFFF;\n",
              "    }\n",
              "  </style>\n",
              "\n",
              "      <script>\n",
              "        const buttonEl =\n",
              "          document.querySelector('#df-94e5d3b9-e087-40d4-90f3-f650566749cb button.colab-df-convert');\n",
              "        buttonEl.style.display =\n",
              "          google.colab.kernel.accessAllowed ? 'block' : 'none';\n",
              "\n",
              "        async function convertToInteractive(key) {\n",
              "          const element = document.querySelector('#df-94e5d3b9-e087-40d4-90f3-f650566749cb');\n",
              "          const dataTable =\n",
              "            await google.colab.kernel.invokeFunction('convertToInteractive',\n",
              "                                                     [key], {});\n",
              "          if (!dataTable) return;\n",
              "\n",
              "          const docLinkHtml = 'Like what you see? Visit the ' +\n",
              "            '<a target=\"_blank\" href=https://colab.research.google.com/notebooks/data_table.ipynb>data table notebook</a>'\n",
              "            + ' to learn more about interactive tables.';\n",
              "          element.innerHTML = '';\n",
              "          dataTable['output_type'] = 'display_data';\n",
              "          await google.colab.output.renderOutput(dataTable, element);\n",
              "          const docLink = document.createElement('div');\n",
              "          docLink.innerHTML = docLinkHtml;\n",
              "          element.appendChild(docLink);\n",
              "        }\n",
              "      </script>\n",
              "    </div>\n",
              "  </div>\n",
              "  "
            ]
          },
          "metadata": {},
          "execution_count": 50
        }
      ]
    },
    {
      "cell_type": "markdown",
      "source": [
        "## **Question 2.5**\n",
        "\n",
        "Using linear regression, logistic regression, and KNN, which model best predicts whether a player will win based on the items they have at the end of the game?"
      ],
      "metadata": {
        "id": "mhPkRjphrGCu"
      }
    },
    {
      "cell_type": "code",
      "source": [
        "# setup\n",
        "predictors = ['item_0', 'item_1', 'item_2', 'item_3', 'item_4', 'item_5']\n",
        "product = ['won_game']\n",
        "\n",
        "X = q2_5_data[predictors]\n",
        "y = q2_5_data[product]\n",
        "\n",
        "X_train, X_test, y_train, y_test = train_test_split(X, y, test_size = 0.2)\n",
        "\n",
        "z = StandardScaler()\n",
        "z.fit(X_train)\n",
        "X_train = z.transform(X_train)\n",
        "X_test = z.transform(X_test)"
      ],
      "metadata": {
        "id": "5XjvEG3ZAt2T"
      },
      "execution_count": null,
      "outputs": []
    },
    {
      "cell_type": "code",
      "source": [
        "# Linear Regression\n",
        "lr = LinearRegression()\n",
        "lr.fit(X_train, y_train)\n",
        "\n",
        "results = {}\n",
        "results['model'] = lr\n",
        "results['preds'] = lr.predict(X_test)\n",
        "results['R2'] = r2_score(y_test, results['preds'])\n",
        "results['MSE'] = mean_squared_error(y_test, results['preds'])\n",
        "\n",
        "print(\"R^2 score: \" + str(results['R2']))\n",
        "print(\"MSE score: \" + str(results['MSE']))"
      ],
      "metadata": {
        "colab": {
          "base_uri": "https://localhost:8080/"
        },
        "id": "FkS7X234Ap1Q",
        "outputId": "203507ac-7ba2-4398-9f88-d0d7a0df35a3"
      },
      "execution_count": null,
      "outputs": [
        {
          "output_type": "stream",
          "name": "stdout",
          "text": [
            "R^2 score: -0.0002555875279997011\n",
            "MSE score: 0.2491029955901063\n"
          ]
        }
      ]
    },
    {
      "cell_type": "code",
      "source": [
        "linear_score = lr.score(X_test, y_test)"
      ],
      "metadata": {
        "id": "S4tLMB3Mhhx7"
      },
      "execution_count": null,
      "outputs": []
    },
    {
      "cell_type": "code",
      "source": [
        "# Logistic Regression\n",
        "lr = LogisticRegression()\n",
        "lr.fit(X_train, y_train)\n",
        "\n",
        "results['model'] = lr\n",
        "results['preds'] = lr.predict(X_test)\n",
        "results['R2'] = r2_score(y_test, results['preds'])\n",
        "results['MSE'] = mean_squared_error(y_test, results['preds'])\n",
        "\n",
        "print(\"R^2 score: \" + str(r2_score(y_test, lr.predict(X_test))))\n",
        "print(\"MSE score: \" + str( mean_squared_error(y_test, results['preds'])))"
      ],
      "metadata": {
        "colab": {
          "base_uri": "https://localhost:8080/"
        },
        "id": "I-g28RPdCEzq",
        "outputId": "e6cd5152-f4a6-4217-9046-33539b35e12f"
      },
      "execution_count": null,
      "outputs": [
        {
          "output_type": "stream",
          "name": "stdout",
          "text": [
            "R^2 score: -0.883258864911113\n",
            "MSE score: 0.4690055527511358\n"
          ]
        }
      ]
    },
    {
      "cell_type": "code",
      "source": [
        "logistic_score = lr.score(X_test, y_test)"
      ],
      "metadata": {
        "id": "9X9-hy7chucj"
      },
      "execution_count": null,
      "outputs": []
    },
    {
      "cell_type": "code",
      "source": [
        "plot_confusion_matrix(lr, X_test, y_test)"
      ],
      "metadata": {
        "colab": {
          "base_uri": "https://localhost:8080/",
          "height": 296
        },
        "id": "4vdyGGVVHKFd",
        "outputId": "cfd4d147-d905-4f9d-c561-27c5d32d0bdd"
      },
      "execution_count": null,
      "outputs": [
        {
          "output_type": "execute_result",
          "data": {
            "text/plain": [
              "<sklearn.metrics._plot.confusion_matrix.ConfusionMatrixDisplay at 0x7f18fd1af850>"
            ]
          },
          "metadata": {},
          "execution_count": 56
        },
        {
          "output_type": "display_data",
          "data": {
            "text/plain": [
              "<Figure size 432x288 with 2 Axes>"
            ],
            "image/png": "[encoded data removed]"
          },
          "metadata": {
            "needs_background": "light"
          }
        }
      ]
    },
    {
      "cell_type": "code",
      "source": [
        "# KNN\n",
        "knn = KNeighborsClassifier()\n",
        "ks = {'n_neighbors': range(1, 30)}\n",
        "\n",
        "grid = GridSearchCV(knn, ks, scoring='accuracy', cv=5)\n",
        "\n",
        "knnmod = grid.fit(X_train, y_train)"
      ],
      "metadata": {
        "id": "ALVfUlQyJDgw"
      },
      "execution_count": null,
      "outputs": []
    },
    {
      "cell_type": "code",
      "source": [
        "knn_score = knnmod.score(X_test, y_test)\n",
        "print(\"Best: \" + str(knnmod.best_score_))\n",
        "print(\"Score: \" + str(knnmod.score(X_test, y_test)))"
      ],
      "metadata": {
        "colab": {
          "base_uri": "https://localhost:8080/"
        },
        "id": "55DHWlS-JpaM",
        "outputId": "97a60e91-9db5-4343-d016-1fd71dfe57ac"
      },
      "execution_count": null,
      "outputs": [
        {
          "output_type": "stream",
          "name": "stdout",
          "text": [
            "Best: 0.5089601211509339\n",
            "Score: 0.508833922261484\n"
          ]
        }
      ]
    },
    {
      "cell_type": "code",
      "source": [
        "print(\"R^2: \" + str(r2_score(y_test, knnmod.predict(X_test))))\n",
        "print(\"MSE: \" + str(mean_squared_error(y_test, knnmod.predict(X_test))))"
      ],
      "metadata": {
        "colab": {
          "base_uri": "https://localhost:8080/"
        },
        "id": "JDDthrtl9Spp",
        "outputId": "5316faa9-d314-4213-a5be-b9eb3258ab9b"
      },
      "execution_count": null,
      "outputs": [
        {
          "output_type": "stream",
          "name": "stdout",
          "text": [
            "R^2: -0.970178214015393\n",
            "MSE: 0.4911660777385159\n"
          ]
        }
      ]
    },
    {
      "cell_type": "code",
      "source": [
        "plot_confusion_matrix(knnmod, X_test, y_test)"
      ],
      "metadata": {
        "colab": {
          "base_uri": "https://localhost:8080/",
          "height": 296
        },
        "id": "V3Ed9PqYJ7Sm",
        "outputId": "0ce30f64-a2b1-445e-9c97-44af1af5cd4f"
      },
      "execution_count": null,
      "outputs": [
        {
          "output_type": "execute_result",
          "data": {
            "text/plain": [
              "<sklearn.metrics._plot.confusion_matrix.ConfusionMatrixDisplay at 0x7f18fc815e90>"
            ]
          },
          "metadata": {},
          "execution_count": 94
        },
        {
          "output_type": "display_data",
          "data": {
            "text/plain": [
              "<Figure size 432x288 with 2 Axes>"
            ],
            "image/png": "[encoded data removed]"
          },
          "metadata": {
            "needs_background": "light"
          }
        }
      ]
    },
    {
      "cell_type": "code",
      "source": [
        "q2_model_data = pd.DataFrame({\"Set\": ['Linear Regression', 'Logistic Regression', 'KNN'], 'Value': [linear_score, logistic_score, knn_score]})"
      ],
      "metadata": {
        "id": "9pqIbJ-xhDL-"
      },
      "execution_count": null,
      "outputs": []
    },
    {
      "cell_type": "code",
      "source": [
        "(ggplot(q2_model_data, aes(x = \"Set\", y = \"Value\", fill = \"Set\")) +\n",
        "geom_bar(stat='identity') + theme_minimal() + \n",
        "labs(x = \"\",\n",
        "    y = \"Accuracy Score\",\n",
        "    title = \"Accuracy Performance by Model Type\") +\n",
        " theme(legend_position='none'))"
      ],
      "metadata": {
        "colab": {
          "base_uri": "https://localhost:8080/",
          "height": 482
        },
        "id": "qqg2hGOWiAgq",
        "outputId": "e9d844b8-7166-44f0-b980-3436eb5b2f82"
      },
      "execution_count": null,
      "outputs": [
        {
          "output_type": "display_data",
          "data": {
            "text/plain": [
              "<Figure size 640x480 with 1 Axes>"
            ],
            "image/png": "[encoded data removed]"
          },
          "metadata": {
            "needs_background": "light"
          }
        },
        {
          "output_type": "execute_result",
          "data": {
            "text/plain": [
              "<ggplot: (8734080753357)>"
            ]
          },
          "metadata": {},
          "execution_count": 84
        }
      ]
    },
    {
      "cell_type": "markdown",
      "source": [
        "From the above data we can see there is still pretty much no correlation between a heroes items at the end of the game and whether or not they won. This is shown in the R^2 score for both the linear and logistic models. Both of them are negative as well, meaning some variance in the data could not be understood. In earlier questions we found a much higher (lower?) negative score, indicating that far more variation could not be explained. At least we're getting somewhere, but there is still no realistic correlation. Our MSEs are fairly good however, as well as the accuracy score from our KNN model. This indicates that there is less of a different between our actual and predicted values. Although this seems like a conundrum: no correlation but decent ability to predict? I believe this is explained by the fact that some a player can win a game with a set of items and then lose the next one with the same set of items just as easily. This is, in many ways, the impact of player data. Thus, this furthers the idea that the ability to predict a victor is deceivingly difficult. However, what if we take into account variables that have less to do with the players themselves, and more to do with the makeup of the game?"
      ],
      "metadata": {
        "id": "fXiRh8eMCDNf"
      }
    },
    {
      "cell_type": "markdown",
      "source": [
        "## **Question 3 - Data Setup!**\n"
      ],
      "metadata": {
        "id": "xdCdWfsFOfOE"
      }
    },
    {
      "cell_type": "code",
      "source": [
        "q3_data = create_secondary_dataframe([match_data], {0: ['tower_status_radiant', 'tower_status_dire', 'barracks_status_radiant', 'barracks_status_dire', 'radiant_win']})\n",
        "q3_data.head(15)"
      ],
      "metadata": {
        "colab": {
          "base_uri": "https://localhost:8080/",
          "height": 520
        },
        "id": "VinxEraGOjYz",
        "outputId": "ce9a6d6d-d1dc-4556-da4d-464602c3eb46"
      },
      "execution_count": null,
      "outputs": [
        {
          "output_type": "execute_result",
          "data": {
            "text/plain": [
              "    tower_status_radiant  tower_status_dire  barracks_status_radiant  \\\n",
              "0                   1982                  4                       63   \n",
              "1                      0               1846                        0   \n",
              "2                    256               1972                       48   \n",
              "3                      4               1924                        3   \n",
              "4                   2047                  0                       63   \n",
              "5                   2047                  4                       63   \n",
              "6                   1972                  0                       63   \n",
              "7                   2046                  0                       63   \n",
              "8                      0               1982                        0   \n",
              "9                      0               1972                        0   \n",
              "10                  1983                262                       63   \n",
              "11                     0               1974                        0   \n",
              "12                     0               1796                        0   \n",
              "13                  1956                  6                       63   \n",
              "14                  2047                256                       63   \n",
              "\n",
              "    barracks_status_dire  radiant_win  \n",
              "0                      3         True  \n",
              "1                     63        False  \n",
              "2                     63        False  \n",
              "3                     51        False  \n",
              "4                      0         True  \n",
              "5                      3         True  \n",
              "6                      3         True  \n",
              "7                      0         True  \n",
              "8                     63        False  \n",
              "9                     63        False  \n",
              "10                    51         True  \n",
              "11                    63        False  \n",
              "12                    59        False  \n",
              "13                     3         True  \n",
              "14                    48         True  "
            ],
            "text/html": [
              "\n",
              "  <div id=\"df-34244c40-ef00-463d-9060-b330328d2d72\">\n",
              "    <div class=\"colab-df-container\">\n",
              "      <div>\n",
              "<style scoped>\n",
              "    .dataframe tbody tr th:only-of-type {\n",
              "        vertical-align: middle;\n",
              "    }\n",
              "\n",
              "    .dataframe tbody tr th {\n",
              "        vertical-align: top;\n",
              "    }\n",
              "\n",
              "    .dataframe thead th {\n",
              "        text-align: right;\n",
              "    }\n",
              "</style>\n",
              "<table border=\"1\" class=\"dataframe\">\n",
              "  <thead>\n",
              "    <tr style=\"text-align: right;\">\n",
              "      <th></th>\n",
              "      <th>tower_status_radiant</th>\n",
              "      <th>tower_status_dire</th>\n",
              "      <th>barracks_status_radiant</th>\n",
              "      <th>barracks_status_dire</th>\n",
              "      <th>radiant_win</th>\n",
              "    </tr>\n",
              "  </thead>\n",
              "  <tbody>\n",
              "    <tr>\n",
              "      <th>0</th>\n",
              "      <td>1982</td>\n",
              "      <td>4</td>\n",
              "      <td>63</td>\n",
              "      <td>3</td>\n",
              "      <td>True</td>\n",
              "    </tr>\n",
              "    <tr>\n",
              "      <th>1</th>\n",
              "      <td>0</td>\n",
              "      <td>1846</td>\n",
              "      <td>0</td>\n",
              "      <td>63</td>\n",
              "      <td>False</td>\n",
              "    </tr>\n",
              "    <tr>\n",
              "      <th>2</th>\n",
              "      <td>256</td>\n",
              "      <td>1972</td>\n",
              "      <td>48</td>\n",
              "      <td>63</td>\n",
              "      <td>False</td>\n",
              "    </tr>\n",
              "    <tr>\n",
              "      <th>3</th>\n",
              "      <td>4</td>\n",
              "      <td>1924</td>\n",
              "      <td>3</td>\n",
              "      <td>51</td>\n",
              "      <td>False</td>\n",
              "    </tr>\n",
              "    <tr>\n",
              "      <th>4</th>\n",
              "      <td>2047</td>\n",
              "      <td>0</td>\n",
              "      <td>63</td>\n",
              "      <td>0</td>\n",
              "      <td>True</td>\n",
              "    </tr>\n",
              "    <tr>\n",
              "      <th>5</th>\n",
              "      <td>2047</td>\n",
              "      <td>4</td>\n",
              "      <td>63</td>\n",
              "      <td>3</td>\n",
              "      <td>True</td>\n",
              "    </tr>\n",
              "    <tr>\n",
              "      <th>6</th>\n",
              "      <td>1972</td>\n",
              "      <td>0</td>\n",
              "      <td>63</td>\n",
              "      <td>3</td>\n",
              "      <td>True</td>\n",
              "    </tr>\n",
              "    <tr>\n",
              "      <th>7</th>\n",
              "      <td>2046</td>\n",
              "      <td>0</td>\n",
              "      <td>63</td>\n",
              "      <td>0</td>\n",
              "      <td>True</td>\n",
              "    </tr>\n",
              "    <tr>\n",
              "      <th>8</th>\n",
              "      <td>0</td>\n",
              "      <td>1982</td>\n",
              "      <td>0</td>\n",
              "      <td>63</td>\n",
              "      <td>False</td>\n",
              "    </tr>\n",
              "    <tr>\n",
              "      <th>9</th>\n",
              "      <td>0</td>\n",
              "      <td>1972</td>\n",
              "      <td>0</td>\n",
              "      <td>63</td>\n",
              "      <td>False</td>\n",
              "    </tr>\n",
              "    <tr>\n",
              "      <th>10</th>\n",
              "      <td>1983</td>\n",
              "      <td>262</td>\n",
              "      <td>63</td>\n",
              "      <td>51</td>\n",
              "      <td>True</td>\n",
              "    </tr>\n",
              "    <tr>\n",
              "      <th>11</th>\n",
              "      <td>0</td>\n",
              "      <td>1974</td>\n",
              "      <td>0</td>\n",
              "      <td>63</td>\n",
              "      <td>False</td>\n",
              "    </tr>\n",
              "    <tr>\n",
              "      <th>12</th>\n",
              "      <td>0</td>\n",
              "      <td>1796</td>\n",
              "      <td>0</td>\n",
              "      <td>59</td>\n",
              "      <td>False</td>\n",
              "    </tr>\n",
              "    <tr>\n",
              "      <th>13</th>\n",
              "      <td>1956</td>\n",
              "      <td>6</td>\n",
              "      <td>63</td>\n",
              "      <td>3</td>\n",
              "      <td>True</td>\n",
              "    </tr>\n",
              "    <tr>\n",
              "      <th>14</th>\n",
              "      <td>2047</td>\n",
              "      <td>256</td>\n",
              "      <td>63</td>\n",
              "      <td>48</td>\n",
              "      <td>True</td>\n",
              "    </tr>\n",
              "  </tbody>\n",
              "</table>\n",
              "</div>\n",
              "      <button class=\"colab-df-convert\" onclick=\"convertToInteractive('df-34244c40-ef00-463d-9060-b330328d2d72')\"\n",
              "              title=\"Convert this dataframe to an interactive table.\"\n",
              "              style=\"display:none;\">\n",
              "        \n",
              "  <svg xmlns=\"http://www.w3.org/2000/svg\" height=\"24px\"viewBox=\"0 0 24 24\"\n",
              "       width=\"24px\">\n",
              "    <path d=\"M0 0h24v24H0V0z\" fill=\"none\"/>\n",
              "    <path d=\"M18.56 5.44l.94 2.06.94-2.06 2.06-.94-2.06-.94-.94-2.06-.94 2.06-2.06.94zm-11 1L8.5 8.5l.94-2.06 2.06-.94-2.06-.94L8.5 2.5l-.94 2.06-2.06.94zm10 10l.94 2.06.94-2.06 2.06-.94-2.06-.94-.94-2.06-.94 2.06-2.06.94z\"/><path d=\"M17.41 7.96l-1.37-1.37c-.4-.4-.92-.59-1.43-.59-.52 0-1.04.2-1.43.59L10.3 9.45l-7.72 7.72c-.78.78-.78 2.05 0 2.83L4 21.41c.39.39.9.59 1.41.59.51 0 1.02-.2 1.41-.59l7.78-7.78 2.81-2.81c.8-.78.8-2.07 0-2.86zM5.41 20L4 18.59l7.72-7.72 1.47 1.35L5.41 20z\"/>\n",
              "  </svg>\n",
              "      </button>\n",
              "      \n",
              "  <style>\n",
              "    .colab-df-container {\n",
              "      display:flex;\n",
              "      flex-wrap:wrap;\n",
              "      gap: 12px;\n",
              "    }\n",
              "\n",
              "    .colab-df-convert {\n",
              "      background-color: #E8F0FE;\n",
              "      border: none;\n",
              "      border-radius: 50%;\n",
              "      cursor: pointer;\n",
              "      display: none;\n",
              "      fill: #1967D2;\n",
              "      height: 32px;\n",
              "      padding: 0 0 0 0;\n",
              "      width: 32px;\n",
              "    }\n",
              "\n",
              "    .colab-df-convert:hover {\n",
              "      background-color: #E2EBFA;\n",
              "      box-shadow: 0px 1px 2px rgba(60, 64, 67, 0.3), 0px 1px 3px 1px rgba(60, 64, 67, 0.15);\n",
              "      fill: #174EA6;\n",
              "    }\n",
              "\n",
              "    [theme=dark] .colab-df-convert {\n",
              "      background-color: #3B4455;\n",
              "      fill: #D2E3FC;\n",
              "    }\n",
              "\n",
              "    [theme=dark] .colab-df-convert:hover {\n",
              "      background-color: #434B5C;\n",
              "      box-shadow: 0px 1px 3px 1px rgba(0, 0, 0, 0.15);\n",
              "      filter: drop-shadow(0px 1px 2px rgba(0, 0, 0, 0.3));\n",
              "      fill: #FFFFFF;\n",
              "    }\n",
              "  </style>\n",
              "\n",
              "      <script>\n",
              "        const buttonEl =\n",
              "          document.querySelector('#df-34244c40-ef00-463d-9060-b330328d2d72 button.colab-df-convert');\n",
              "        buttonEl.style.display =\n",
              "          google.colab.kernel.accessAllowed ? 'block' : 'none';\n",
              "\n",
              "        async function convertToInteractive(key) {\n",
              "          const element = document.querySelector('#df-34244c40-ef00-463d-9060-b330328d2d72');\n",
              "          const dataTable =\n",
              "            await google.colab.kernel.invokeFunction('convertToInteractive',\n",
              "                                                     [key], {});\n",
              "          if (!dataTable) return;\n",
              "\n",
              "          const docLinkHtml = 'Like what you see? Visit the ' +\n",
              "            '<a target=\"_blank\" href=https://colab.research.google.com/notebooks/data_table.ipynb>data table notebook</a>'\n",
              "            + ' to learn more about interactive tables.';\n",
              "          element.innerHTML = '';\n",
              "          dataTable['output_type'] = 'display_data';\n",
              "          await google.colab.output.renderOutput(dataTable, element);\n",
              "          const docLink = document.createElement('div');\n",
              "          docLink.innerHTML = docLinkHtml;\n",
              "          element.appendChild(docLink);\n",
              "        }\n",
              "      </script>\n",
              "    </div>\n",
              "  </div>\n",
              "  "
            ]
          },
          "metadata": {},
          "execution_count": 62
        }
      ]
    },
    {
      "cell_type": "code",
      "source": [
        "q3_data.dropna(inplace=True)\n",
        "q3_data.reset_index(inplace=True)"
      ],
      "metadata": {
        "id": "tOf8v1ksUx-z"
      },
      "execution_count": null,
      "outputs": []
    },
    {
      "cell_type": "markdown",
      "source": [
        "## **Question 3**\n",
        "\n",
        "Predict whether radiant will win or not using tower_status_radiant, tower_status_dire, barracks_status_radiant, and barracks_status_dire. Implement a logistic regression model and decision tree and record accuracy and MSE using TTS model validation. How did tree depth affect the fit of the model? What do the accuracy and MSE scores tell you about the model? Furthermore, implement the method simTree(...) and compare accuracy scores at different depth restrictions.\n"
      ],
      "metadata": {
        "id": "K5hI1JWgQKQc"
      }
    },
    {
      "cell_type": "code",
      "source": [
        "# Setup\n",
        "predictors = ['tower_status_radiant', 'tower_status_dire', 'barracks_status_radiant', 'barracks_status_dire']\n",
        "product = 'radiant_win'\n",
        "\n",
        "X = q3_data[predictors]\n",
        "y = q3_data[product]\n",
        "y = y.astype('int')\n",
        "\n",
        "X_train, X_test, y_train, y_test = train_test_split(X, y, test_size = 0.2)\n",
        "\n",
        "z = StandardScaler()\n",
        "z.fit(X_train)\n",
        "X_train = z.transform(X_train)\n",
        "X_test = z.transform(X_test)"
      ],
      "metadata": {
        "id": "fyxtmAYCQ1he"
      },
      "execution_count": null,
      "outputs": []
    },
    {
      "cell_type": "code",
      "source": [
        "lr = LogisticRegression()\n",
        "lr.fit(X_train, y_train)\n",
        "\n",
        "results = {}\n",
        "results['model'] = lr\n",
        "results['preds'] = lr.predict(X_test)\n",
        "results['R2'] = r2_score(y_test, results['preds'])\n",
        "results['MSE'] = mean_squared_error(y_test, results['preds'])\n",
        "\n",
        "print(\"R^2 score: \" + str(r2_score(y_test, lr.predict(X_test))))\n",
        "print(\"MSE score: \" + str( mean_squared_error(y_test, results['preds'])))"
      ],
      "metadata": {
        "colab": {
          "base_uri": "https://localhost:8080/"
        },
        "id": "UX6BF8vUQMX9",
        "outputId": "29ffac5b-62a0-4524-9366-eab54c20d27a"
      },
      "execution_count": null,
      "outputs": [
        {
          "output_type": "stream",
          "name": "stdout",
          "text": [
            "R^2 score: 0.9683048181009499\n",
            "MSE score: 0.0079\n"
          ]
        }
      ]
    },
    {
      "cell_type": "markdown",
      "source": [
        "Wow! Well... that's great! Nearly marks across the board. But it doesn't feel... right, does it. The values for the predictors are actually integer representations of binary numbers which actually represent an integer between either 0-11 or 0-6. This begs the question of if the drastically larger numbers increased the mean, and thereby the standard deviation, by too much. Let's change it up and see if we get something different."
      ],
      "metadata": {
        "id": "5twECCYFSMq7"
      }
    },
    {
      "cell_type": "code",
      "source": [
        "# lets change it from tower_status_x to 'towers_alive_x', and do the same with barracks\n",
        "# run at your own risk!\n",
        "new_q3 = q3_data\n",
        "for index in range(int(new_q3.shape[0])):\n",
        "  t_alive_r = 0\n",
        "  t_alive_d = 0\n",
        "  b_alive_r = 0\n",
        "  b_alive_d = 0\n",
        "  for col in predictors:\n",
        "    bin_str = format(new_q3[col].iloc[index], 'b')\n",
        "    for n in bin_str:\n",
        "      if n == '1':\n",
        "        if col == 'tower_status_radiant':\n",
        "          t_alive_r += 1\n",
        "          new_q3[col].iloc[index] = t_alive_r\n",
        "        elif col == 'tower_status_dire':\n",
        "          t_alive_d += 1\n",
        "          new_q3[col].iloc[index] = t_alive_d\n",
        "        elif col == 'barracks_status_radiant':\n",
        "          b_alive_r += 1\n",
        "          new_q3[col].iloc[index] = b_alive_r\n",
        "        elif col == 'barracks_status_dire':\n",
        "          b_alive_d += 1\n",
        "          new_q3[col].iloc[index] = b_alive_d\n",
        "\n",
        "new_q3.head()"
      ],
      "metadata": {
        "colab": {
          "base_uri": "https://localhost:8080/",
          "height": 206
        },
        "id": "FqoLKKg1SXMy",
        "outputId": "efc54a75-1fe6-4abb-9ba3-cadc8fc625c7"
      },
      "execution_count": null,
      "outputs": [
        {
          "output_type": "execute_result",
          "data": {
            "text/plain": [
              "   index  tower_status_radiant  tower_status_dire  barracks_status_radiant  \\\n",
              "0      0                     9                  1                        6   \n",
              "1      1                     0                  7                        0   \n",
              "2      2                     1                  7                        2   \n",
              "3      3                     1                  5                        2   \n",
              "4      4                    11                  0                        6   \n",
              "\n",
              "   barracks_status_dire  radiant_win  \n",
              "0                     2         True  \n",
              "1                     6        False  \n",
              "2                     6        False  \n",
              "3                     4        False  \n",
              "4                     0         True  "
            ],
            "text/html": [
              "\n",
              "  <div id=\"df-294f9f05-e1f1-4a61-a1f1-6cdca86d2259\">\n",
              "    <div class=\"colab-df-container\">\n",
              "      <div>\n",
              "<style scoped>\n",
              "    .dataframe tbody tr th:only-of-type {\n",
              "        vertical-align: middle;\n",
              "    }\n",
              "\n",
              "    .dataframe tbody tr th {\n",
              "        vertical-align: top;\n",
              "    }\n",
              "\n",
              "    .dataframe thead th {\n",
              "        text-align: right;\n",
              "    }\n",
              "</style>\n",
              "<table border=\"1\" class=\"dataframe\">\n",
              "  <thead>\n",
              "    <tr style=\"text-align: right;\">\n",
              "      <th></th>\n",
              "      <th>index</th>\n",
              "      <th>tower_status_radiant</th>\n",
              "      <th>tower_status_dire</th>\n",
              "      <th>barracks_status_radiant</th>\n",
              "      <th>barracks_status_dire</th>\n",
              "      <th>radiant_win</th>\n",
              "    </tr>\n",
              "  </thead>\n",
              "  <tbody>\n",
              "    <tr>\n",
              "      <th>0</th>\n",
              "      <td>0</td>\n",
              "      <td>9</td>\n",
              "      <td>1</td>\n",
              "      <td>6</td>\n",
              "      <td>2</td>\n",
              "      <td>True</td>\n",
              "    </tr>\n",
              "    <tr>\n",
              "      <th>1</th>\n",
              "      <td>1</td>\n",
              "      <td>0</td>\n",
              "      <td>7</td>\n",
              "      <td>0</td>\n",
              "      <td>6</td>\n",
              "      <td>False</td>\n",
              "    </tr>\n",
              "    <tr>\n",
              "      <th>2</th>\n",
              "      <td>2</td>\n",
              "      <td>1</td>\n",
              "      <td>7</td>\n",
              "      <td>2</td>\n",
              "      <td>6</td>\n",
              "      <td>False</td>\n",
              "    </tr>\n",
              "    <tr>\n",
              "      <th>3</th>\n",
              "      <td>3</td>\n",
              "      <td>1</td>\n",
              "      <td>5</td>\n",
              "      <td>2</td>\n",
              "      <td>4</td>\n",
              "      <td>False</td>\n",
              "    </tr>\n",
              "    <tr>\n",
              "      <th>4</th>\n",
              "      <td>4</td>\n",
              "      <td>11</td>\n",
              "      <td>0</td>\n",
              "      <td>6</td>\n",
              "      <td>0</td>\n",
              "      <td>True</td>\n",
              "    </tr>\n",
              "  </tbody>\n",
              "</table>\n",
              "</div>\n",
              "      <button class=\"colab-df-convert\" onclick=\"convertToInteractive('df-294f9f05-e1f1-4a61-a1f1-6cdca86d2259')\"\n",
              "              title=\"Convert this dataframe to an interactive table.\"\n",
              "              style=\"display:none;\">\n",
              "        \n",
              "  <svg xmlns=\"http://www.w3.org/2000/svg\" height=\"24px\"viewBox=\"0 0 24 24\"\n",
              "       width=\"24px\">\n",
              "    <path d=\"M0 0h24v24H0V0z\" fill=\"none\"/>\n",
              "    <path d=\"M18.56 5.44l.94 2.06.94-2.06 2.06-.94-2.06-.94-.94-2.06-.94 2.06-2.06.94zm-11 1L8.5 8.5l.94-2.06 2.06-.94-2.06-.94L8.5 2.5l-.94 2.06-2.06.94zm10 10l.94 2.06.94-2.06 2.06-.94-2.06-.94-.94-2.06-.94 2.06-2.06.94z\"/><path d=\"M17.41 7.96l-1.37-1.37c-.4-.4-.92-.59-1.43-.59-.52 0-1.04.2-1.43.59L10.3 9.45l-7.72 7.72c-.78.78-.78 2.05 0 2.83L4 21.41c.39.39.9.59 1.41.59.51 0 1.02-.2 1.41-.59l7.78-7.78 2.81-2.81c.8-.78.8-2.07 0-2.86zM5.41 20L4 18.59l7.72-7.72 1.47 1.35L5.41 20z\"/>\n",
              "  </svg>\n",
              "      </button>\n",
              "      \n",
              "  <style>\n",
              "    .colab-df-container {\n",
              "      display:flex;\n",
              "      flex-wrap:wrap;\n",
              "      gap: 12px;\n",
              "    }\n",
              "\n",
              "    .colab-df-convert {\n",
              "      background-color: #E8F0FE;\n",
              "      border: none;\n",
              "      border-radius: 50%;\n",
              "      cursor: pointer;\n",
              "      display: none;\n",
              "      fill: #1967D2;\n",
              "      height: 32px;\n",
              "      padding: 0 0 0 0;\n",
              "      width: 32px;\n",
              "    }\n",
              "\n",
              "    .colab-df-convert:hover {\n",
              "      background-color: #E2EBFA;\n",
              "      box-shadow: 0px 1px 2px rgba(60, 64, 67, 0.3), 0px 1px 3px 1px rgba(60, 64, 67, 0.15);\n",
              "      fill: #174EA6;\n",
              "    }\n",
              "\n",
              "    [theme=dark] .colab-df-convert {\n",
              "      background-color: #3B4455;\n",
              "      fill: #D2E3FC;\n",
              "    }\n",
              "\n",
              "    [theme=dark] .colab-df-convert:hover {\n",
              "      background-color: #434B5C;\n",
              "      box-shadow: 0px 1px 3px 1px rgba(0, 0, 0, 0.15);\n",
              "      filter: drop-shadow(0px 1px 2px rgba(0, 0, 0, 0.3));\n",
              "      fill: #FFFFFF;\n",
              "    }\n",
              "  </style>\n",
              "\n",
              "      <script>\n",
              "        const buttonEl =\n",
              "          document.querySelector('#df-294f9f05-e1f1-4a61-a1f1-6cdca86d2259 button.colab-df-convert');\n",
              "        buttonEl.style.display =\n",
              "          google.colab.kernel.accessAllowed ? 'block' : 'none';\n",
              "\n",
              "        async function convertToInteractive(key) {\n",
              "          const element = document.querySelector('#df-294f9f05-e1f1-4a61-a1f1-6cdca86d2259');\n",
              "          const dataTable =\n",
              "            await google.colab.kernel.invokeFunction('convertToInteractive',\n",
              "                                                     [key], {});\n",
              "          if (!dataTable) return;\n",
              "\n",
              "          const docLinkHtml = 'Like what you see? Visit the ' +\n",
              "            '<a target=\"_blank\" href=https://colab.research.google.com/notebooks/data_table.ipynb>data table notebook</a>'\n",
              "            + ' to learn more about interactive tables.';\n",
              "          element.innerHTML = '';\n",
              "          dataTable['output_type'] = 'display_data';\n",
              "          await google.colab.output.renderOutput(dataTable, element);\n",
              "          const docLink = document.createElement('div');\n",
              "          docLink.innerHTML = docLinkHtml;\n",
              "          element.appendChild(docLink);\n",
              "        }\n",
              "      </script>\n",
              "    </div>\n",
              "  </div>\n",
              "  "
            ]
          },
          "metadata": {},
          "execution_count": 66
        }
      ]
    },
    {
      "cell_type": "code",
      "source": [
        "# new LR\n",
        "X = new_q3[predictors]\n",
        "y = new_q3[product]\n",
        "y = y.astype('int')\n",
        "\n",
        "X_train, X_test, y_train, y_test = train_test_split(X, y, test_size = 0.2)\n",
        "\n",
        "z = StandardScaler()\n",
        "z.fit(X_train)\n",
        "X_train = z.transform(X_train)\n",
        "X_test = z.transform(X_test)\n",
        "\n",
        "lr = LogisticRegression()\n",
        "lr.fit(X_train, y_train)\n",
        "\n",
        "results = {}\n",
        "results['model'] = lr\n",
        "results['preds'] = lr.predict(X_test)\n",
        "results['R2'] = r2_score(y_test, results['preds'])\n",
        "results['accuracy_score'] = accuracy_score(y_test, results['preds'])\n",
        "results['MSE'] = mean_squared_error(y_test, results['preds'])\n",
        "\n",
        "print(\"Accuracy score: \" + str(results['accuracy_score']))\n",
        "print(\"R^2 score: \" + str(results['R2']))\n",
        "print(\"MSE score: \" + str(results['MSE']))"
      ],
      "metadata": {
        "colab": {
          "base_uri": "https://localhost:8080/"
        },
        "id": "jMgeskKZWGyP",
        "outputId": "217899cf-97c4-4175-e0e3-f1aacdf41a47"
      },
      "execution_count": null,
      "outputs": [
        {
          "output_type": "stream",
          "name": "stdout",
          "text": [
            "Accuracy score: 0.9778\n",
            "R^2 score: 0.9110415792860558\n",
            "MSE score: 0.0222\n"
          ]
        }
      ]
    },
    {
      "cell_type": "markdown",
      "source": [
        "Similar scoring! This indicates that there is great correlation between the status of a teams buildings and whether or not they will win. This makes sense because the game cannot be won unless most of these buildings are destroyed. Furthermore, there are non-player-controlled units (NPCs) called *creeps* that constantly spawn and move to attack enemy buildings. Thus, these factors are a little more outside the impact of the players' item and hero decisions. "
      ],
      "metadata": {
        "id": "bglOtAWpWOUI"
      }
    },
    {
      "cell_type": "markdown",
      "source": [
        "The original LR model yielded an R^2 of 0.96 and an MSE of 0.01. This indicates that there is both great correlation between the variables and the product and that the predicted values are very close to the actual ones. Let's move on to the DTree."
      ],
      "metadata": {
        "id": "35OQAsW4W8k7"
      }
    },
    {
      "cell_type": "code",
      "source": [
        "# Decision tree, using the same TTS values\n",
        "tree = DecisionTreeClassifier()\n",
        "tree.fit(X_train, y_train)"
      ],
      "metadata": {
        "colab": {
          "base_uri": "https://localhost:8080/"
        },
        "id": "JNrJo9O9Xaas",
        "outputId": "e820418c-7fd4-4b40-9562-b03758bea1a9"
      },
      "execution_count": null,
      "outputs": [
        {
          "output_type": "execute_result",
          "data": {
            "text/plain": [
              "DecisionTreeClassifier()"
            ]
          },
          "metadata": {},
          "execution_count": 68
        }
      ]
    },
    {
      "cell_type": "code",
      "source": [
        "y_pred = tree.predict(X_test)\n",
        "\n",
        "dtree_acc = accuracy_score(y_pred, y_test)\n",
        "print(\"Accuracy: \" + str(dtree_acc))"
      ],
      "metadata": {
        "colab": {
          "base_uri": "https://localhost:8080/"
        },
        "id": "yv1zL335X-bW",
        "outputId": "571a63f8-7c4e-41ca-a8f7-a6698d6b2ea6"
      },
      "execution_count": null,
      "outputs": [
        {
          "output_type": "stream",
          "name": "stdout",
          "text": [
            "Accuracy: 0.9854\n"
          ]
        }
      ]
    },
    {
      "cell_type": "code",
      "source": [
        "dtree_mse = mean_squared_error(y_test, y_pred)\n",
        "print(\"MSE: \" + str(dtree_mse))"
      ],
      "metadata": {
        "colab": {
          "base_uri": "https://localhost:8080/"
        },
        "id": "qzulrcBQY7_z",
        "outputId": "17b6a120-c4f6-424a-9760-1d7191922cd9"
      },
      "execution_count": null,
      "outputs": [
        {
          "output_type": "stream",
          "name": "stdout",
          "text": [
            "MSE: 0.0146\n"
          ]
        }
      ]
    },
    {
      "cell_type": "code",
      "source": [
        "dtree_r2 = r2_score(y_test, y_pred)\n",
        "print(\"R^2: \" + str(dtree_r2))"
      ],
      "metadata": {
        "colab": {
          "base_uri": "https://localhost:8080/"
        },
        "id": "1qdWfYM0ZCus",
        "outputId": "62def2f6-075d-4e3d-b01b-34d75150204b"
      },
      "execution_count": null,
      "outputs": [
        {
          "output_type": "stream",
          "name": "stdout",
          "text": [
            "R^2: 0.941495813404343\n"
          ]
        }
      ]
    },
    {
      "cell_type": "code",
      "source": [
        "plot_confusion_matrix(tree,X_test,y_test)"
      ],
      "metadata": {
        "colab": {
          "base_uri": "https://localhost:8080/",
          "height": 296
        },
        "id": "_HZtTkbuYEEL",
        "outputId": "df6f9622-e10a-4067-ade3-77a758827c60"
      },
      "execution_count": null,
      "outputs": [
        {
          "output_type": "execute_result",
          "data": {
            "text/plain": [
              "<sklearn.metrics._plot.confusion_matrix.ConfusionMatrixDisplay at 0x7f18fd12be90>"
            ]
          },
          "metadata": {},
          "execution_count": 72
        },
        {
          "output_type": "display_data",
          "data": {
            "text/plain": [
              "<Figure size 432x288 with 2 Axes>"
            ],
            "image/png": "[encoded data removed]"
          },
          "metadata": {
            "needs_background": "light"
          }
        }
      ]
    },
    {
      "cell_type": "code",
      "source": [
        "lr_data = pd.DataFrame({\"Set\": ['Accuracy', 'MSE', 'R^2'], 'Value': [dtree_acc, dtree_mse, dtree_r2]})"
      ],
      "metadata": {
        "id": "qNHbrI41fKnm"
      },
      "execution_count": null,
      "outputs": []
    },
    {
      "cell_type": "code",
      "source": [
        "(ggplot(lr_data, aes(x = \"Set\", y = \"Value\", fill = \"Set\")) +\n",
        "geom_bar(stat='identity') + theme_minimal() + \n",
        "labs(x = \"\",\n",
        "    y = \"Value\",\n",
        "    title = \"Performance of Model Metrics\"))"
      ],
      "metadata": {
        "colab": {
          "base_uri": "https://localhost:8080/",
          "height": 482
        },
        "id": "jbvC15Kxf8DM",
        "outputId": "de9ffab6-ae5c-4444-92ad-327194482fad"
      },
      "execution_count": null,
      "outputs": [
        {
          "output_type": "display_data",
          "data": {
            "text/plain": [
              "<Figure size 640x480 with 1 Axes>"
            ],
            "image/png": "[encoded data removed]"
          },
          "metadata": {
            "needs_background": "light"
          }
        },
        {
          "output_type": "execute_result",
          "data": {
            "text/plain": [
              "<ggplot: (8734081328429)>"
            ]
          },
          "metadata": {},
          "execution_count": 74
        }
      ]
    },
    {
      "cell_type": "code",
      "source": [
        "# now lets make use of the sim_tree() function from class to test trees with other depth restrictions\n",
        "def simTree(X_train, y_train, X_test, y_test, n = 200, max_depth = \"none\"):\n",
        "    \n",
        "    # X = data[predictors]\n",
        "    # y = data[product]\n",
        "    # X_train, X_test, y_train, y_test = train_test_split(X,y, test_size = 0.2)\n",
        "\n",
        "    \n",
        "    #---build models------------------------------------\n",
        "    \n",
        "    # if there is no max depth, build regular tree\n",
        "    if max_depth == \"none\":\n",
        "        tree = DecisionTreeClassifier() \n",
        "        \n",
        "    # otherwise, set max_depth\n",
        "    else:\n",
        "        tree = DecisionTreeClassifier(max_depth = max_depth)\n",
        "        \n",
        "    tree.fit(X_train,y_train)\n",
        "    \n",
        "    \n",
        "    #---get training and test Accuracy---------------------\n",
        "    train_acc = accuracy_score(y_train,tree.predict(X_train))\n",
        "    test_acc = accuracy_score(y_test,tree.predict(X_test))\n",
        "\n",
        "    y_pred = tree.predict(X_test)\n",
        "    \n",
        "    return(pd.DataFrame({\"Set\": [\"Train\", \"Test\",],\n",
        "                        \"Depth\": [str(max_depth), str(max_depth)],\n",
        "                        \"Acc\": [train_acc,\n",
        "                               test_acc],\n",
        "                         \"MSE\": mean_squared_error(y_test, y_pred),\n",
        "                         \"R^2\": r2_score(y_test, y_pred)}))"
      ],
      "metadata": {
        "id": "d3aYDLSHZmkF"
      },
      "execution_count": null,
      "outputs": []
    },
    {
      "cell_type": "code",
      "source": [
        "sims = [simTree(X_train, y_train, X_test, y_test, n = 2000, max_depth = x) for x in np.repeat(range(2,10), 100)]\n",
        "sims = sims + [simTree(X_train, y_train, X_test, y_test, n = 2000, max_depth = \"none\") for i in range(0,100)]\n",
        "sims_df = pd.concat(sims)\n",
        "\n",
        "sims_df.head()"
      ],
      "metadata": {
        "colab": {
          "base_uri": "https://localhost:8080/",
          "height": 206
        },
        "id": "MYZxNAOIa-Xa",
        "outputId": "c8fac3c8-94a2-471f-ece0-9d96cd50870b"
      },
      "execution_count": null,
      "outputs": [
        {
          "output_type": "execute_result",
          "data": {
            "text/plain": [
              "     Set Depth     Acc     MSE       R^2\n",
              "0  Train     2  0.9736  0.0255  0.897818\n",
              "1   Test     2  0.9745  0.0255  0.897818\n",
              "0  Train     2  0.9736  0.0255  0.897818\n",
              "1   Test     2  0.9745  0.0255  0.897818\n",
              "0  Train     2  0.9736  0.0255  0.897818"
            ],
            "text/html": [
              "\n",
              "  <div id=\"df-9a223eb5-5e47-48b3-b962-9170b5948e94\">\n",
              "    <div class=\"colab-df-container\">\n",
              "      <div>\n",
              "<style scoped>\n",
              "    .dataframe tbody tr th:only-of-type {\n",
              "        vertical-align: middle;\n",
              "    }\n",
              "\n",
              "    .dataframe tbody tr th {\n",
              "        vertical-align: top;\n",
              "    }\n",
              "\n",
              "    .dataframe thead th {\n",
              "        text-align: right;\n",
              "    }\n",
              "</style>\n",
              "<table border=\"1\" class=\"dataframe\">\n",
              "  <thead>\n",
              "    <tr style=\"text-align: right;\">\n",
              "      <th></th>\n",
              "      <th>Set</th>\n",
              "      <th>Depth</th>\n",
              "      <th>Acc</th>\n",
              "      <th>MSE</th>\n",
              "      <th>R^2</th>\n",
              "    </tr>\n",
              "  </thead>\n",
              "  <tbody>\n",
              "    <tr>\n",
              "      <th>0</th>\n",
              "      <td>Train</td>\n",
              "      <td>2</td>\n",
              "      <td>0.9736</td>\n",
              "      <td>0.0255</td>\n",
              "      <td>0.897818</td>\n",
              "    </tr>\n",
              "    <tr>\n",
              "      <th>1</th>\n",
              "      <td>Test</td>\n",
              "      <td>2</td>\n",
              "      <td>0.9745</td>\n",
              "      <td>0.0255</td>\n",
              "      <td>0.897818</td>\n",
              "    </tr>\n",
              "    <tr>\n",
              "      <th>0</th>\n",
              "      <td>Train</td>\n",
              "      <td>2</td>\n",
              "      <td>0.9736</td>\n",
              "      <td>0.0255</td>\n",
              "      <td>0.897818</td>\n",
              "    </tr>\n",
              "    <tr>\n",
              "      <th>1</th>\n",
              "      <td>Test</td>\n",
              "      <td>2</td>\n",
              "      <td>0.9745</td>\n",
              "      <td>0.0255</td>\n",
              "      <td>0.897818</td>\n",
              "    </tr>\n",
              "    <tr>\n",
              "      <th>0</th>\n",
              "      <td>Train</td>\n",
              "      <td>2</td>\n",
              "      <td>0.9736</td>\n",
              "      <td>0.0255</td>\n",
              "      <td>0.897818</td>\n",
              "    </tr>\n",
              "  </tbody>\n",
              "</table>\n",
              "</div>\n",
              "      <button class=\"colab-df-convert\" onclick=\"convertToInteractive('df-9a223eb5-5e47-48b3-b962-9170b5948e94')\"\n",
              "              title=\"Convert this dataframe to an interactive table.\"\n",
              "              style=\"display:none;\">\n",
              "        \n",
              "  <svg xmlns=\"http://www.w3.org/2000/svg\" height=\"24px\"viewBox=\"0 0 24 24\"\n",
              "       width=\"24px\">\n",
              "    <path d=\"M0 0h24v24H0V0z\" fill=\"none\"/>\n",
              "    <path d=\"M18.56 5.44l.94 2.06.94-2.06 2.06-.94-2.06-.94-.94-2.06-.94 2.06-2.06.94zm-11 1L8.5 8.5l.94-2.06 2.06-.94-2.06-.94L8.5 2.5l-.94 2.06-2.06.94zm10 10l.94 2.06.94-2.06 2.06-.94-2.06-.94-.94-2.06-.94 2.06-2.06.94z\"/><path d=\"M17.41 7.96l-1.37-1.37c-.4-.4-.92-.59-1.43-.59-.52 0-1.04.2-1.43.59L10.3 9.45l-7.72 7.72c-.78.78-.78 2.05 0 2.83L4 21.41c.39.39.9.59 1.41.59.51 0 1.02-.2 1.41-.59l7.78-7.78 2.81-2.81c.8-.78.8-2.07 0-2.86zM5.41 20L4 18.59l7.72-7.72 1.47 1.35L5.41 20z\"/>\n",
              "  </svg>\n",
              "      </button>\n",
              "      \n",
              "  <style>\n",
              "    .colab-df-container {\n",
              "      display:flex;\n",
              "      flex-wrap:wrap;\n",
              "      gap: 12px;\n",
              "    }\n",
              "\n",
              "    .colab-df-convert {\n",
              "      background-color: #E8F0FE;\n",
              "      border: none;\n",
              "      border-radius: 50%;\n",
              "      cursor: pointer;\n",
              "      display: none;\n",
              "      fill: #1967D2;\n",
              "      height: 32px;\n",
              "      padding: 0 0 0 0;\n",
              "      width: 32px;\n",
              "    }\n",
              "\n",
              "    .colab-df-convert:hover {\n",
              "      background-color: #E2EBFA;\n",
              "      box-shadow: 0px 1px 2px rgba(60, 64, 67, 0.3), 0px 1px 3px 1px rgba(60, 64, 67, 0.15);\n",
              "      fill: #174EA6;\n",
              "    }\n",
              "\n",
              "    [theme=dark] .colab-df-convert {\n",
              "      background-color: #3B4455;\n",
              "      fill: #D2E3FC;\n",
              "    }\n",
              "\n",
              "    [theme=dark] .colab-df-convert:hover {\n",
              "      background-color: #434B5C;\n",
              "      box-shadow: 0px 1px 3px 1px rgba(0, 0, 0, 0.15);\n",
              "      filter: drop-shadow(0px 1px 2px rgba(0, 0, 0, 0.3));\n",
              "      fill: #FFFFFF;\n",
              "    }\n",
              "  </style>\n",
              "\n",
              "      <script>\n",
              "        const buttonEl =\n",
              "          document.querySelector('#df-9a223eb5-5e47-48b3-b962-9170b5948e94 button.colab-df-convert');\n",
              "        buttonEl.style.display =\n",
              "          google.colab.kernel.accessAllowed ? 'block' : 'none';\n",
              "\n",
              "        async function convertToInteractive(key) {\n",
              "          const element = document.querySelector('#df-9a223eb5-5e47-48b3-b962-9170b5948e94');\n",
              "          const dataTable =\n",
              "            await google.colab.kernel.invokeFunction('convertToInteractive',\n",
              "                                                     [key], {});\n",
              "          if (!dataTable) return;\n",
              "\n",
              "          const docLinkHtml = 'Like what you see? Visit the ' +\n",
              "            '<a target=\"_blank\" href=https://colab.research.google.com/notebooks/data_table.ipynb>data table notebook</a>'\n",
              "            + ' to learn more about interactive tables.';\n",
              "          element.innerHTML = '';\n",
              "          dataTable['output_type'] = 'display_data';\n",
              "          await google.colab.output.renderOutput(dataTable, element);\n",
              "          const docLink = document.createElement('div');\n",
              "          docLink.innerHTML = docLinkHtml;\n",
              "          element.appendChild(docLink);\n",
              "        }\n",
              "      </script>\n",
              "    </div>\n",
              "  </div>\n",
              "  "
            ]
          },
          "metadata": {},
          "execution_count": 76
        }
      ]
    },
    {
      "cell_type": "code",
      "source": [
        "(ggplot(sims_df, aes(x = \"Depth\", y = \"Acc\", fill = \"Set\")) +\n",
        "geom_point() + theme_minimal() + \n",
        "labs(x = \"Restriction on Depth of Tree\",\n",
        "    y = \"Accuracy\",\n",
        "    title = \"Accuracy Score vs Tree Depth\"))"
      ],
      "metadata": {
        "colab": {
          "base_uri": "https://localhost:8080/",
          "height": 503
        },
        "id": "PzkvMH2pcwVA",
        "outputId": "a81538d6-9dc9-4008-c928-c2a75ba42608"
      },
      "execution_count": null,
      "outputs": [
        {
          "output_type": "display_data",
          "data": {
            "text/plain": [
              "<Figure size 640x480 with 1 Axes>"
            ],
            "image/png": "[encoded data removed]"
          },
          "metadata": {
            "needs_background": "light"
          }
        },
        {
          "output_type": "execute_result",
          "data": {
            "text/plain": [
              "<ggplot: (8734081063941)>"
            ]
          },
          "metadata": {},
          "execution_count": 81
        }
      ]
    },
    {
      "cell_type": "code",
      "source": [
        "(ggplot(sims_df, aes(x = \"Depth\", y = \"MSE\", fill = \"Set\")) +\n",
        "geom_point() + theme_minimal() + \n",
        "labs(x = \"Restriction on Depth of Tree\",\n",
        "    y = \"MSE\",\n",
        "    title = \"MSE Score vs Tree Depth\"))"
      ],
      "metadata": {
        "colab": {
          "base_uri": "https://localhost:8080/",
          "height": 503
        },
        "id": "54RzLr59dS-r",
        "outputId": "5fd8e56b-4fee-4229-dc1e-31ed4aa10198"
      },
      "execution_count": null,
      "outputs": [
        {
          "output_type": "display_data",
          "data": {
            "text/plain": [
              "<Figure size 640x480 with 1 Axes>"
            ],
            "image/png": "[encoded data removed]"
          },
          "metadata": {
            "needs_background": "light"
          }
        },
        {
          "output_type": "execute_result",
          "data": {
            "text/plain": [
              "<ggplot: (8734081093569)>"
            ]
          },
          "metadata": {},
          "execution_count": 82
        }
      ]
    },
    {
      "cell_type": "code",
      "source": [
        "(ggplot(sims_df, aes(x = \"Depth\", y = \"R^2\", fill = \"Set\")) +\n",
        "geom_boxplot() + theme_minimal() + \n",
        "labs(x = \"Restriction on Depth of Tree\",\n",
        "    y = \"R^2\",\n",
        "    title = \"R^2 Score vs Tree Depth\"))"
      ],
      "metadata": {
        "colab": {
          "base_uri": "https://localhost:8080/",
          "height": 503
        },
        "id": "AhT1OJ0WdWsr",
        "outputId": "9b558f3f-8608-4b5c-afe0-382fb314283b"
      },
      "execution_count": null,
      "outputs": [
        {
          "output_type": "display_data",
          "data": {
            "text/plain": [
              "<Figure size 640x480 with 1 Axes>"
            ],
            "image/png": "[encoded data removed]"
          },
          "metadata": {
            "needs_background": "light"
          }
        },
        {
          "output_type": "execute_result",
          "data": {
            "text/plain": [
              "<ggplot: (8734081052937)>"
            ]
          },
          "metadata": {},
          "execution_count": 79
        }
      ]
    },
    {
      "cell_type": "markdown",
      "source": [
        "From the above graph, as well as the statistics, we can say with confidence that there is a direct correlation between buildings destroyed and whether or not a team will win. Tree depth is very important here, indicated in the graphs above. If the depth is too small, we get worse results. If the restriction is none, we get the best results. This makes sense given the nature of our data; at least 5 towers **must** be destroyed to win the game, and any other building destroyed becomes an increasingly good indication of victory. This means if the only decision compared whether a team had destroyed 5 buildings we would receive a decent accuracy rating, but any subsequent buildings destroyed, and thus more decisions (and depth) the greater the accuracy of the model. "
      ],
      "metadata": {
        "id": "TPUDudyGc3la"
      }
    },
    {
      "cell_type": "markdown",
      "source": [
        "## **One Final Note About Dota 2**\n",
        "This project has unveiled that in many ways humans are the greatest contributions to inconsistent data, especially in the context of a video game where anything goes. This is important because human nature is harder to predict in an environment where there are no consequences. This is demonstrated in this project. When it comes to things like objectives, however, given the context of NPC units which in all ways are always trying to *win* the game, more confident predictions can be made. "
      ],
      "metadata": {
        "id": "G7fyDk29ehk0"
      }
    }
  ]
}